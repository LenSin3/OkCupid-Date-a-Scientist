{
 "cells": [
  {
   "cell_type": "markdown",
   "metadata": {},
   "source": [
    "# Zodiac Sign Predictor\n",
    "\n",
    "Online dating is now a common trend in many countries across Europe and North America. This dating method is preferred over the traditional form because of many reasons including:\n",
    "\n",
    "- Secured communication\n",
    "- Option to scope a plethora of possible dating partners before actually dating\n",
    "- Meet people from different backgrounds\n",
    "- etc.\n",
    "\n",
    "In addition to some of the benefits outlined above, online dating is even made easier through the use of mobile apps for a minimum subscription and free in some platforms. Popular dating platforms like Tinder and Bumble require a monthly fee while OkCupid offers free use of its app.\n",
    "\n",
    "Using these apps comes with a bit of drawback as they require users to provide some personal details such as gender, sexual orientation, level of education, and sometimes brief essays. As this process can seem daunting, users sometimes fail to disclose some of these information. The apps algorithm perform better at suggesting dating partner when more data is provided by the user.\n",
    "\n",
    "In the light of the above, this project will employ Machine Learning to predict zodiac signs of users in online dating sites. The data used is from OkCupid, one of the free dating platforms. The names and identities of the users are not provided in the data set."
   ]
  },
  {
   "cell_type": "markdown",
   "metadata": {},
   "source": [
    "In order to effectively perform our analysis and run Machine Learning models, the following steps will be implemented:\n",
    "- Exploratory Data Analysis\n",
    "- Data Preprocessing\n",
    "- Machine Learning\n",
    "- Conclusion"
   ]
  },
  {
   "cell_type": "markdown",
   "metadata": {},
   "source": [
    "## Exploratory Data Analysis\n",
    "\n",
    "The below will be performed in this step:\n",
    "- Load data\n",
    "- Inspect all columns for data quality issues\n",
    "- Apply statistical analysis"
   ]
  },
  {
   "cell_type": "markdown",
   "metadata": {},
   "source": [
    "### Load Data\n",
    "\n",
    "Import all dependencies for EDA"
   ]
  },
  {
   "cell_type": "code",
   "execution_count": 34,
   "metadata": {},
   "outputs": [],
   "source": [
    "import pandas as pd\n",
    "import matplotlib.pyplot as plt\n",
    "import numpy as np"
   ]
  },
  {
   "cell_type": "code",
   "execution_count": 35,
   "metadata": {},
   "outputs": [],
   "source": [
    "pd.options.display.max_columns = 60\n",
    "pd.options.display.max_colwidth = 500"
   ]
  },
  {
   "cell_type": "code",
   "execution_count": 36,
   "metadata": {},
   "outputs": [
    {
     "name": "stdout",
     "output_type": "stream",
     "text": [
      "There 59946 rows in the data\n",
      "Index(['age', 'body_type', 'diet', 'drinks', 'drugs', 'education', 'essay0',\n",
      "       'essay1', 'essay2', 'essay3', 'essay4', 'essay5', 'essay6', 'essay7',\n",
      "       'essay8', 'essay9', 'ethnicity', 'height', 'income', 'job',\n",
      "       'last_online', 'location', 'offspring', 'orientation', 'pets',\n",
      "       'religion', 'sex', 'sign', 'smokes', 'speaks', 'status'],\n",
      "      dtype='object')\n"
     ]
    }
   ],
   "source": [
    "profiles = pd.read_csv('profiles.csv')\n",
    "print(f\"There {len(profiles)} rows in the data\")\n",
    "print(profiles.columns)"
   ]
  },
  {
   "cell_type": "code",
   "execution_count": 37,
   "metadata": {},
   "outputs": [
    {
     "data": {
      "text/html": [
       "<div>\n",
       "<style scoped>\n",
       "    .dataframe tbody tr th:only-of-type {\n",
       "        vertical-align: middle;\n",
       "    }\n",
       "\n",
       "    .dataframe tbody tr th {\n",
       "        vertical-align: top;\n",
       "    }\n",
       "\n",
       "    .dataframe thead th {\n",
       "        text-align: right;\n",
       "    }\n",
       "</style>\n",
       "<table border=\"1\" class=\"dataframe\">\n",
       "  <thead>\n",
       "    <tr style=\"text-align: right;\">\n",
       "      <th></th>\n",
       "      <th>age</th>\n",
       "      <th>body_type</th>\n",
       "      <th>diet</th>\n",
       "      <th>drinks</th>\n",
       "      <th>drugs</th>\n",
       "      <th>education</th>\n",
       "      <th>essay0</th>\n",
       "      <th>essay1</th>\n",
       "      <th>essay2</th>\n",
       "      <th>essay3</th>\n",
       "      <th>essay4</th>\n",
       "      <th>essay5</th>\n",
       "      <th>essay6</th>\n",
       "      <th>essay7</th>\n",
       "      <th>essay8</th>\n",
       "      <th>essay9</th>\n",
       "      <th>ethnicity</th>\n",
       "      <th>height</th>\n",
       "      <th>income</th>\n",
       "      <th>job</th>\n",
       "      <th>last_online</th>\n",
       "      <th>location</th>\n",
       "      <th>offspring</th>\n",
       "      <th>orientation</th>\n",
       "      <th>pets</th>\n",
       "      <th>religion</th>\n",
       "      <th>sex</th>\n",
       "      <th>sign</th>\n",
       "      <th>smokes</th>\n",
       "      <th>speaks</th>\n",
       "      <th>status</th>\n",
       "    </tr>\n",
       "  </thead>\n",
       "  <tbody>\n",
       "    <tr>\n",
       "      <th>0</th>\n",
       "      <td>22</td>\n",
       "      <td>a little extra</td>\n",
       "      <td>strictly anything</td>\n",
       "      <td>socially</td>\n",
       "      <td>never</td>\n",
       "      <td>working on college/university</td>\n",
       "      <td>about me:&lt;br /&gt;\\n&lt;br /&gt;\\ni would love to think that i was some some kind of intellectual:\\neither the dumbest smart guy, or the smartest dumb guy. can't say i\\ncan tell the difference. i love to talk about ideas and concepts. i\\nforge odd metaphors instead of reciting cliches. like the\\nsimularities between a friend of mine's house and an underwater\\nsalt mine. my favorite word is salt by the way (weird choice i\\nknow). to me most things in life are better as metaphors. i seek to\\nmake mysel...</td>\n",
       "      <td>currently working as an international agent for a freight\\nforwarding company. import, export, domestic you know the\\nworks.&lt;br /&gt;\\nonline classes and trying to better myself in my free time. perhaps\\na hours worth of a good book or a video game on a lazy sunday.</td>\n",
       "      <td>making people laugh.&lt;br /&gt;\\nranting about a good salting.&lt;br /&gt;\\nfinding simplicity in complexity, and complexity in simplicity.</td>\n",
       "      <td>the way i look. i am a six foot half asian, half caucasian mutt. it\\nmakes it tough not to notice me, and for me to blend in.</td>\n",
       "      <td>books:&lt;br /&gt;\\nabsurdistan, the republic, of mice and men (only book that made me\\nwant to cry), catcher in the rye, the prince.&lt;br /&gt;\\n&lt;br /&gt;\\nmovies:&lt;br /&gt;\\ngladiator, operation valkyrie, the producers, down periscope.&lt;br /&gt;\\n&lt;br /&gt;\\nshows:&lt;br /&gt;\\nthe borgia, arrested development, game of thrones, monty\\npython&lt;br /&gt;\\n&lt;br /&gt;\\nmusic:&lt;br /&gt;\\naesop rock, hail mary mallon, george thorogood and the delaware\\ndestroyers, felt&lt;br /&gt;\\n&lt;br /&gt;\\nfood:&lt;br /&gt;\\ni'm down for anything.</td>\n",
       "      <td>food.&lt;br /&gt;\\nwater.&lt;br /&gt;\\ncell phone.&lt;br /&gt;\\nshelter.</td>\n",
       "      <td>duality and humorous things</td>\n",
       "      <td>trying to find someone to hang out with. i am down for anything\\nexcept a club.</td>\n",
       "      <td>i am new to california and looking for someone to wisper my secrets\\nto.</td>\n",
       "      <td>you want to be swept off your feet!&lt;br /&gt;\\nyou are tired of the norm.&lt;br /&gt;\\nyou want to catch a coffee or a bite.&lt;br /&gt;\\nor if you want to talk philosophy.</td>\n",
       "      <td>asian, white</td>\n",
       "      <td>75.0</td>\n",
       "      <td>-1</td>\n",
       "      <td>transportation</td>\n",
       "      <td>2012-06-28-20-30</td>\n",
       "      <td>south san francisco, california</td>\n",
       "      <td>doesn&amp;rsquo;t have kids, but might want them</td>\n",
       "      <td>straight</td>\n",
       "      <td>likes dogs and likes cats</td>\n",
       "      <td>agnosticism and very serious about it</td>\n",
       "      <td>m</td>\n",
       "      <td>gemini</td>\n",
       "      <td>sometimes</td>\n",
       "      <td>english</td>\n",
       "      <td>single</td>\n",
       "    </tr>\n",
       "    <tr>\n",
       "      <th>1</th>\n",
       "      <td>35</td>\n",
       "      <td>average</td>\n",
       "      <td>mostly other</td>\n",
       "      <td>often</td>\n",
       "      <td>sometimes</td>\n",
       "      <td>working on space camp</td>\n",
       "      <td>i am a chef: this is what that means.&lt;br /&gt;\\n1. i am a workaholic.&lt;br /&gt;\\n2. i love to cook regardless of whether i am at work.&lt;br /&gt;\\n3. i love to drink and eat foods that are probably really bad for\\nme.&lt;br /&gt;\\n4. i love being around people that resemble line 1-3.&lt;br /&gt;\\ni love the outdoors and i am an avid skier. if its snowing i will\\nbe in tahoe at the very least. i am a very confident and friendly.\\ni'm not interested in acting or being a typical guy. i have no time\\nor patience for re...</td>\n",
       "      <td>dedicating everyday to being an unbelievable badass.</td>\n",
       "      <td>being silly. having ridiculous amonts of fun wherever. being a\\nsmart ass. ohh and i can cook. ;)</td>\n",
       "      <td>NaN</td>\n",
       "      <td>i am die hard christopher moore fan. i don't really watch a lot of\\ntv unless there is humor involved. i am kind of stuck on 90's\\nalternative music. i am pretty much a fan of everything though... i\\ndo need to draw a line at most types of electronica.</td>\n",
       "      <td>delicious porkness in all of its glories.&lt;br /&gt;\\nmy big ass doughboy's sinking into 15 new inches.&lt;br /&gt;\\nmy overly resilient liver.&lt;br /&gt;\\na good sharp knife.&lt;br /&gt;\\nmy ps3... it plays blurays too. ;)&lt;br /&gt;\\nmy over the top energy and my outlook on life... just give me a bag\\nof lemons and see what happens. ;)</td>\n",
       "      <td>NaN</td>\n",
       "      <td>NaN</td>\n",
       "      <td>i am very open and will share just about anything.</td>\n",
       "      <td>NaN</td>\n",
       "      <td>white</td>\n",
       "      <td>70.0</td>\n",
       "      <td>80000</td>\n",
       "      <td>hospitality / travel</td>\n",
       "      <td>2012-06-29-21-41</td>\n",
       "      <td>oakland, california</td>\n",
       "      <td>doesn&amp;rsquo;t have kids, but might want them</td>\n",
       "      <td>straight</td>\n",
       "      <td>likes dogs and likes cats</td>\n",
       "      <td>agnosticism but not too serious about it</td>\n",
       "      <td>m</td>\n",
       "      <td>cancer</td>\n",
       "      <td>no</td>\n",
       "      <td>english (fluently), spanish (poorly), french (poorly)</td>\n",
       "      <td>single</td>\n",
       "    </tr>\n",
       "    <tr>\n",
       "      <th>2</th>\n",
       "      <td>38</td>\n",
       "      <td>thin</td>\n",
       "      <td>anything</td>\n",
       "      <td>socially</td>\n",
       "      <td>NaN</td>\n",
       "      <td>graduated from masters program</td>\n",
       "      <td>i'm not ashamed of much, but writing public text on an online\\ndating site makes me pleasantly uncomfortable. i'll try to be as\\nearnest as possible in the noble endeavor of standing naked before\\nthe world.&lt;br /&gt;\\n&lt;br /&gt;\\ni've lived in san francisco for 15 years, and both love it and find\\nmyself frustrated with its deficits. lots of great friends and\\nacquaintances (which increases my apprehension to put anything on\\nthis site), but i'm feeling like meeting some new people that\\naren't jus...</td>\n",
       "      <td>i make nerdy software for musicians, artists, and experimenters to\\nindulge in their own weirdness, but i like to spend time away from\\nthe computer when working on my artwork (which is typically more\\nconcerned with group dynamics and communication, than with visual\\nform, objects, or technology). i also record and deejay dance,\\nnoise, pop, and experimental music (most of which electronic or at\\nleast studio based). besides these relatively ego driven\\nactivities, i've been enjoying things...</td>\n",
       "      <td>improvising in different contexts. alternating between being\\npresent and decidedly outside of a moment, or trying to hold both\\nat once. rambling intellectual conversations that hold said\\nconversations in contempt while seeking to find something that\\ntranscends them. being critical while remaining generous. listening\\nto and using body language--often performed in caricature or large\\ngestures, if not outright interpretive dance. dry, dark, and\\nraunchy humor.</td>\n",
       "      <td>my large jaw and large glasses are the physical things people\\ncomment on the most. when sufficiently stimulated, i have an\\nunmistakable cackle of a laugh. after that, it goes in more\\ndirections than i care to describe right now. maybe i'll come back\\nto this.</td>\n",
       "      <td>okay this is where the cultural matrix gets so specific, it's like\\nbeing in the crosshairs.&lt;br /&gt;\\n&lt;br /&gt;\\nfor what it's worth, i find myself reading more non-fiction than\\nfiction. it's usually some kind of philosophy, art, or science text\\nby silly authors such as ranciere, de certeau, bataille,\\nbaudrillard, butler, stein, arendt, nietzche, zizek, etc. i'll\\noften throw in some weird new age or pop-psychology book in the mix\\nas well. as for fiction, i enjoy what little i've read of eco,...</td>\n",
       "      <td>movement&lt;br /&gt;\\nconversation&lt;br /&gt;\\ncreation&lt;br /&gt;\\ncontemplation&lt;br /&gt;\\ntouch&lt;br /&gt;\\nhumor</td>\n",
       "      <td>NaN</td>\n",
       "      <td>viewing. listening. dancing. talking. drinking. performing.</td>\n",
       "      <td>when i was five years old, i was known as \"the boogerman\".</td>\n",
       "      <td>you are bright, open, intense, silly, ironic, critical, caring,\\ngenerous, looking for an exploration, rather than finding \"a match\"\\nof some predetermined qualities.&lt;br /&gt;\\n&lt;br /&gt;\\ni'm currently in a fabulous and open relationship, so you should be\\ncomfortable with that.</td>\n",
       "      <td>NaN</td>\n",
       "      <td>68.0</td>\n",
       "      <td>-1</td>\n",
       "      <td>NaN</td>\n",
       "      <td>2012-06-27-09-10</td>\n",
       "      <td>san francisco, california</td>\n",
       "      <td>NaN</td>\n",
       "      <td>straight</td>\n",
       "      <td>has cats</td>\n",
       "      <td>NaN</td>\n",
       "      <td>m</td>\n",
       "      <td>pisces but it doesn&amp;rsquo;t matter</td>\n",
       "      <td>no</td>\n",
       "      <td>english, french, c++</td>\n",
       "      <td>available</td>\n",
       "    </tr>\n",
       "    <tr>\n",
       "      <th>3</th>\n",
       "      <td>23</td>\n",
       "      <td>thin</td>\n",
       "      <td>vegetarian</td>\n",
       "      <td>socially</td>\n",
       "      <td>NaN</td>\n",
       "      <td>working on college/university</td>\n",
       "      <td>i work in a library and go to school. . .</td>\n",
       "      <td>reading things written by old dead people</td>\n",
       "      <td>playing synthesizers and organizing books according to the library\\nof congress classification system</td>\n",
       "      <td>socially awkward but i do my best</td>\n",
       "      <td>bataille, celine, beckett. . .&lt;br /&gt;\\nlynch, jarmusch, r.w. fassbender. . .&lt;br /&gt;\\ntwin peaks &amp;amp; fishing w/ john&lt;br /&gt;\\njoy division, throbbing gristle, cabaret voltaire. . .&lt;br /&gt;\\nvegetarian pho and coffee</td>\n",
       "      <td>NaN</td>\n",
       "      <td>cats and german philosophy</td>\n",
       "      <td>NaN</td>\n",
       "      <td>NaN</td>\n",
       "      <td>you feel so inclined.</td>\n",
       "      <td>white</td>\n",
       "      <td>71.0</td>\n",
       "      <td>20000</td>\n",
       "      <td>student</td>\n",
       "      <td>2012-06-28-14-22</td>\n",
       "      <td>berkeley, california</td>\n",
       "      <td>doesn&amp;rsquo;t want kids</td>\n",
       "      <td>straight</td>\n",
       "      <td>likes cats</td>\n",
       "      <td>NaN</td>\n",
       "      <td>m</td>\n",
       "      <td>pisces</td>\n",
       "      <td>no</td>\n",
       "      <td>english, german (poorly)</td>\n",
       "      <td>single</td>\n",
       "    </tr>\n",
       "    <tr>\n",
       "      <th>4</th>\n",
       "      <td>29</td>\n",
       "      <td>athletic</td>\n",
       "      <td>NaN</td>\n",
       "      <td>socially</td>\n",
       "      <td>never</td>\n",
       "      <td>graduated from college/university</td>\n",
       "      <td>hey how's it going? currently vague on the profile i know, more to\\ncome soon. looking to meet new folks outside of my circle of\\nfriends. i'm pretty responsive on the reply tip, feel free to drop\\na line. cheers.</td>\n",
       "      <td>work work work work + play</td>\n",
       "      <td>creating imagery to look at:&lt;br /&gt;\\nhttp://bagsbrown.blogspot.com/&lt;br /&gt;\\nhttp://stayruly.blogspot.com/</td>\n",
       "      <td>i smile a lot and my inquisitive nature</td>\n",
       "      <td>music: bands, rappers, musicians&lt;br /&gt;\\nat the moment: thee oh sees.&lt;br /&gt;\\nforever: wu-tang&lt;br /&gt;\\nbooks: artbooks for days&lt;br /&gt;\\naudiobooks: my collection, thick (thanks audible)&lt;br /&gt;\\nshows: live ones&lt;br /&gt;\\nfood: with stellar friends whenever&lt;br /&gt;\\nmovies &amp;gt; tv&lt;br /&gt;\\npodcast: radiolab, this american life, the moth, joe rogan, the\\nchamps</td>\n",
       "      <td>NaN</td>\n",
       "      <td>NaN</td>\n",
       "      <td>NaN</td>\n",
       "      <td>NaN</td>\n",
       "      <td>NaN</td>\n",
       "      <td>asian, black, other</td>\n",
       "      <td>66.0</td>\n",
       "      <td>-1</td>\n",
       "      <td>artistic / musical / writer</td>\n",
       "      <td>2012-06-27-21-26</td>\n",
       "      <td>san francisco, california</td>\n",
       "      <td>NaN</td>\n",
       "      <td>straight</td>\n",
       "      <td>likes dogs and likes cats</td>\n",
       "      <td>NaN</td>\n",
       "      <td>m</td>\n",
       "      <td>aquarius</td>\n",
       "      <td>no</td>\n",
       "      <td>english</td>\n",
       "      <td>single</td>\n",
       "    </tr>\n",
       "  </tbody>\n",
       "</table>\n",
       "</div>"
      ],
      "text/plain": [
       "   age       body_type               diet    drinks      drugs  \\\n",
       "0   22  a little extra  strictly anything  socially      never   \n",
       "1   35         average       mostly other     often  sometimes   \n",
       "2   38            thin           anything  socially        NaN   \n",
       "3   23            thin         vegetarian  socially        NaN   \n",
       "4   29        athletic                NaN  socially      never   \n",
       "\n",
       "                           education  \\\n",
       "0      working on college/university   \n",
       "1              working on space camp   \n",
       "2     graduated from masters program   \n",
       "3      working on college/university   \n",
       "4  graduated from college/university   \n",
       "\n",
       "                                                                                                                                                                                                                                                                                                                                                                                                                                                                                                                essay0  \\\n",
       "0  about me:<br />\\n<br />\\ni would love to think that i was some some kind of intellectual:\\neither the dumbest smart guy, or the smartest dumb guy. can't say i\\ncan tell the difference. i love to talk about ideas and concepts. i\\nforge odd metaphors instead of reciting cliches. like the\\nsimularities between a friend of mine's house and an underwater\\nsalt mine. my favorite word is salt by the way (weird choice i\\nknow). to me most things in life are better as metaphors. i seek to\\nmake mysel...   \n",
       "1  i am a chef: this is what that means.<br />\\n1. i am a workaholic.<br />\\n2. i love to cook regardless of whether i am at work.<br />\\n3. i love to drink and eat foods that are probably really bad for\\nme.<br />\\n4. i love being around people that resemble line 1-3.<br />\\ni love the outdoors and i am an avid skier. if its snowing i will\\nbe in tahoe at the very least. i am a very confident and friendly.\\ni'm not interested in acting or being a typical guy. i have no time\\nor patience for re...   \n",
       "2  i'm not ashamed of much, but writing public text on an online\\ndating site makes me pleasantly uncomfortable. i'll try to be as\\nearnest as possible in the noble endeavor of standing naked before\\nthe world.<br />\\n<br />\\ni've lived in san francisco for 15 years, and both love it and find\\nmyself frustrated with its deficits. lots of great friends and\\nacquaintances (which increases my apprehension to put anything on\\nthis site), but i'm feeling like meeting some new people that\\naren't jus...   \n",
       "3                                                                                                                                                                                                                                                                                                                                                                                                                                                                            i work in a library and go to school. . .   \n",
       "4                                                                                                                                                                                                                                                                                                hey how's it going? currently vague on the profile i know, more to\\ncome soon. looking to meet new folks outside of my circle of\\nfriends. i'm pretty responsive on the reply tip, feel free to drop\\na line. cheers.   \n",
       "\n",
       "                                                                                                                                                                                                                                                                                                                                                                                                                                                                                                                essay1  \\\n",
       "0                                                                                                                                                                                                                                              currently working as an international agent for a freight\\nforwarding company. import, export, domestic you know the\\nworks.<br />\\nonline classes and trying to better myself in my free time. perhaps\\na hours worth of a good book or a video game on a lazy sunday.   \n",
       "1                                                                                                                                                                                                                                                                                                                                                                                                                                                                 dedicating everyday to being an unbelievable badass.   \n",
       "2  i make nerdy software for musicians, artists, and experimenters to\\nindulge in their own weirdness, but i like to spend time away from\\nthe computer when working on my artwork (which is typically more\\nconcerned with group dynamics and communication, than with visual\\nform, objects, or technology). i also record and deejay dance,\\nnoise, pop, and experimental music (most of which electronic or at\\nleast studio based). besides these relatively ego driven\\nactivities, i've been enjoying things...   \n",
       "3                                                                                                                                                                                                                                                                                                                                                                                                                                                                            reading things written by old dead people   \n",
       "4                                                                                                                                                                                                                                                                                                                                                                                                                                                                                           work work work work + play   \n",
       "\n",
       "                                                                                                                                                                                                                                                                                                                                                                                                                                                                                essay2  \\\n",
       "0                                                                                                                                                                                                                                                                                                                                                     making people laugh.<br />\\nranting about a good salting.<br />\\nfinding simplicity in complexity, and complexity in simplicity.   \n",
       "1                                                                                                                                                                                                                                                                                                                                                                                    being silly. having ridiculous amonts of fun wherever. being a\\nsmart ass. ohh and i can cook. ;)   \n",
       "2  improvising in different contexts. alternating between being\\npresent and decidedly outside of a moment, or trying to hold both\\nat once. rambling intellectual conversations that hold said\\nconversations in contempt while seeking to find something that\\ntranscends them. being critical while remaining generous. listening\\nto and using body language--often performed in caricature or large\\ngestures, if not outright interpretive dance. dry, dark, and\\nraunchy humor.   \n",
       "3                                                                                                                                                                                                                                                                                                                                                                                playing synthesizers and organizing books according to the library\\nof congress classification system   \n",
       "4                                                                                                                                                                                                                                                                                                                                                                              creating imagery to look at:<br />\\nhttp://bagsbrown.blogspot.com/<br />\\nhttp://stayruly.blogspot.com/   \n",
       "\n",
       "                                                                                                                                                                                                                                                                   essay3  \\\n",
       "0                                                                                                                                           the way i look. i am a six foot half asian, half caucasian mutt. it\\nmakes it tough not to notice me, and for me to blend in.   \n",
       "1                                                                                                                                                                                                                                                                     NaN   \n",
       "2  my large jaw and large glasses are the physical things people\\ncomment on the most. when sufficiently stimulated, i have an\\nunmistakable cackle of a laugh. after that, it goes in more\\ndirections than i care to describe right now. maybe i'll come back\\nto this.   \n",
       "3                                                                                                                                                                                                                                       socially awkward but i do my best   \n",
       "4                                                                                                                                                                                                                                 i smile a lot and my inquisitive nature   \n",
       "\n",
       "                                                                                                                                                                                                                                                                                                                                                                                                                                                                                                                essay4  \\\n",
       "0                          books:<br />\\nabsurdistan, the republic, of mice and men (only book that made me\\nwant to cry), catcher in the rye, the prince.<br />\\n<br />\\nmovies:<br />\\ngladiator, operation valkyrie, the producers, down periscope.<br />\\n<br />\\nshows:<br />\\nthe borgia, arrested development, game of thrones, monty\\npython<br />\\n<br />\\nmusic:<br />\\naesop rock, hail mary mallon, george thorogood and the delaware\\ndestroyers, felt<br />\\n<br />\\nfood:<br />\\ni'm down for anything.   \n",
       "1                                                                                                                                                                                                                                                         i am die hard christopher moore fan. i don't really watch a lot of\\ntv unless there is humor involved. i am kind of stuck on 90's\\nalternative music. i am pretty much a fan of everything though... i\\ndo need to draw a line at most types of electronica.   \n",
       "2  okay this is where the cultural matrix gets so specific, it's like\\nbeing in the crosshairs.<br />\\n<br />\\nfor what it's worth, i find myself reading more non-fiction than\\nfiction. it's usually some kind of philosophy, art, or science text\\nby silly authors such as ranciere, de certeau, bataille,\\nbaudrillard, butler, stein, arendt, nietzche, zizek, etc. i'll\\noften throw in some weird new age or pop-psychology book in the mix\\nas well. as for fiction, i enjoy what little i've read of eco,...   \n",
       "3                                                                                                                                                                                                                                                                                                   bataille, celine, beckett. . .<br />\\nlynch, jarmusch, r.w. fassbender. . .<br />\\ntwin peaks &amp; fishing w/ john<br />\\njoy division, throbbing gristle, cabaret voltaire. . .<br />\\nvegetarian pho and coffee   \n",
       "4                                                                                                                                                        music: bands, rappers, musicians<br />\\nat the moment: thee oh sees.<br />\\nforever: wu-tang<br />\\nbooks: artbooks for days<br />\\naudiobooks: my collection, thick (thanks audible)<br />\\nshows: live ones<br />\\nfood: with stellar friends whenever<br />\\nmovies &gt; tv<br />\\npodcast: radiolab, this american life, the moth, joe rogan, the\\nchamps   \n",
       "\n",
       "                                                                                                                                                                                                                                                                                                                     essay5  \\\n",
       "0                                                                                                                                                                                                                                                                    food.<br />\\nwater.<br />\\ncell phone.<br />\\nshelter.   \n",
       "1  delicious porkness in all of its glories.<br />\\nmy big ass doughboy's sinking into 15 new inches.<br />\\nmy overly resilient liver.<br />\\na good sharp knife.<br />\\nmy ps3... it plays blurays too. ;)<br />\\nmy over the top energy and my outlook on life... just give me a bag\\nof lemons and see what happens. ;)   \n",
       "2                                                                                                                                                                                                                               movement<br />\\nconversation<br />\\ncreation<br />\\ncontemplation<br />\\ntouch<br />\\nhumor   \n",
       "3                                                                                                                                                                                                                                                                                                                       NaN   \n",
       "4                                                                                                                                                                                                                                                                                                                       NaN   \n",
       "\n",
       "                        essay6  \\\n",
       "0  duality and humorous things   \n",
       "1                          NaN   \n",
       "2                          NaN   \n",
       "3   cats and german philosophy   \n",
       "4                          NaN   \n",
       "\n",
       "                                                                            essay7  \\\n",
       "0  trying to find someone to hang out with. i am down for anything\\nexcept a club.   \n",
       "1                                                                              NaN   \n",
       "2                      viewing. listening. dancing. talking. drinking. performing.   \n",
       "3                                                                              NaN   \n",
       "4                                                                              NaN   \n",
       "\n",
       "                                                                     essay8  \\\n",
       "0  i am new to california and looking for someone to wisper my secrets\\nto.   \n",
       "1                        i am very open and will share just about anything.   \n",
       "2                when i was five years old, i was known as \"the boogerman\".   \n",
       "3                                                                       NaN   \n",
       "4                                                                       NaN   \n",
       "\n",
       "                                                                                                                                                                                                                                                                              essay9  \\\n",
       "0                                                                                                                       you want to be swept off your feet!<br />\\nyou are tired of the norm.<br />\\nyou want to catch a coffee or a bite.<br />\\nor if you want to talk philosophy.   \n",
       "1                                                                                                                                                                                                                                                                                NaN   \n",
       "2  you are bright, open, intense, silly, ironic, critical, caring,\\ngenerous, looking for an exploration, rather than finding \"a match\"\\nof some predetermined qualities.<br />\\n<br />\\ni'm currently in a fabulous and open relationship, so you should be\\ncomfortable with that.   \n",
       "3                                                                                                                                                                                                                                                              you feel so inclined.   \n",
       "4                                                                                                                                                                                                                                                                                NaN   \n",
       "\n",
       "             ethnicity  height  income                          job  \\\n",
       "0         asian, white    75.0      -1               transportation   \n",
       "1                white    70.0   80000         hospitality / travel   \n",
       "2                  NaN    68.0      -1                          NaN   \n",
       "3                white    71.0   20000                      student   \n",
       "4  asian, black, other    66.0      -1  artistic / musical / writer   \n",
       "\n",
       "        last_online                         location  \\\n",
       "0  2012-06-28-20-30  south san francisco, california   \n",
       "1  2012-06-29-21-41              oakland, california   \n",
       "2  2012-06-27-09-10        san francisco, california   \n",
       "3  2012-06-28-14-22             berkeley, california   \n",
       "4  2012-06-27-21-26        san francisco, california   \n",
       "\n",
       "                                      offspring orientation  \\\n",
       "0  doesn&rsquo;t have kids, but might want them    straight   \n",
       "1  doesn&rsquo;t have kids, but might want them    straight   \n",
       "2                                           NaN    straight   \n",
       "3                       doesn&rsquo;t want kids    straight   \n",
       "4                                           NaN    straight   \n",
       "\n",
       "                        pets                                  religion sex  \\\n",
       "0  likes dogs and likes cats     agnosticism and very serious about it   m   \n",
       "1  likes dogs and likes cats  agnosticism but not too serious about it   m   \n",
       "2                   has cats                                       NaN   m   \n",
       "3                 likes cats                                       NaN   m   \n",
       "4  likes dogs and likes cats                                       NaN   m   \n",
       "\n",
       "                                 sign     smokes  \\\n",
       "0                              gemini  sometimes   \n",
       "1                              cancer         no   \n",
       "2  pisces but it doesn&rsquo;t matter         no   \n",
       "3                              pisces         no   \n",
       "4                            aquarius         no   \n",
       "\n",
       "                                                  speaks     status  \n",
       "0                                                english     single  \n",
       "1  english (fluently), spanish (poorly), french (poorly)     single  \n",
       "2                                   english, french, c++  available  \n",
       "3                               english, german (poorly)     single  \n",
       "4                                                english     single  "
      ]
     },
     "execution_count": 37,
     "metadata": {},
     "output_type": "execute_result"
    }
   ],
   "source": [
    "profiles.head()"
   ]
  },
  {
   "cell_type": "markdown",
   "metadata": {},
   "source": [
    "### Clean the data\n",
    "\n",
    "Next step in our analysis is to clean the data and transform it to suitable format for exploratory data analysis and ultimately to run machine learning models"
   ]
  },
  {
   "cell_type": "markdown",
   "metadata": {},
   "source": [
    "#### Check for null values"
   ]
  },
  {
   "cell_type": "code",
   "execution_count": 38,
   "metadata": {},
   "outputs": [
    {
     "data": {
      "text/plain": [
       "age            False\n",
       "body_type       True\n",
       "diet            True\n",
       "drinks          True\n",
       "drugs           True\n",
       "education       True\n",
       "essay0          True\n",
       "essay1          True\n",
       "essay2          True\n",
       "essay3          True\n",
       "essay4          True\n",
       "essay5          True\n",
       "essay6          True\n",
       "essay7          True\n",
       "essay8          True\n",
       "essay9          True\n",
       "ethnicity       True\n",
       "height          True\n",
       "income         False\n",
       "job             True\n",
       "last_online    False\n",
       "location       False\n",
       "offspring       True\n",
       "orientation    False\n",
       "pets            True\n",
       "religion        True\n",
       "sex            False\n",
       "sign            True\n",
       "smokes          True\n",
       "speaks          True\n",
       "status         False\n",
       "dtype: bool"
      ]
     },
     "execution_count": 38,
     "metadata": {},
     "output_type": "execute_result"
    }
   ],
   "source": [
    "profiles.isna().any()"
   ]
  },
  {
   "cell_type": "markdown",
   "metadata": {},
   "source": [
    "There are null values in all but seven columns in the data. First, we inspect our target variable **signs**"
   ]
  },
  {
   "cell_type": "code",
   "execution_count": 39,
   "metadata": {},
   "outputs": [
    {
     "name": "stdout",
     "output_type": "stream",
     "text": [
      "<class 'pandas.core.frame.DataFrame'>\n",
      "RangeIndex: 59946 entries, 0 to 59945\n",
      "Data columns (total 31 columns):\n",
      " #   Column       Non-Null Count  Dtype  \n",
      "---  ------       --------------  -----  \n",
      " 0   age          59946 non-null  int64  \n",
      " 1   body_type    54650 non-null  object \n",
      " 2   diet         35551 non-null  object \n",
      " 3   drinks       56961 non-null  object \n",
      " 4   drugs        45866 non-null  object \n",
      " 5   education    53318 non-null  object \n",
      " 6   essay0       54458 non-null  object \n",
      " 7   essay1       52374 non-null  object \n",
      " 8   essay2       50308 non-null  object \n",
      " 9   essay3       48470 non-null  object \n",
      " 10  essay4       49409 non-null  object \n",
      " 11  essay5       49096 non-null  object \n",
      " 12  essay6       46175 non-null  object \n",
      " 13  essay7       47495 non-null  object \n",
      " 14  essay8       40721 non-null  object \n",
      " 15  essay9       47343 non-null  object \n",
      " 16  ethnicity    54266 non-null  object \n",
      " 17  height       59943 non-null  float64\n",
      " 18  income       59946 non-null  int64  \n",
      " 19  job          51748 non-null  object \n",
      " 20  last_online  59946 non-null  object \n",
      " 21  location     59946 non-null  object \n",
      " 22  offspring    24385 non-null  object \n",
      " 23  orientation  59946 non-null  object \n",
      " 24  pets         40025 non-null  object \n",
      " 25  religion     39720 non-null  object \n",
      " 26  sex          59946 non-null  object \n",
      " 27  sign         48890 non-null  object \n",
      " 28  smokes       54434 non-null  object \n",
      " 29  speaks       59896 non-null  object \n",
      " 30  status       59946 non-null  object \n",
      "dtypes: float64(1), int64(2), object(28)\n",
      "memory usage: 14.2+ MB\n"
     ]
    }
   ],
   "source": [
    "profiles.info()"
   ]
  },
  {
   "cell_type": "markdown",
   "metadata": {},
   "source": [
    "There are 48890 non null values in **sign**. This signifies we can account for about **82%** of our data. Therefore, all fields will be reduced to the length of **sign** column.\n",
    "\n",
    "**Drop all null values in **sign****"
   ]
  },
  {
   "cell_type": "code",
   "execution_count": 40,
   "metadata": {},
   "outputs": [
    {
     "name": "stdout",
     "output_type": "stream",
     "text": [
      "There are 48890 in the dataframe\n"
     ]
    }
   ],
   "source": [
    "profiles_df = profiles.dropna(subset=[\"sign\"]).copy()\n",
    "print(f\"There are {len(profiles_df)} in the dataframe\")"
   ]
  },
  {
   "cell_type": "markdown",
   "metadata": {},
   "source": [
    "**Inspect the labels in sign**"
   ]
  },
  {
   "cell_type": "code",
   "execution_count": 41,
   "metadata": {},
   "outputs": [
    {
     "data": {
      "text/plain": [
       "gemini and it&rsquo;s fun to think about         1782\n",
       "scorpio and it&rsquo;s fun to think about        1772\n",
       "leo and it&rsquo;s fun to think about            1692\n",
       "libra and it&rsquo;s fun to think about          1649\n",
       "taurus and it&rsquo;s fun to think about         1640\n",
       "cancer and it&rsquo;s fun to think about         1597\n",
       "pisces and it&rsquo;s fun to think about         1592\n",
       "sagittarius and it&rsquo;s fun to think about    1583\n",
       "virgo and it&rsquo;s fun to think about          1574\n",
       "aries and it&rsquo;s fun to think about          1573\n",
       "aquarius and it&rsquo;s fun to think about       1503\n",
       "virgo but it doesn&rsquo;t matter                1497\n",
       "leo but it doesn&rsquo;t matter                  1457\n",
       "cancer but it doesn&rsquo;t matter               1454\n",
       "gemini but it doesn&rsquo;t matter               1453\n",
       "taurus but it doesn&rsquo;t matter               1450\n",
       "aquarius but it doesn&rsquo;t matter             1408\n",
       "libra but it doesn&rsquo;t matter                1408\n",
       "capricorn and it&rsquo;s fun to think about      1376\n",
       "sagittarius but it doesn&rsquo;t matter          1375\n",
       "aries but it doesn&rsquo;t matter                1373\n",
       "capricorn but it doesn&rsquo;t matter            1319\n",
       "pisces but it doesn&rsquo;t matter               1300\n",
       "scorpio but it doesn&rsquo;t matter              1264\n",
       "leo                                              1159\n",
       "libra                                            1098\n",
       "cancer                                           1092\n",
       "virgo                                            1029\n",
       "scorpio                                          1020\n",
       "gemini                                           1013\n",
       "taurus                                           1001\n",
       "aries                                             996\n",
       "pisces                                            992\n",
       "aquarius                                          954\n",
       "sagittarius                                       937\n",
       "capricorn                                         833\n",
       "scorpio and it matters a lot                       78\n",
       "leo and it matters a lot                           66\n",
       "aquarius and it matters a lot                      63\n",
       "cancer and it matters a lot                        63\n",
       "pisces and it matters a lot                        62\n",
       "gemini and it matters a lot                        62\n",
       "libra and it matters a lot                         52\n",
       "taurus and it matters a lot                        49\n",
       "aries and it matters a lot                         47\n",
       "sagittarius and it matters a lot                   47\n",
       "capricorn and it matters a lot                     45\n",
       "virgo and it matters a lot                         41\n",
       "Name: sign, dtype: int64"
      ]
     },
     "execution_count": 41,
     "metadata": {},
     "output_type": "execute_result"
    }
   ],
   "source": [
    "profiles_df['sign'].value_counts()"
   ]
  },
  {
   "cell_type": "markdown",
   "metadata": {},
   "source": [
    "Upon inspection, it is evident that labels need to be separated from the rest of the text. Regex expressions would have been a preferred method to extract the labels but in this case, the labels are the first words in the rows(sentences) making it easier to employ list comprehension to slice the first element after the sentence is split using lambda function.\n",
    "A new column is created containing extracted labels."
   ]
  },
  {
   "cell_type": "markdown",
   "metadata": {},
   "source": [
    "Split each sentence into a list of words"
   ]
  },
  {
   "cell_type": "code",
   "execution_count": 42,
   "metadata": {},
   "outputs": [],
   "source": [
    "split_signs = profiles_df.apply(lambda label: label['sign'].split(), axis=1)"
   ]
  },
  {
   "cell_type": "markdown",
   "metadata": {},
   "source": [
    "Extract first element in each list and create new column"
   ]
  },
  {
   "cell_type": "code",
   "execution_count": 43,
   "metadata": {},
   "outputs": [],
   "source": [
    "profiles_df['labels'] = [x[0] for x in split_signs]"
   ]
  },
  {
   "cell_type": "markdown",
   "metadata": {},
   "source": [
    "Inspect values and distribution of labels"
   ]
  },
  {
   "cell_type": "code",
   "execution_count": 44,
   "metadata": {},
   "outputs": [
    {
     "data": {
      "text/plain": [
       "leo            4374\n",
       "gemini         4310\n",
       "libra          4207\n",
       "cancer         4206\n",
       "virgo          4141\n",
       "taurus         4140\n",
       "scorpio        4134\n",
       "aries          3989\n",
       "pisces         3946\n",
       "sagittarius    3942\n",
       "aquarius       3928\n",
       "capricorn      3573\n",
       "Name: labels, dtype: int64"
      ]
     },
     "execution_count": 44,
     "metadata": {},
     "output_type": "execute_result"
    }
   ],
   "source": [
    "profiles_df['labels'].value_counts()"
   ]
  },
  {
   "cell_type": "code",
   "execution_count": 46,
   "metadata": {},
   "outputs": [
    {
     "data": {
      "text/html": [
       "<div>\n",
       "<style scoped>\n",
       "    .dataframe tbody tr th:only-of-type {\n",
       "        vertical-align: middle;\n",
       "    }\n",
       "\n",
       "    .dataframe tbody tr th {\n",
       "        vertical-align: top;\n",
       "    }\n",
       "\n",
       "    .dataframe thead th {\n",
       "        text-align: right;\n",
       "    }\n",
       "</style>\n",
       "<table border=\"1\" class=\"dataframe\">\n",
       "  <thead>\n",
       "    <tr style=\"text-align: right;\">\n",
       "      <th></th>\n",
       "      <th>age</th>\n",
       "      <th>body_type</th>\n",
       "      <th>diet</th>\n",
       "      <th>drinks</th>\n",
       "      <th>drugs</th>\n",
       "      <th>education</th>\n",
       "      <th>essay0</th>\n",
       "      <th>essay1</th>\n",
       "      <th>essay2</th>\n",
       "      <th>essay3</th>\n",
       "      <th>essay4</th>\n",
       "      <th>essay5</th>\n",
       "      <th>essay6</th>\n",
       "      <th>essay7</th>\n",
       "      <th>essay8</th>\n",
       "      <th>essay9</th>\n",
       "      <th>ethnicity</th>\n",
       "      <th>height</th>\n",
       "      <th>income</th>\n",
       "      <th>job</th>\n",
       "      <th>last_online</th>\n",
       "      <th>location</th>\n",
       "      <th>offspring</th>\n",
       "      <th>orientation</th>\n",
       "      <th>pets</th>\n",
       "      <th>religion</th>\n",
       "      <th>sex</th>\n",
       "      <th>sign</th>\n",
       "      <th>smokes</th>\n",
       "      <th>speaks</th>\n",
       "      <th>status</th>\n",
       "      <th>labels</th>\n",
       "    </tr>\n",
       "  </thead>\n",
       "  <tbody>\n",
       "    <tr>\n",
       "      <th>0</th>\n",
       "      <td>22</td>\n",
       "      <td>a little extra</td>\n",
       "      <td>strictly anything</td>\n",
       "      <td>socially</td>\n",
       "      <td>never</td>\n",
       "      <td>working on college/university</td>\n",
       "      <td>about me:&lt;br /&gt;\\n&lt;br /&gt;\\ni would love to think that i was some some kind of intellectual:\\neither the dumbest smart guy, or the smartest dumb guy. can't say i\\ncan tell the difference. i love to talk about ideas and concepts. i\\nforge odd metaphors instead of reciting cliches. like the\\nsimularities between a friend of mine's house and an underwater\\nsalt mine. my favorite word is salt by the way (weird choice i\\nknow). to me most things in life are better as metaphors. i seek to\\nmake mysel...</td>\n",
       "      <td>currently working as an international agent for a freight\\nforwarding company. import, export, domestic you know the\\nworks.&lt;br /&gt;\\nonline classes and trying to better myself in my free time. perhaps\\na hours worth of a good book or a video game on a lazy sunday.</td>\n",
       "      <td>making people laugh.&lt;br /&gt;\\nranting about a good salting.&lt;br /&gt;\\nfinding simplicity in complexity, and complexity in simplicity.</td>\n",
       "      <td>the way i look. i am a six foot half asian, half caucasian mutt. it\\nmakes it tough not to notice me, and for me to blend in.</td>\n",
       "      <td>books:&lt;br /&gt;\\nabsurdistan, the republic, of mice and men (only book that made me\\nwant to cry), catcher in the rye, the prince.&lt;br /&gt;\\n&lt;br /&gt;\\nmovies:&lt;br /&gt;\\ngladiator, operation valkyrie, the producers, down periscope.&lt;br /&gt;\\n&lt;br /&gt;\\nshows:&lt;br /&gt;\\nthe borgia, arrested development, game of thrones, monty\\npython&lt;br /&gt;\\n&lt;br /&gt;\\nmusic:&lt;br /&gt;\\naesop rock, hail mary mallon, george thorogood and the delaware\\ndestroyers, felt&lt;br /&gt;\\n&lt;br /&gt;\\nfood:&lt;br /&gt;\\ni'm down for anything.</td>\n",
       "      <td>food.&lt;br /&gt;\\nwater.&lt;br /&gt;\\ncell phone.&lt;br /&gt;\\nshelter.</td>\n",
       "      <td>duality and humorous things</td>\n",
       "      <td>trying to find someone to hang out with. i am down for anything\\nexcept a club.</td>\n",
       "      <td>i am new to california and looking for someone to wisper my secrets\\nto.</td>\n",
       "      <td>you want to be swept off your feet!&lt;br /&gt;\\nyou are tired of the norm.&lt;br /&gt;\\nyou want to catch a coffee or a bite.&lt;br /&gt;\\nor if you want to talk philosophy.</td>\n",
       "      <td>asian, white</td>\n",
       "      <td>75.0</td>\n",
       "      <td>-1</td>\n",
       "      <td>transportation</td>\n",
       "      <td>2012-06-28-20-30</td>\n",
       "      <td>south san francisco, california</td>\n",
       "      <td>doesn&amp;rsquo;t have kids, but might want them</td>\n",
       "      <td>straight</td>\n",
       "      <td>likes dogs and likes cats</td>\n",
       "      <td>agnosticism and very serious about it</td>\n",
       "      <td>m</td>\n",
       "      <td>gemini</td>\n",
       "      <td>sometimes</td>\n",
       "      <td>english</td>\n",
       "      <td>single</td>\n",
       "      <td>gemini</td>\n",
       "    </tr>\n",
       "    <tr>\n",
       "      <th>1</th>\n",
       "      <td>35</td>\n",
       "      <td>average</td>\n",
       "      <td>mostly other</td>\n",
       "      <td>often</td>\n",
       "      <td>sometimes</td>\n",
       "      <td>working on space camp</td>\n",
       "      <td>i am a chef: this is what that means.&lt;br /&gt;\\n1. i am a workaholic.&lt;br /&gt;\\n2. i love to cook regardless of whether i am at work.&lt;br /&gt;\\n3. i love to drink and eat foods that are probably really bad for\\nme.&lt;br /&gt;\\n4. i love being around people that resemble line 1-3.&lt;br /&gt;\\ni love the outdoors and i am an avid skier. if its snowing i will\\nbe in tahoe at the very least. i am a very confident and friendly.\\ni'm not interested in acting or being a typical guy. i have no time\\nor patience for re...</td>\n",
       "      <td>dedicating everyday to being an unbelievable badass.</td>\n",
       "      <td>being silly. having ridiculous amonts of fun wherever. being a\\nsmart ass. ohh and i can cook. ;)</td>\n",
       "      <td>NaN</td>\n",
       "      <td>i am die hard christopher moore fan. i don't really watch a lot of\\ntv unless there is humor involved. i am kind of stuck on 90's\\nalternative music. i am pretty much a fan of everything though... i\\ndo need to draw a line at most types of electronica.</td>\n",
       "      <td>delicious porkness in all of its glories.&lt;br /&gt;\\nmy big ass doughboy's sinking into 15 new inches.&lt;br /&gt;\\nmy overly resilient liver.&lt;br /&gt;\\na good sharp knife.&lt;br /&gt;\\nmy ps3... it plays blurays too. ;)&lt;br /&gt;\\nmy over the top energy and my outlook on life... just give me a bag\\nof lemons and see what happens. ;)</td>\n",
       "      <td>NaN</td>\n",
       "      <td>NaN</td>\n",
       "      <td>i am very open and will share just about anything.</td>\n",
       "      <td>NaN</td>\n",
       "      <td>white</td>\n",
       "      <td>70.0</td>\n",
       "      <td>80000</td>\n",
       "      <td>hospitality / travel</td>\n",
       "      <td>2012-06-29-21-41</td>\n",
       "      <td>oakland, california</td>\n",
       "      <td>doesn&amp;rsquo;t have kids, but might want them</td>\n",
       "      <td>straight</td>\n",
       "      <td>likes dogs and likes cats</td>\n",
       "      <td>agnosticism but not too serious about it</td>\n",
       "      <td>m</td>\n",
       "      <td>cancer</td>\n",
       "      <td>no</td>\n",
       "      <td>english (fluently), spanish (poorly), french (poorly)</td>\n",
       "      <td>single</td>\n",
       "      <td>cancer</td>\n",
       "    </tr>\n",
       "    <tr>\n",
       "      <th>2</th>\n",
       "      <td>38</td>\n",
       "      <td>thin</td>\n",
       "      <td>anything</td>\n",
       "      <td>socially</td>\n",
       "      <td>NaN</td>\n",
       "      <td>graduated from masters program</td>\n",
       "      <td>i'm not ashamed of much, but writing public text on an online\\ndating site makes me pleasantly uncomfortable. i'll try to be as\\nearnest as possible in the noble endeavor of standing naked before\\nthe world.&lt;br /&gt;\\n&lt;br /&gt;\\ni've lived in san francisco for 15 years, and both love it and find\\nmyself frustrated with its deficits. lots of great friends and\\nacquaintances (which increases my apprehension to put anything on\\nthis site), but i'm feeling like meeting some new people that\\naren't jus...</td>\n",
       "      <td>i make nerdy software for musicians, artists, and experimenters to\\nindulge in their own weirdness, but i like to spend time away from\\nthe computer when working on my artwork (which is typically more\\nconcerned with group dynamics and communication, than with visual\\nform, objects, or technology). i also record and deejay dance,\\nnoise, pop, and experimental music (most of which electronic or at\\nleast studio based). besides these relatively ego driven\\nactivities, i've been enjoying things...</td>\n",
       "      <td>improvising in different contexts. alternating between being\\npresent and decidedly outside of a moment, or trying to hold both\\nat once. rambling intellectual conversations that hold said\\nconversations in contempt while seeking to find something that\\ntranscends them. being critical while remaining generous. listening\\nto and using body language--often performed in caricature or large\\ngestures, if not outright interpretive dance. dry, dark, and\\nraunchy humor.</td>\n",
       "      <td>my large jaw and large glasses are the physical things people\\ncomment on the most. when sufficiently stimulated, i have an\\nunmistakable cackle of a laugh. after that, it goes in more\\ndirections than i care to describe right now. maybe i'll come back\\nto this.</td>\n",
       "      <td>okay this is where the cultural matrix gets so specific, it's like\\nbeing in the crosshairs.&lt;br /&gt;\\n&lt;br /&gt;\\nfor what it's worth, i find myself reading more non-fiction than\\nfiction. it's usually some kind of philosophy, art, or science text\\nby silly authors such as ranciere, de certeau, bataille,\\nbaudrillard, butler, stein, arendt, nietzche, zizek, etc. i'll\\noften throw in some weird new age or pop-psychology book in the mix\\nas well. as for fiction, i enjoy what little i've read of eco,...</td>\n",
       "      <td>movement&lt;br /&gt;\\nconversation&lt;br /&gt;\\ncreation&lt;br /&gt;\\ncontemplation&lt;br /&gt;\\ntouch&lt;br /&gt;\\nhumor</td>\n",
       "      <td>NaN</td>\n",
       "      <td>viewing. listening. dancing. talking. drinking. performing.</td>\n",
       "      <td>when i was five years old, i was known as \"the boogerman\".</td>\n",
       "      <td>you are bright, open, intense, silly, ironic, critical, caring,\\ngenerous, looking for an exploration, rather than finding \"a match\"\\nof some predetermined qualities.&lt;br /&gt;\\n&lt;br /&gt;\\ni'm currently in a fabulous and open relationship, so you should be\\ncomfortable with that.</td>\n",
       "      <td>NaN</td>\n",
       "      <td>68.0</td>\n",
       "      <td>-1</td>\n",
       "      <td>NaN</td>\n",
       "      <td>2012-06-27-09-10</td>\n",
       "      <td>san francisco, california</td>\n",
       "      <td>NaN</td>\n",
       "      <td>straight</td>\n",
       "      <td>has cats</td>\n",
       "      <td>NaN</td>\n",
       "      <td>m</td>\n",
       "      <td>pisces but it doesn&amp;rsquo;t matter</td>\n",
       "      <td>no</td>\n",
       "      <td>english, french, c++</td>\n",
       "      <td>available</td>\n",
       "      <td>pisces</td>\n",
       "    </tr>\n",
       "    <tr>\n",
       "      <th>3</th>\n",
       "      <td>23</td>\n",
       "      <td>thin</td>\n",
       "      <td>vegetarian</td>\n",
       "      <td>socially</td>\n",
       "      <td>NaN</td>\n",
       "      <td>working on college/university</td>\n",
       "      <td>i work in a library and go to school. . .</td>\n",
       "      <td>reading things written by old dead people</td>\n",
       "      <td>playing synthesizers and organizing books according to the library\\nof congress classification system</td>\n",
       "      <td>socially awkward but i do my best</td>\n",
       "      <td>bataille, celine, beckett. . .&lt;br /&gt;\\nlynch, jarmusch, r.w. fassbender. . .&lt;br /&gt;\\ntwin peaks &amp;amp; fishing w/ john&lt;br /&gt;\\njoy division, throbbing gristle, cabaret voltaire. . .&lt;br /&gt;\\nvegetarian pho and coffee</td>\n",
       "      <td>NaN</td>\n",
       "      <td>cats and german philosophy</td>\n",
       "      <td>NaN</td>\n",
       "      <td>NaN</td>\n",
       "      <td>you feel so inclined.</td>\n",
       "      <td>white</td>\n",
       "      <td>71.0</td>\n",
       "      <td>20000</td>\n",
       "      <td>student</td>\n",
       "      <td>2012-06-28-14-22</td>\n",
       "      <td>berkeley, california</td>\n",
       "      <td>doesn&amp;rsquo;t want kids</td>\n",
       "      <td>straight</td>\n",
       "      <td>likes cats</td>\n",
       "      <td>NaN</td>\n",
       "      <td>m</td>\n",
       "      <td>pisces</td>\n",
       "      <td>no</td>\n",
       "      <td>english, german (poorly)</td>\n",
       "      <td>single</td>\n",
       "      <td>pisces</td>\n",
       "    </tr>\n",
       "    <tr>\n",
       "      <th>4</th>\n",
       "      <td>29</td>\n",
       "      <td>athletic</td>\n",
       "      <td>NaN</td>\n",
       "      <td>socially</td>\n",
       "      <td>never</td>\n",
       "      <td>graduated from college/university</td>\n",
       "      <td>hey how's it going? currently vague on the profile i know, more to\\ncome soon. looking to meet new folks outside of my circle of\\nfriends. i'm pretty responsive on the reply tip, feel free to drop\\na line. cheers.</td>\n",
       "      <td>work work work work + play</td>\n",
       "      <td>creating imagery to look at:&lt;br /&gt;\\nhttp://bagsbrown.blogspot.com/&lt;br /&gt;\\nhttp://stayruly.blogspot.com/</td>\n",
       "      <td>i smile a lot and my inquisitive nature</td>\n",
       "      <td>music: bands, rappers, musicians&lt;br /&gt;\\nat the moment: thee oh sees.&lt;br /&gt;\\nforever: wu-tang&lt;br /&gt;\\nbooks: artbooks for days&lt;br /&gt;\\naudiobooks: my collection, thick (thanks audible)&lt;br /&gt;\\nshows: live ones&lt;br /&gt;\\nfood: with stellar friends whenever&lt;br /&gt;\\nmovies &amp;gt; tv&lt;br /&gt;\\npodcast: radiolab, this american life, the moth, joe rogan, the\\nchamps</td>\n",
       "      <td>NaN</td>\n",
       "      <td>NaN</td>\n",
       "      <td>NaN</td>\n",
       "      <td>NaN</td>\n",
       "      <td>NaN</td>\n",
       "      <td>asian, black, other</td>\n",
       "      <td>66.0</td>\n",
       "      <td>-1</td>\n",
       "      <td>artistic / musical / writer</td>\n",
       "      <td>2012-06-27-21-26</td>\n",
       "      <td>san francisco, california</td>\n",
       "      <td>NaN</td>\n",
       "      <td>straight</td>\n",
       "      <td>likes dogs and likes cats</td>\n",
       "      <td>NaN</td>\n",
       "      <td>m</td>\n",
       "      <td>aquarius</td>\n",
       "      <td>no</td>\n",
       "      <td>english</td>\n",
       "      <td>single</td>\n",
       "      <td>aquarius</td>\n",
       "    </tr>\n",
       "  </tbody>\n",
       "</table>\n",
       "</div>"
      ],
      "text/plain": [
       "   age       body_type               diet    drinks      drugs  \\\n",
       "0   22  a little extra  strictly anything  socially      never   \n",
       "1   35         average       mostly other     often  sometimes   \n",
       "2   38            thin           anything  socially        NaN   \n",
       "3   23            thin         vegetarian  socially        NaN   \n",
       "4   29        athletic                NaN  socially      never   \n",
       "\n",
       "                           education  \\\n",
       "0      working on college/university   \n",
       "1              working on space camp   \n",
       "2     graduated from masters program   \n",
       "3      working on college/university   \n",
       "4  graduated from college/university   \n",
       "\n",
       "                                                                                                                                                                                                                                                                                                                                                                                                                                                                                                                essay0  \\\n",
       "0  about me:<br />\\n<br />\\ni would love to think that i was some some kind of intellectual:\\neither the dumbest smart guy, or the smartest dumb guy. can't say i\\ncan tell the difference. i love to talk about ideas and concepts. i\\nforge odd metaphors instead of reciting cliches. like the\\nsimularities between a friend of mine's house and an underwater\\nsalt mine. my favorite word is salt by the way (weird choice i\\nknow). to me most things in life are better as metaphors. i seek to\\nmake mysel...   \n",
       "1  i am a chef: this is what that means.<br />\\n1. i am a workaholic.<br />\\n2. i love to cook regardless of whether i am at work.<br />\\n3. i love to drink and eat foods that are probably really bad for\\nme.<br />\\n4. i love being around people that resemble line 1-3.<br />\\ni love the outdoors and i am an avid skier. if its snowing i will\\nbe in tahoe at the very least. i am a very confident and friendly.\\ni'm not interested in acting or being a typical guy. i have no time\\nor patience for re...   \n",
       "2  i'm not ashamed of much, but writing public text on an online\\ndating site makes me pleasantly uncomfortable. i'll try to be as\\nearnest as possible in the noble endeavor of standing naked before\\nthe world.<br />\\n<br />\\ni've lived in san francisco for 15 years, and both love it and find\\nmyself frustrated with its deficits. lots of great friends and\\nacquaintances (which increases my apprehension to put anything on\\nthis site), but i'm feeling like meeting some new people that\\naren't jus...   \n",
       "3                                                                                                                                                                                                                                                                                                                                                                                                                                                                            i work in a library and go to school. . .   \n",
       "4                                                                                                                                                                                                                                                                                                hey how's it going? currently vague on the profile i know, more to\\ncome soon. looking to meet new folks outside of my circle of\\nfriends. i'm pretty responsive on the reply tip, feel free to drop\\na line. cheers.   \n",
       "\n",
       "                                                                                                                                                                                                                                                                                                                                                                                                                                                                                                                essay1  \\\n",
       "0                                                                                                                                                                                                                                              currently working as an international agent for a freight\\nforwarding company. import, export, domestic you know the\\nworks.<br />\\nonline classes and trying to better myself in my free time. perhaps\\na hours worth of a good book or a video game on a lazy sunday.   \n",
       "1                                                                                                                                                                                                                                                                                                                                                                                                                                                                 dedicating everyday to being an unbelievable badass.   \n",
       "2  i make nerdy software for musicians, artists, and experimenters to\\nindulge in their own weirdness, but i like to spend time away from\\nthe computer when working on my artwork (which is typically more\\nconcerned with group dynamics and communication, than with visual\\nform, objects, or technology). i also record and deejay dance,\\nnoise, pop, and experimental music (most of which electronic or at\\nleast studio based). besides these relatively ego driven\\nactivities, i've been enjoying things...   \n",
       "3                                                                                                                                                                                                                                                                                                                                                                                                                                                                            reading things written by old dead people   \n",
       "4                                                                                                                                                                                                                                                                                                                                                                                                                                                                                           work work work work + play   \n",
       "\n",
       "                                                                                                                                                                                                                                                                                                                                                                                                                                                                                essay2  \\\n",
       "0                                                                                                                                                                                                                                                                                                                                                     making people laugh.<br />\\nranting about a good salting.<br />\\nfinding simplicity in complexity, and complexity in simplicity.   \n",
       "1                                                                                                                                                                                                                                                                                                                                                                                    being silly. having ridiculous amonts of fun wherever. being a\\nsmart ass. ohh and i can cook. ;)   \n",
       "2  improvising in different contexts. alternating between being\\npresent and decidedly outside of a moment, or trying to hold both\\nat once. rambling intellectual conversations that hold said\\nconversations in contempt while seeking to find something that\\ntranscends them. being critical while remaining generous. listening\\nto and using body language--often performed in caricature or large\\ngestures, if not outright interpretive dance. dry, dark, and\\nraunchy humor.   \n",
       "3                                                                                                                                                                                                                                                                                                                                                                                playing synthesizers and organizing books according to the library\\nof congress classification system   \n",
       "4                                                                                                                                                                                                                                                                                                                                                                              creating imagery to look at:<br />\\nhttp://bagsbrown.blogspot.com/<br />\\nhttp://stayruly.blogspot.com/   \n",
       "\n",
       "                                                                                                                                                                                                                                                                   essay3  \\\n",
       "0                                                                                                                                           the way i look. i am a six foot half asian, half caucasian mutt. it\\nmakes it tough not to notice me, and for me to blend in.   \n",
       "1                                                                                                                                                                                                                                                                     NaN   \n",
       "2  my large jaw and large glasses are the physical things people\\ncomment on the most. when sufficiently stimulated, i have an\\nunmistakable cackle of a laugh. after that, it goes in more\\ndirections than i care to describe right now. maybe i'll come back\\nto this.   \n",
       "3                                                                                                                                                                                                                                       socially awkward but i do my best   \n",
       "4                                                                                                                                                                                                                                 i smile a lot and my inquisitive nature   \n",
       "\n",
       "                                                                                                                                                                                                                                                                                                                                                                                                                                                                                                                essay4  \\\n",
       "0                          books:<br />\\nabsurdistan, the republic, of mice and men (only book that made me\\nwant to cry), catcher in the rye, the prince.<br />\\n<br />\\nmovies:<br />\\ngladiator, operation valkyrie, the producers, down periscope.<br />\\n<br />\\nshows:<br />\\nthe borgia, arrested development, game of thrones, monty\\npython<br />\\n<br />\\nmusic:<br />\\naesop rock, hail mary mallon, george thorogood and the delaware\\ndestroyers, felt<br />\\n<br />\\nfood:<br />\\ni'm down for anything.   \n",
       "1                                                                                                                                                                                                                                                         i am die hard christopher moore fan. i don't really watch a lot of\\ntv unless there is humor involved. i am kind of stuck on 90's\\nalternative music. i am pretty much a fan of everything though... i\\ndo need to draw a line at most types of electronica.   \n",
       "2  okay this is where the cultural matrix gets so specific, it's like\\nbeing in the crosshairs.<br />\\n<br />\\nfor what it's worth, i find myself reading more non-fiction than\\nfiction. it's usually some kind of philosophy, art, or science text\\nby silly authors such as ranciere, de certeau, bataille,\\nbaudrillard, butler, stein, arendt, nietzche, zizek, etc. i'll\\noften throw in some weird new age or pop-psychology book in the mix\\nas well. as for fiction, i enjoy what little i've read of eco,...   \n",
       "3                                                                                                                                                                                                                                                                                                   bataille, celine, beckett. . .<br />\\nlynch, jarmusch, r.w. fassbender. . .<br />\\ntwin peaks &amp; fishing w/ john<br />\\njoy division, throbbing gristle, cabaret voltaire. . .<br />\\nvegetarian pho and coffee   \n",
       "4                                                                                                                                                        music: bands, rappers, musicians<br />\\nat the moment: thee oh sees.<br />\\nforever: wu-tang<br />\\nbooks: artbooks for days<br />\\naudiobooks: my collection, thick (thanks audible)<br />\\nshows: live ones<br />\\nfood: with stellar friends whenever<br />\\nmovies &gt; tv<br />\\npodcast: radiolab, this american life, the moth, joe rogan, the\\nchamps   \n",
       "\n",
       "                                                                                                                                                                                                                                                                                                                     essay5  \\\n",
       "0                                                                                                                                                                                                                                                                    food.<br />\\nwater.<br />\\ncell phone.<br />\\nshelter.   \n",
       "1  delicious porkness in all of its glories.<br />\\nmy big ass doughboy's sinking into 15 new inches.<br />\\nmy overly resilient liver.<br />\\na good sharp knife.<br />\\nmy ps3... it plays blurays too. ;)<br />\\nmy over the top energy and my outlook on life... just give me a bag\\nof lemons and see what happens. ;)   \n",
       "2                                                                                                                                                                                                                               movement<br />\\nconversation<br />\\ncreation<br />\\ncontemplation<br />\\ntouch<br />\\nhumor   \n",
       "3                                                                                                                                                                                                                                                                                                                       NaN   \n",
       "4                                                                                                                                                                                                                                                                                                                       NaN   \n",
       "\n",
       "                        essay6  \\\n",
       "0  duality and humorous things   \n",
       "1                          NaN   \n",
       "2                          NaN   \n",
       "3   cats and german philosophy   \n",
       "4                          NaN   \n",
       "\n",
       "                                                                            essay7  \\\n",
       "0  trying to find someone to hang out with. i am down for anything\\nexcept a club.   \n",
       "1                                                                              NaN   \n",
       "2                      viewing. listening. dancing. talking. drinking. performing.   \n",
       "3                                                                              NaN   \n",
       "4                                                                              NaN   \n",
       "\n",
       "                                                                     essay8  \\\n",
       "0  i am new to california and looking for someone to wisper my secrets\\nto.   \n",
       "1                        i am very open and will share just about anything.   \n",
       "2                when i was five years old, i was known as \"the boogerman\".   \n",
       "3                                                                       NaN   \n",
       "4                                                                       NaN   \n",
       "\n",
       "                                                                                                                                                                                                                                                                              essay9  \\\n",
       "0                                                                                                                       you want to be swept off your feet!<br />\\nyou are tired of the norm.<br />\\nyou want to catch a coffee or a bite.<br />\\nor if you want to talk philosophy.   \n",
       "1                                                                                                                                                                                                                                                                                NaN   \n",
       "2  you are bright, open, intense, silly, ironic, critical, caring,\\ngenerous, looking for an exploration, rather than finding \"a match\"\\nof some predetermined qualities.<br />\\n<br />\\ni'm currently in a fabulous and open relationship, so you should be\\ncomfortable with that.   \n",
       "3                                                                                                                                                                                                                                                              you feel so inclined.   \n",
       "4                                                                                                                                                                                                                                                                                NaN   \n",
       "\n",
       "             ethnicity  height  income                          job  \\\n",
       "0         asian, white    75.0      -1               transportation   \n",
       "1                white    70.0   80000         hospitality / travel   \n",
       "2                  NaN    68.0      -1                          NaN   \n",
       "3                white    71.0   20000                      student   \n",
       "4  asian, black, other    66.0      -1  artistic / musical / writer   \n",
       "\n",
       "        last_online                         location  \\\n",
       "0  2012-06-28-20-30  south san francisco, california   \n",
       "1  2012-06-29-21-41              oakland, california   \n",
       "2  2012-06-27-09-10        san francisco, california   \n",
       "3  2012-06-28-14-22             berkeley, california   \n",
       "4  2012-06-27-21-26        san francisco, california   \n",
       "\n",
       "                                      offspring orientation  \\\n",
       "0  doesn&rsquo;t have kids, but might want them    straight   \n",
       "1  doesn&rsquo;t have kids, but might want them    straight   \n",
       "2                                           NaN    straight   \n",
       "3                       doesn&rsquo;t want kids    straight   \n",
       "4                                           NaN    straight   \n",
       "\n",
       "                        pets                                  religion sex  \\\n",
       "0  likes dogs and likes cats     agnosticism and very serious about it   m   \n",
       "1  likes dogs and likes cats  agnosticism but not too serious about it   m   \n",
       "2                   has cats                                       NaN   m   \n",
       "3                 likes cats                                       NaN   m   \n",
       "4  likes dogs and likes cats                                       NaN   m   \n",
       "\n",
       "                                 sign     smokes  \\\n",
       "0                              gemini  sometimes   \n",
       "1                              cancer         no   \n",
       "2  pisces but it doesn&rsquo;t matter         no   \n",
       "3                              pisces         no   \n",
       "4                            aquarius         no   \n",
       "\n",
       "                                                  speaks     status    labels  \n",
       "0                                                english     single    gemini  \n",
       "1  english (fluently), spanish (poorly), french (poorly)     single    cancer  \n",
       "2                                   english, french, c++  available    pisces  \n",
       "3                               english, german (poorly)     single    pisces  \n",
       "4                                                english     single  aquarius  "
      ]
     },
     "execution_count": 46,
     "metadata": {},
     "output_type": "execute_result"
    }
   ],
   "source": [
    "profiles_df.head()"
   ]
  },
  {
   "cell_type": "markdown",
   "metadata": {},
   "source": [
    "We now have the target variables for the analysis. \n",
    "\n",
    "Plot of label distribution will indicate if the classes (labels) are unbalanced."
   ]
  },
  {
   "cell_type": "code",
   "execution_count": 47,
   "metadata": {},
   "outputs": [],
   "source": [
    "import seaborn as sns\n",
    "sns.set_style(\"darkgrid\")"
   ]
  },
  {
   "cell_type": "code",
   "execution_count": 107,
   "metadata": {},
   "outputs": [
    {
     "data": {
      "image/png": "[encoded data removed]",
      "text/plain": [
       "<Figure size 1080x576 with 1 Axes>"
      ]
     },
     "metadata": {},
     "output_type": "display_data"
    }
   ],
   "source": [
    "fig, ax = plt.subplots()\n",
    "# the size of A4 paper lanscape\n",
    "fig.set_size_inches(15, 8)\n",
    "sns.set_context(\"poster\", font_scale = .6, rc={\"grid.linewidth\": 0.6})\n",
    "sns.countplot(y = profiles_df['labels'], order=profiles_df['labels'].value_counts(ascending=False).index, ax=ax)\n",
    "plt.setp(ax.get_xticklabels(), rotation=45)\n",
    "plt.title('Count of Zodiac Signs')\n",
    "plt.savefig('zod_labels.png')\n",
    "plt.show()"
   ]
  },
  {
   "cell_type": "markdown",
   "metadata": {},
   "source": [
    "The plot indicates that the classes are balanced.\n",
    "\n",
    "Having cleaned and formatted the target variable, we now focus on cleaning and formatting the features (independent variables). The columns to be used as features include: body type, diet, drinks, drugs, education, the essay columns, job, offspring, pets and religion.\n",
    "\n",
    "Combine all essays into one column essay"
   ]
  },
  {
   "cell_type": "markdown",
   "metadata": {},
   "source": [
    "**essay**\n",
    "\n",
    "First, fill all null valuesd with an empty string. The columns are then combined into **essay**."
   ]
  },
  {
   "cell_type": "code",
   "execution_count": 70,
   "metadata": {},
   "outputs": [],
   "source": [
    "profiles_df.fillna({'essay0':'',\n",
    "           'essay1':'',\n",
    "           'essay2':'',\n",
    "          'essay3':'',\n",
    "          'essay4':'',\n",
    "          'essay5':'',\n",
    "          'essay6':'',\n",
    "          'essay7':'',\n",
    "        'essay8':'',\n",
    "        'essay9':''},\n",
    "          inplace=True)"
   ]
  },
  {
   "cell_type": "code",
   "execution_count": 71,
   "metadata": {},
   "outputs": [],
   "source": [
    "profiles_df['essay'] = profiles_df['essay0'] + profiles_df['essay1'] + profiles_df['essay2'] + profiles_df['essay3'] + profiles_df['essay4']+\\\n",
    "profiles_df['essay5'] + profiles_df['essay6'] + profiles_df['essay7'] + profiles_df['essay8'] + profiles_df['essay9'] "
   ]
  },
  {
   "cell_type": "code",
   "execution_count": 72,
   "metadata": {},
   "outputs": [
    {
     "data": {
      "text/html": [
       "<div>\n",
       "<style scoped>\n",
       "    .dataframe tbody tr th:only-of-type {\n",
       "        vertical-align: middle;\n",
       "    }\n",
       "\n",
       "    .dataframe tbody tr th {\n",
       "        vertical-align: top;\n",
       "    }\n",
       "\n",
       "    .dataframe thead th {\n",
       "        text-align: right;\n",
       "    }\n",
       "</style>\n",
       "<table border=\"1\" class=\"dataframe\">\n",
       "  <thead>\n",
       "    <tr style=\"text-align: right;\">\n",
       "      <th></th>\n",
       "      <th>age</th>\n",
       "      <th>body_type</th>\n",
       "      <th>diet</th>\n",
       "      <th>drinks</th>\n",
       "      <th>drugs</th>\n",
       "      <th>education</th>\n",
       "      <th>essay0</th>\n",
       "      <th>essay1</th>\n",
       "      <th>essay2</th>\n",
       "      <th>essay3</th>\n",
       "      <th>essay4</th>\n",
       "      <th>essay5</th>\n",
       "      <th>essay6</th>\n",
       "      <th>essay7</th>\n",
       "      <th>essay8</th>\n",
       "      <th>essay9</th>\n",
       "      <th>ethnicity</th>\n",
       "      <th>height</th>\n",
       "      <th>income</th>\n",
       "      <th>job</th>\n",
       "      <th>last_online</th>\n",
       "      <th>location</th>\n",
       "      <th>offspring</th>\n",
       "      <th>orientation</th>\n",
       "      <th>pets</th>\n",
       "      <th>religion</th>\n",
       "      <th>sex</th>\n",
       "      <th>sign</th>\n",
       "      <th>smokes</th>\n",
       "      <th>speaks</th>\n",
       "      <th>status</th>\n",
       "      <th>labels</th>\n",
       "      <th>essay</th>\n",
       "    </tr>\n",
       "  </thead>\n",
       "  <tbody>\n",
       "    <tr>\n",
       "      <th>0</th>\n",
       "      <td>22</td>\n",
       "      <td>a little extra</td>\n",
       "      <td>strictly anything</td>\n",
       "      <td>socially</td>\n",
       "      <td>never</td>\n",
       "      <td>working on college/university</td>\n",
       "      <td>about me:&lt;br /&gt;\\n&lt;br /&gt;\\ni would love to think that i was some some kind of intellectual:\\neither the dumbest smart guy, or the smartest dumb guy. can't say i\\ncan tell the difference. i love to talk about ideas and concepts. i\\nforge odd metaphors instead of reciting cliches. like the\\nsimularities between a friend of mine's house and an underwater\\nsalt mine. my favorite word is salt by the way (weird choice i\\nknow). to me most things in life are better as metaphors. i seek to\\nmake mysel...</td>\n",
       "      <td>currently working as an international agent for a freight\\nforwarding company. import, export, domestic you know the\\nworks.&lt;br /&gt;\\nonline classes and trying to better myself in my free time. perhaps\\na hours worth of a good book or a video game on a lazy sunday.</td>\n",
       "      <td>making people laugh.&lt;br /&gt;\\nranting about a good salting.&lt;br /&gt;\\nfinding simplicity in complexity, and complexity in simplicity.</td>\n",
       "      <td>the way i look. i am a six foot half asian, half caucasian mutt. it\\nmakes it tough not to notice me, and for me to blend in.</td>\n",
       "      <td>books:&lt;br /&gt;\\nabsurdistan, the republic, of mice and men (only book that made me\\nwant to cry), catcher in the rye, the prince.&lt;br /&gt;\\n&lt;br /&gt;\\nmovies:&lt;br /&gt;\\ngladiator, operation valkyrie, the producers, down periscope.&lt;br /&gt;\\n&lt;br /&gt;\\nshows:&lt;br /&gt;\\nthe borgia, arrested development, game of thrones, monty\\npython&lt;br /&gt;\\n&lt;br /&gt;\\nmusic:&lt;br /&gt;\\naesop rock, hail mary mallon, george thorogood and the delaware\\ndestroyers, felt&lt;br /&gt;\\n&lt;br /&gt;\\nfood:&lt;br /&gt;\\ni'm down for anything.</td>\n",
       "      <td>food.&lt;br /&gt;\\nwater.&lt;br /&gt;\\ncell phone.&lt;br /&gt;\\nshelter.</td>\n",
       "      <td>duality and humorous things</td>\n",
       "      <td>trying to find someone to hang out with. i am down for anything\\nexcept a club.</td>\n",
       "      <td>i am new to california and looking for someone to wisper my secrets\\nto.</td>\n",
       "      <td>you want to be swept off your feet!&lt;br /&gt;\\nyou are tired of the norm.&lt;br /&gt;\\nyou want to catch a coffee or a bite.&lt;br /&gt;\\nor if you want to talk philosophy.</td>\n",
       "      <td>asian, white</td>\n",
       "      <td>75.0</td>\n",
       "      <td>-1</td>\n",
       "      <td>transportation</td>\n",
       "      <td>2012-06-28-20-30</td>\n",
       "      <td>south san francisco, california</td>\n",
       "      <td>doesn&amp;rsquo;t have kids, but might want them</td>\n",
       "      <td>straight</td>\n",
       "      <td>likes dogs and likes cats</td>\n",
       "      <td>agnosticism and very serious about it</td>\n",
       "      <td>m</td>\n",
       "      <td>gemini</td>\n",
       "      <td>sometimes</td>\n",
       "      <td>english</td>\n",
       "      <td>single</td>\n",
       "      <td>gemini</td>\n",
       "      <td>about me:&lt;br /&gt;\\n&lt;br /&gt;\\ni would love to think that i was some some kind of intellectual:\\neither the dumbest smart guy, or the smartest dumb guy. can't say i\\ncan tell the difference. i love to talk about ideas and concepts. i\\nforge odd metaphors instead of reciting cliches. like the\\nsimularities between a friend of mine's house and an underwater\\nsalt mine. my favorite word is salt by the way (weird choice i\\nknow). to me most things in life are better as metaphors. i seek to\\nmake mysel...</td>\n",
       "    </tr>\n",
       "    <tr>\n",
       "      <th>1</th>\n",
       "      <td>35</td>\n",
       "      <td>average</td>\n",
       "      <td>mostly other</td>\n",
       "      <td>often</td>\n",
       "      <td>sometimes</td>\n",
       "      <td>working on space camp</td>\n",
       "      <td>i am a chef: this is what that means.&lt;br /&gt;\\n1. i am a workaholic.&lt;br /&gt;\\n2. i love to cook regardless of whether i am at work.&lt;br /&gt;\\n3. i love to drink and eat foods that are probably really bad for\\nme.&lt;br /&gt;\\n4. i love being around people that resemble line 1-3.&lt;br /&gt;\\ni love the outdoors and i am an avid skier. if its snowing i will\\nbe in tahoe at the very least. i am a very confident and friendly.\\ni'm not interested in acting or being a typical guy. i have no time\\nor patience for re...</td>\n",
       "      <td>dedicating everyday to being an unbelievable badass.</td>\n",
       "      <td>being silly. having ridiculous amonts of fun wherever. being a\\nsmart ass. ohh and i can cook. ;)</td>\n",
       "      <td></td>\n",
       "      <td>i am die hard christopher moore fan. i don't really watch a lot of\\ntv unless there is humor involved. i am kind of stuck on 90's\\nalternative music. i am pretty much a fan of everything though... i\\ndo need to draw a line at most types of electronica.</td>\n",
       "      <td>delicious porkness in all of its glories.&lt;br /&gt;\\nmy big ass doughboy's sinking into 15 new inches.&lt;br /&gt;\\nmy overly resilient liver.&lt;br /&gt;\\na good sharp knife.&lt;br /&gt;\\nmy ps3... it plays blurays too. ;)&lt;br /&gt;\\nmy over the top energy and my outlook on life... just give me a bag\\nof lemons and see what happens. ;)</td>\n",
       "      <td></td>\n",
       "      <td></td>\n",
       "      <td>i am very open and will share just about anything.</td>\n",
       "      <td></td>\n",
       "      <td>white</td>\n",
       "      <td>70.0</td>\n",
       "      <td>80000</td>\n",
       "      <td>hospitality / travel</td>\n",
       "      <td>2012-06-29-21-41</td>\n",
       "      <td>oakland, california</td>\n",
       "      <td>doesn&amp;rsquo;t have kids, but might want them</td>\n",
       "      <td>straight</td>\n",
       "      <td>likes dogs and likes cats</td>\n",
       "      <td>agnosticism but not too serious about it</td>\n",
       "      <td>m</td>\n",
       "      <td>cancer</td>\n",
       "      <td>no</td>\n",
       "      <td>english (fluently), spanish (poorly), french (poorly)</td>\n",
       "      <td>single</td>\n",
       "      <td>cancer</td>\n",
       "      <td>i am a chef: this is what that means.&lt;br /&gt;\\n1. i am a workaholic.&lt;br /&gt;\\n2. i love to cook regardless of whether i am at work.&lt;br /&gt;\\n3. i love to drink and eat foods that are probably really bad for\\nme.&lt;br /&gt;\\n4. i love being around people that resemble line 1-3.&lt;br /&gt;\\ni love the outdoors and i am an avid skier. if its snowing i will\\nbe in tahoe at the very least. i am a very confident and friendly.\\ni'm not interested in acting or being a typical guy. i have no time\\nor patience for re...</td>\n",
       "    </tr>\n",
       "    <tr>\n",
       "      <th>2</th>\n",
       "      <td>38</td>\n",
       "      <td>thin</td>\n",
       "      <td>anything</td>\n",
       "      <td>socially</td>\n",
       "      <td>NaN</td>\n",
       "      <td>graduated from masters program</td>\n",
       "      <td>i'm not ashamed of much, but writing public text on an online\\ndating site makes me pleasantly uncomfortable. i'll try to be as\\nearnest as possible in the noble endeavor of standing naked before\\nthe world.&lt;br /&gt;\\n&lt;br /&gt;\\ni've lived in san francisco for 15 years, and both love it and find\\nmyself frustrated with its deficits. lots of great friends and\\nacquaintances (which increases my apprehension to put anything on\\nthis site), but i'm feeling like meeting some new people that\\naren't jus...</td>\n",
       "      <td>i make nerdy software for musicians, artists, and experimenters to\\nindulge in their own weirdness, but i like to spend time away from\\nthe computer when working on my artwork (which is typically more\\nconcerned with group dynamics and communication, than with visual\\nform, objects, or technology). i also record and deejay dance,\\nnoise, pop, and experimental music (most of which electronic or at\\nleast studio based). besides these relatively ego driven\\nactivities, i've been enjoying things...</td>\n",
       "      <td>improvising in different contexts. alternating between being\\npresent and decidedly outside of a moment, or trying to hold both\\nat once. rambling intellectual conversations that hold said\\nconversations in contempt while seeking to find something that\\ntranscends them. being critical while remaining generous. listening\\nto and using body language--often performed in caricature or large\\ngestures, if not outright interpretive dance. dry, dark, and\\nraunchy humor.</td>\n",
       "      <td>my large jaw and large glasses are the physical things people\\ncomment on the most. when sufficiently stimulated, i have an\\nunmistakable cackle of a laugh. after that, it goes in more\\ndirections than i care to describe right now. maybe i'll come back\\nto this.</td>\n",
       "      <td>okay this is where the cultural matrix gets so specific, it's like\\nbeing in the crosshairs.&lt;br /&gt;\\n&lt;br /&gt;\\nfor what it's worth, i find myself reading more non-fiction than\\nfiction. it's usually some kind of philosophy, art, or science text\\nby silly authors such as ranciere, de certeau, bataille,\\nbaudrillard, butler, stein, arendt, nietzche, zizek, etc. i'll\\noften throw in some weird new age or pop-psychology book in the mix\\nas well. as for fiction, i enjoy what little i've read of eco,...</td>\n",
       "      <td>movement&lt;br /&gt;\\nconversation&lt;br /&gt;\\ncreation&lt;br /&gt;\\ncontemplation&lt;br /&gt;\\ntouch&lt;br /&gt;\\nhumor</td>\n",
       "      <td></td>\n",
       "      <td>viewing. listening. dancing. talking. drinking. performing.</td>\n",
       "      <td>when i was five years old, i was known as \"the boogerman\".</td>\n",
       "      <td>you are bright, open, intense, silly, ironic, critical, caring,\\ngenerous, looking for an exploration, rather than finding \"a match\"\\nof some predetermined qualities.&lt;br /&gt;\\n&lt;br /&gt;\\ni'm currently in a fabulous and open relationship, so you should be\\ncomfortable with that.</td>\n",
       "      <td>NaN</td>\n",
       "      <td>68.0</td>\n",
       "      <td>-1</td>\n",
       "      <td>NaN</td>\n",
       "      <td>2012-06-27-09-10</td>\n",
       "      <td>san francisco, california</td>\n",
       "      <td>NaN</td>\n",
       "      <td>straight</td>\n",
       "      <td>has cats</td>\n",
       "      <td>NaN</td>\n",
       "      <td>m</td>\n",
       "      <td>pisces but it doesn&amp;rsquo;t matter</td>\n",
       "      <td>no</td>\n",
       "      <td>english, french, c++</td>\n",
       "      <td>available</td>\n",
       "      <td>pisces</td>\n",
       "      <td>i'm not ashamed of much, but writing public text on an online\\ndating site makes me pleasantly uncomfortable. i'll try to be as\\nearnest as possible in the noble endeavor of standing naked before\\nthe world.&lt;br /&gt;\\n&lt;br /&gt;\\ni've lived in san francisco for 15 years, and both love it and find\\nmyself frustrated with its deficits. lots of great friends and\\nacquaintances (which increases my apprehension to put anything on\\nthis site), but i'm feeling like meeting some new people that\\naren't jus...</td>\n",
       "    </tr>\n",
       "    <tr>\n",
       "      <th>3</th>\n",
       "      <td>23</td>\n",
       "      <td>thin</td>\n",
       "      <td>vegetarian</td>\n",
       "      <td>socially</td>\n",
       "      <td>NaN</td>\n",
       "      <td>working on college/university</td>\n",
       "      <td>i work in a library and go to school. . .</td>\n",
       "      <td>reading things written by old dead people</td>\n",
       "      <td>playing synthesizers and organizing books according to the library\\nof congress classification system</td>\n",
       "      <td>socially awkward but i do my best</td>\n",
       "      <td>bataille, celine, beckett. . .&lt;br /&gt;\\nlynch, jarmusch, r.w. fassbender. . .&lt;br /&gt;\\ntwin peaks &amp;amp; fishing w/ john&lt;br /&gt;\\njoy division, throbbing gristle, cabaret voltaire. . .&lt;br /&gt;\\nvegetarian pho and coffee</td>\n",
       "      <td></td>\n",
       "      <td>cats and german philosophy</td>\n",
       "      <td></td>\n",
       "      <td></td>\n",
       "      <td>you feel so inclined.</td>\n",
       "      <td>white</td>\n",
       "      <td>71.0</td>\n",
       "      <td>20000</td>\n",
       "      <td>student</td>\n",
       "      <td>2012-06-28-14-22</td>\n",
       "      <td>berkeley, california</td>\n",
       "      <td>doesn&amp;rsquo;t want kids</td>\n",
       "      <td>straight</td>\n",
       "      <td>likes cats</td>\n",
       "      <td>NaN</td>\n",
       "      <td>m</td>\n",
       "      <td>pisces</td>\n",
       "      <td>no</td>\n",
       "      <td>english, german (poorly)</td>\n",
       "      <td>single</td>\n",
       "      <td>pisces</td>\n",
       "      <td>i work in a library and go to school. . .reading things written by old dead peopleplaying synthesizers and organizing books according to the library\\nof congress classification systemsocially awkward but i do my bestbataille, celine, beckett. . .&lt;br /&gt;\\nlynch, jarmusch, r.w. fassbender. . .&lt;br /&gt;\\ntwin peaks &amp;amp; fishing w/ john&lt;br /&gt;\\njoy division, throbbing gristle, cabaret voltaire. . .&lt;br /&gt;\\nvegetarian pho and coffeecats and german philosophyyou feel so inclined.</td>\n",
       "    </tr>\n",
       "    <tr>\n",
       "      <th>4</th>\n",
       "      <td>29</td>\n",
       "      <td>athletic</td>\n",
       "      <td>NaN</td>\n",
       "      <td>socially</td>\n",
       "      <td>never</td>\n",
       "      <td>graduated from college/university</td>\n",
       "      <td>hey how's it going? currently vague on the profile i know, more to\\ncome soon. looking to meet new folks outside of my circle of\\nfriends. i'm pretty responsive on the reply tip, feel free to drop\\na line. cheers.</td>\n",
       "      <td>work work work work + play</td>\n",
       "      <td>creating imagery to look at:&lt;br /&gt;\\nhttp://bagsbrown.blogspot.com/&lt;br /&gt;\\nhttp://stayruly.blogspot.com/</td>\n",
       "      <td>i smile a lot and my inquisitive nature</td>\n",
       "      <td>music: bands, rappers, musicians&lt;br /&gt;\\nat the moment: thee oh sees.&lt;br /&gt;\\nforever: wu-tang&lt;br /&gt;\\nbooks: artbooks for days&lt;br /&gt;\\naudiobooks: my collection, thick (thanks audible)&lt;br /&gt;\\nshows: live ones&lt;br /&gt;\\nfood: with stellar friends whenever&lt;br /&gt;\\nmovies &amp;gt; tv&lt;br /&gt;\\npodcast: radiolab, this american life, the moth, joe rogan, the\\nchamps</td>\n",
       "      <td></td>\n",
       "      <td></td>\n",
       "      <td></td>\n",
       "      <td></td>\n",
       "      <td></td>\n",
       "      <td>asian, black, other</td>\n",
       "      <td>66.0</td>\n",
       "      <td>-1</td>\n",
       "      <td>artistic / musical / writer</td>\n",
       "      <td>2012-06-27-21-26</td>\n",
       "      <td>san francisco, california</td>\n",
       "      <td>NaN</td>\n",
       "      <td>straight</td>\n",
       "      <td>likes dogs and likes cats</td>\n",
       "      <td>NaN</td>\n",
       "      <td>m</td>\n",
       "      <td>aquarius</td>\n",
       "      <td>no</td>\n",
       "      <td>english</td>\n",
       "      <td>single</td>\n",
       "      <td>aquarius</td>\n",
       "      <td>hey how's it going? currently vague on the profile i know, more to\\ncome soon. looking to meet new folks outside of my circle of\\nfriends. i'm pretty responsive on the reply tip, feel free to drop\\na line. cheers.work work work work + playcreating imagery to look at:&lt;br /&gt;\\nhttp://bagsbrown.blogspot.com/&lt;br /&gt;\\nhttp://stayruly.blogspot.com/i smile a lot and my inquisitive naturemusic: bands, rappers, musicians&lt;br /&gt;\\nat the moment: thee oh sees.&lt;br /&gt;\\nforever: wu-tang&lt;br /&gt;\\nbooks: artbooks...</td>\n",
       "    </tr>\n",
       "  </tbody>\n",
       "</table>\n",
       "</div>"
      ],
      "text/plain": [
       "   age       body_type               diet    drinks      drugs  \\\n",
       "0   22  a little extra  strictly anything  socially      never   \n",
       "1   35         average       mostly other     often  sometimes   \n",
       "2   38            thin           anything  socially        NaN   \n",
       "3   23            thin         vegetarian  socially        NaN   \n",
       "4   29        athletic                NaN  socially      never   \n",
       "\n",
       "                           education  \\\n",
       "0      working on college/university   \n",
       "1              working on space camp   \n",
       "2     graduated from masters program   \n",
       "3      working on college/university   \n",
       "4  graduated from college/university   \n",
       "\n",
       "                                                                                                                                                                                                                                                                                                                                                                                                                                                                                                                essay0  \\\n",
       "0  about me:<br />\\n<br />\\ni would love to think that i was some some kind of intellectual:\\neither the dumbest smart guy, or the smartest dumb guy. can't say i\\ncan tell the difference. i love to talk about ideas and concepts. i\\nforge odd metaphors instead of reciting cliches. like the\\nsimularities between a friend of mine's house and an underwater\\nsalt mine. my favorite word is salt by the way (weird choice i\\nknow). to me most things in life are better as metaphors. i seek to\\nmake mysel...   \n",
       "1  i am a chef: this is what that means.<br />\\n1. i am a workaholic.<br />\\n2. i love to cook regardless of whether i am at work.<br />\\n3. i love to drink and eat foods that are probably really bad for\\nme.<br />\\n4. i love being around people that resemble line 1-3.<br />\\ni love the outdoors and i am an avid skier. if its snowing i will\\nbe in tahoe at the very least. i am a very confident and friendly.\\ni'm not interested in acting or being a typical guy. i have no time\\nor patience for re...   \n",
       "2  i'm not ashamed of much, but writing public text on an online\\ndating site makes me pleasantly uncomfortable. i'll try to be as\\nearnest as possible in the noble endeavor of standing naked before\\nthe world.<br />\\n<br />\\ni've lived in san francisco for 15 years, and both love it and find\\nmyself frustrated with its deficits. lots of great friends and\\nacquaintances (which increases my apprehension to put anything on\\nthis site), but i'm feeling like meeting some new people that\\naren't jus...   \n",
       "3                                                                                                                                                                                                                                                                                                                                                                                                                                                                            i work in a library and go to school. . .   \n",
       "4                                                                                                                                                                                                                                                                                                hey how's it going? currently vague on the profile i know, more to\\ncome soon. looking to meet new folks outside of my circle of\\nfriends. i'm pretty responsive on the reply tip, feel free to drop\\na line. cheers.   \n",
       "\n",
       "                                                                                                                                                                                                                                                                                                                                                                                                                                                                                                                essay1  \\\n",
       "0                                                                                                                                                                                                                                              currently working as an international agent for a freight\\nforwarding company. import, export, domestic you know the\\nworks.<br />\\nonline classes and trying to better myself in my free time. perhaps\\na hours worth of a good book or a video game on a lazy sunday.   \n",
       "1                                                                                                                                                                                                                                                                                                                                                                                                                                                                 dedicating everyday to being an unbelievable badass.   \n",
       "2  i make nerdy software for musicians, artists, and experimenters to\\nindulge in their own weirdness, but i like to spend time away from\\nthe computer when working on my artwork (which is typically more\\nconcerned with group dynamics and communication, than with visual\\nform, objects, or technology). i also record and deejay dance,\\nnoise, pop, and experimental music (most of which electronic or at\\nleast studio based). besides these relatively ego driven\\nactivities, i've been enjoying things...   \n",
       "3                                                                                                                                                                                                                                                                                                                                                                                                                                                                            reading things written by old dead people   \n",
       "4                                                                                                                                                                                                                                                                                                                                                                                                                                                                                           work work work work + play   \n",
       "\n",
       "                                                                                                                                                                                                                                                                                                                                                                                                                                                                                essay2  \\\n",
       "0                                                                                                                                                                                                                                                                                                                                                     making people laugh.<br />\\nranting about a good salting.<br />\\nfinding simplicity in complexity, and complexity in simplicity.   \n",
       "1                                                                                                                                                                                                                                                                                                                                                                                    being silly. having ridiculous amonts of fun wherever. being a\\nsmart ass. ohh and i can cook. ;)   \n",
       "2  improvising in different contexts. alternating between being\\npresent and decidedly outside of a moment, or trying to hold both\\nat once. rambling intellectual conversations that hold said\\nconversations in contempt while seeking to find something that\\ntranscends them. being critical while remaining generous. listening\\nto and using body language--often performed in caricature or large\\ngestures, if not outright interpretive dance. dry, dark, and\\nraunchy humor.   \n",
       "3                                                                                                                                                                                                                                                                                                                                                                                playing synthesizers and organizing books according to the library\\nof congress classification system   \n",
       "4                                                                                                                                                                                                                                                                                                                                                                              creating imagery to look at:<br />\\nhttp://bagsbrown.blogspot.com/<br />\\nhttp://stayruly.blogspot.com/   \n",
       "\n",
       "                                                                                                                                                                                                                                                                   essay3  \\\n",
       "0                                                                                                                                           the way i look. i am a six foot half asian, half caucasian mutt. it\\nmakes it tough not to notice me, and for me to blend in.   \n",
       "1                                                                                                                                                                                                                                                                           \n",
       "2  my large jaw and large glasses are the physical things people\\ncomment on the most. when sufficiently stimulated, i have an\\nunmistakable cackle of a laugh. after that, it goes in more\\ndirections than i care to describe right now. maybe i'll come back\\nto this.   \n",
       "3                                                                                                                                                                                                                                       socially awkward but i do my best   \n",
       "4                                                                                                                                                                                                                                 i smile a lot and my inquisitive nature   \n",
       "\n",
       "                                                                                                                                                                                                                                                                                                                                                                                                                                                                                                                essay4  \\\n",
       "0                          books:<br />\\nabsurdistan, the republic, of mice and men (only book that made me\\nwant to cry), catcher in the rye, the prince.<br />\\n<br />\\nmovies:<br />\\ngladiator, operation valkyrie, the producers, down periscope.<br />\\n<br />\\nshows:<br />\\nthe borgia, arrested development, game of thrones, monty\\npython<br />\\n<br />\\nmusic:<br />\\naesop rock, hail mary mallon, george thorogood and the delaware\\ndestroyers, felt<br />\\n<br />\\nfood:<br />\\ni'm down for anything.   \n",
       "1                                                                                                                                                                                                                                                         i am die hard christopher moore fan. i don't really watch a lot of\\ntv unless there is humor involved. i am kind of stuck on 90's\\nalternative music. i am pretty much a fan of everything though... i\\ndo need to draw a line at most types of electronica.   \n",
       "2  okay this is where the cultural matrix gets so specific, it's like\\nbeing in the crosshairs.<br />\\n<br />\\nfor what it's worth, i find myself reading more non-fiction than\\nfiction. it's usually some kind of philosophy, art, or science text\\nby silly authors such as ranciere, de certeau, bataille,\\nbaudrillard, butler, stein, arendt, nietzche, zizek, etc. i'll\\noften throw in some weird new age or pop-psychology book in the mix\\nas well. as for fiction, i enjoy what little i've read of eco,...   \n",
       "3                                                                                                                                                                                                                                                                                                   bataille, celine, beckett. . .<br />\\nlynch, jarmusch, r.w. fassbender. . .<br />\\ntwin peaks &amp; fishing w/ john<br />\\njoy division, throbbing gristle, cabaret voltaire. . .<br />\\nvegetarian pho and coffee   \n",
       "4                                                                                                                                                        music: bands, rappers, musicians<br />\\nat the moment: thee oh sees.<br />\\nforever: wu-tang<br />\\nbooks: artbooks for days<br />\\naudiobooks: my collection, thick (thanks audible)<br />\\nshows: live ones<br />\\nfood: with stellar friends whenever<br />\\nmovies &gt; tv<br />\\npodcast: radiolab, this american life, the moth, joe rogan, the\\nchamps   \n",
       "\n",
       "                                                                                                                                                                                                                                                                                                                     essay5  \\\n",
       "0                                                                                                                                                                                                                                                                    food.<br />\\nwater.<br />\\ncell phone.<br />\\nshelter.   \n",
       "1  delicious porkness in all of its glories.<br />\\nmy big ass doughboy's sinking into 15 new inches.<br />\\nmy overly resilient liver.<br />\\na good sharp knife.<br />\\nmy ps3... it plays blurays too. ;)<br />\\nmy over the top energy and my outlook on life... just give me a bag\\nof lemons and see what happens. ;)   \n",
       "2                                                                                                                                                                                                                               movement<br />\\nconversation<br />\\ncreation<br />\\ncontemplation<br />\\ntouch<br />\\nhumor   \n",
       "3                                                                                                                                                                                                                                                                                                                             \n",
       "4                                                                                                                                                                                                                                                                                                                             \n",
       "\n",
       "                        essay6  \\\n",
       "0  duality and humorous things   \n",
       "1                                \n",
       "2                                \n",
       "3   cats and german philosophy   \n",
       "4                                \n",
       "\n",
       "                                                                            essay7  \\\n",
       "0  trying to find someone to hang out with. i am down for anything\\nexcept a club.   \n",
       "1                                                                                    \n",
       "2                      viewing. listening. dancing. talking. drinking. performing.   \n",
       "3                                                                                    \n",
       "4                                                                                    \n",
       "\n",
       "                                                                     essay8  \\\n",
       "0  i am new to california and looking for someone to wisper my secrets\\nto.   \n",
       "1                        i am very open and will share just about anything.   \n",
       "2                when i was five years old, i was known as \"the boogerman\".   \n",
       "3                                                                             \n",
       "4                                                                             \n",
       "\n",
       "                                                                                                                                                                                                                                                                              essay9  \\\n",
       "0                                                                                                                       you want to be swept off your feet!<br />\\nyou are tired of the norm.<br />\\nyou want to catch a coffee or a bite.<br />\\nor if you want to talk philosophy.   \n",
       "1                                                                                                                                                                                                                                                                                      \n",
       "2  you are bright, open, intense, silly, ironic, critical, caring,\\ngenerous, looking for an exploration, rather than finding \"a match\"\\nof some predetermined qualities.<br />\\n<br />\\ni'm currently in a fabulous and open relationship, so you should be\\ncomfortable with that.   \n",
       "3                                                                                                                                                                                                                                                              you feel so inclined.   \n",
       "4                                                                                                                                                                                                                                                                                      \n",
       "\n",
       "             ethnicity  height  income                          job  \\\n",
       "0         asian, white    75.0      -1               transportation   \n",
       "1                white    70.0   80000         hospitality / travel   \n",
       "2                  NaN    68.0      -1                          NaN   \n",
       "3                white    71.0   20000                      student   \n",
       "4  asian, black, other    66.0      -1  artistic / musical / writer   \n",
       "\n",
       "        last_online                         location  \\\n",
       "0  2012-06-28-20-30  south san francisco, california   \n",
       "1  2012-06-29-21-41              oakland, california   \n",
       "2  2012-06-27-09-10        san francisco, california   \n",
       "3  2012-06-28-14-22             berkeley, california   \n",
       "4  2012-06-27-21-26        san francisco, california   \n",
       "\n",
       "                                      offspring orientation  \\\n",
       "0  doesn&rsquo;t have kids, but might want them    straight   \n",
       "1  doesn&rsquo;t have kids, but might want them    straight   \n",
       "2                                           NaN    straight   \n",
       "3                       doesn&rsquo;t want kids    straight   \n",
       "4                                           NaN    straight   \n",
       "\n",
       "                        pets                                  religion sex  \\\n",
       "0  likes dogs and likes cats     agnosticism and very serious about it   m   \n",
       "1  likes dogs and likes cats  agnosticism but not too serious about it   m   \n",
       "2                   has cats                                       NaN   m   \n",
       "3                 likes cats                                       NaN   m   \n",
       "4  likes dogs and likes cats                                       NaN   m   \n",
       "\n",
       "                                 sign     smokes  \\\n",
       "0                              gemini  sometimes   \n",
       "1                              cancer         no   \n",
       "2  pisces but it doesn&rsquo;t matter         no   \n",
       "3                              pisces         no   \n",
       "4                            aquarius         no   \n",
       "\n",
       "                                                  speaks     status    labels  \\\n",
       "0                                                english     single    gemini   \n",
       "1  english (fluently), spanish (poorly), french (poorly)     single    cancer   \n",
       "2                                   english, french, c++  available    pisces   \n",
       "3                               english, german (poorly)     single    pisces   \n",
       "4                                                english     single  aquarius   \n",
       "\n",
       "                                                                                                                                                                                                                                                                                                                                                                                                                                                                                                                 essay  \n",
       "0  about me:<br />\\n<br />\\ni would love to think that i was some some kind of intellectual:\\neither the dumbest smart guy, or the smartest dumb guy. can't say i\\ncan tell the difference. i love to talk about ideas and concepts. i\\nforge odd metaphors instead of reciting cliches. like the\\nsimularities between a friend of mine's house and an underwater\\nsalt mine. my favorite word is salt by the way (weird choice i\\nknow). to me most things in life are better as metaphors. i seek to\\nmake mysel...  \n",
       "1  i am a chef: this is what that means.<br />\\n1. i am a workaholic.<br />\\n2. i love to cook regardless of whether i am at work.<br />\\n3. i love to drink and eat foods that are probably really bad for\\nme.<br />\\n4. i love being around people that resemble line 1-3.<br />\\ni love the outdoors and i am an avid skier. if its snowing i will\\nbe in tahoe at the very least. i am a very confident and friendly.\\ni'm not interested in acting or being a typical guy. i have no time\\nor patience for re...  \n",
       "2  i'm not ashamed of much, but writing public text on an online\\ndating site makes me pleasantly uncomfortable. i'll try to be as\\nearnest as possible in the noble endeavor of standing naked before\\nthe world.<br />\\n<br />\\ni've lived in san francisco for 15 years, and both love it and find\\nmyself frustrated with its deficits. lots of great friends and\\nacquaintances (which increases my apprehension to put anything on\\nthis site), but i'm feeling like meeting some new people that\\naren't jus...  \n",
       "3                            i work in a library and go to school. . .reading things written by old dead peopleplaying synthesizers and organizing books according to the library\\nof congress classification systemsocially awkward but i do my bestbataille, celine, beckett. . .<br />\\nlynch, jarmusch, r.w. fassbender. . .<br />\\ntwin peaks &amp; fishing w/ john<br />\\njoy division, throbbing gristle, cabaret voltaire. . .<br />\\nvegetarian pho and coffeecats and german philosophyyou feel so inclined.  \n",
       "4  hey how's it going? currently vague on the profile i know, more to\\ncome soon. looking to meet new folks outside of my circle of\\nfriends. i'm pretty responsive on the reply tip, feel free to drop\\na line. cheers.work work work work + playcreating imagery to look at:<br />\\nhttp://bagsbrown.blogspot.com/<br />\\nhttp://stayruly.blogspot.com/i smile a lot and my inquisitive naturemusic: bands, rappers, musicians<br />\\nat the moment: thee oh sees.<br />\\nforever: wu-tang<br />\\nbooks: artbooks...  "
      ]
     },
     "execution_count": 72,
     "metadata": {},
     "output_type": "execute_result"
    }
   ],
   "source": [
    "profiles_df.head()"
   ]
  },
  {
   "cell_type": "markdown",
   "metadata": {},
   "source": [
    "Next column to inspect is body type. There are fewer missing values in this column."
   ]
  },
  {
   "cell_type": "markdown",
   "metadata": {},
   "source": [
    "**body_type**"
   ]
  },
  {
   "cell_type": "markdown",
   "metadata": {},
   "source": [
    "Fill missing values with other."
   ]
  },
  {
   "cell_type": "code",
   "execution_count": 75,
   "metadata": {},
   "outputs": [],
   "source": [
    "profiles_df.fillna({'body_type':'other'},\n",
    "          inplace=True)"
   ]
  },
  {
   "cell_type": "markdown",
   "metadata": {},
   "source": [
    "Check the count and create plot of the various body type."
   ]
  },
  {
   "cell_type": "code",
   "execution_count": 76,
   "metadata": {},
   "outputs": [
    {
     "data": {
      "text/plain": [
       "average           12362\n",
       "fit               10137\n",
       "athletic           9197\n",
       "other              3938\n",
       "thin               3754\n",
       "curvy              3603\n",
       "a little extra     2362\n",
       "skinny             1430\n",
       "full figured        940\n",
       "overweight          382\n",
       "jacked              347\n",
       "used up             288\n",
       "rather not say      150\n",
       "Name: body_type, dtype: int64"
      ]
     },
     "execution_count": 76,
     "metadata": {},
     "output_type": "execute_result"
    }
   ],
   "source": [
    "profiles_df['body_type'].value_counts()"
   ]
  },
  {
   "cell_type": "code",
   "execution_count": 103,
   "metadata": {},
   "outputs": [
    {
     "data": {
      "image/png": "[encoded data removed]",
      "text/plain": [
       "<Figure size 1008x1080 with 1 Axes>"
      ]
     },
     "metadata": {},
     "output_type": "display_data"
    }
   ],
   "source": [
    "fig, ax = plt.subplots()\n",
    "# the size of A4 paper lanscape\n",
    "fig.set_size_inches(14, 15)\n",
    "sns.set_context(\"poster\", font_scale = .6, rc={\"grid.linewidth\": 0.6})\n",
    "sns.countplot(y = profiles_df['body_type'], order=profiles_df['body_type'].value_counts(ascending=False).index, ax=ax)\n",
    "plt.setp(ax.get_xticklabels(), rotation=45)\n",
    "plt.title('Count of Body Type')\n",
    "plt.savefig('body_type.png')\n",
    "plt.show()"
   ]
  },
  {
   "cell_type": "markdown",
   "metadata": {},
   "source": [
    "**diet**"
   ]
  },
  {
   "cell_type": "code",
   "execution_count": 80,
   "metadata": {},
   "outputs": [
    {
     "name": "stdout",
     "output_type": "stream",
     "text": [
      "mostly anything        14261\n",
      "anything                5032\n",
      "strictly anything       4270\n",
      "mostly vegetarian       2930\n",
      "mostly other             909\n",
      "strictly vegetarian      733\n",
      "vegetarian               539\n",
      "strictly other           404\n",
      "mostly vegan             293\n",
      "other                    286\n",
      "strictly vegan           196\n",
      "vegan                    111\n",
      "mostly kosher             70\n",
      "mostly halal              40\n",
      "strictly kosher           14\n",
      "strictly halal            14\n",
      "halal                     10\n",
      "kosher                     8\n",
      "Name: diet, dtype: int64\n",
      "18\n"
     ]
    }
   ],
   "source": [
    "print(profiles_df['diet'].value_counts())\n",
    "print(profiles_df['diet'].nunique())"
   ]
  },
  {
   "cell_type": "markdown",
   "metadata": {},
   "source": [
    "There are 18 sub categories of diet. For the purpose of this exercise, the categories will be collapsed into their parent categories namely, anything, vegetarian, vegan, halal, kosher and other. The null values will be filled with **other**."
   ]
  },
  {
   "cell_type": "code",
   "execution_count": 81,
   "metadata": {},
   "outputs": [],
   "source": [
    "profiles_df['diet'].fillna('other', inplace = True)"
   ]
  },
  {
   "cell_type": "code",
   "execution_count": 82,
   "metadata": {},
   "outputs": [],
   "source": [
    "profiles_df['diet'].replace({'mostly anything': 'anything',\n",
    "                             'strictly anything': 'anything',\n",
    "                             'mostly vegetarian': 'vegetarian',\n",
    "                             'strictly vegetarian': 'vegetarian',\n",
    "                             'mostly other': 'other',\n",
    "                             'strictly other': 'other',\n",
    "                             'mostly vegan': 'vegan',\n",
    "                             'strictly vegan': 'vegan',\n",
    "                             'mostly halal': 'halal',\n",
    "                             'strictly halal': 'halal',\n",
    "                             'mostly kosher': 'kosher',\n",
    "                             'strictly kosher': 'kosher'   \n",
    "                                }, inplace = True)"
   ]
  },
  {
   "cell_type": "code",
   "execution_count": 83,
   "metadata": {},
   "outputs": [
    {
     "name": "stdout",
     "output_type": "stream",
     "text": [
      "anything      23563\n",
      "other         20369\n",
      "vegetarian     4202\n",
      "vegan           600\n",
      "kosher           92\n",
      "halal            64\n",
      "Name: diet, dtype: int64\n",
      "6\n"
     ]
    }
   ],
   "source": [
    "print(profiles_df['diet'].value_counts())\n",
    "print(profiles_df['diet'].nunique())"
   ]
  },
  {
   "cell_type": "code",
   "execution_count": 104,
   "metadata": {},
   "outputs": [
    {
     "data": {
      "image/png": "[encoded data removed]",
      "text/plain": [
       "<Figure size 1080x576 with 1 Axes>"
      ]
     },
     "metadata": {},
     "output_type": "display_data"
    }
   ],
   "source": [
    "fig, ax = plt.subplots()\n",
    "# the size of A4 paper lanscape\n",
    "fig.set_size_inches(15, 8)\n",
    "sns.set_context(\"poster\", font_scale = .6, rc={\"grid.linewidth\": 0.6})\n",
    "sns.countplot(y = profiles_df['diet'], order=profiles_df['diet'].value_counts(ascending=False).index, ax=ax)\n",
    "plt.setp(ax.get_xticklabels(), rotation=45)\n",
    "plt.title('Count of diet')\n",
    "plt.savefig('diet.png')\n",
    "plt.show()"
   ]
  },
  {
   "cell_type": "code",
   "execution_count": 90,
   "metadata": {},
   "outputs": [],
   "source": [
    "# profiles_df.info()"
   ]
  },
  {
   "cell_type": "markdown",
   "metadata": {},
   "source": [
    "**drinks**"
   ]
  },
  {
   "cell_type": "code",
   "execution_count": 91,
   "metadata": {},
   "outputs": [
    {
     "name": "stdout",
     "output_type": "stream",
     "text": [
      "socially       34647\n",
      "rarely          5034\n",
      "often           4289\n",
      "not at all      2770\n",
      "very often       381\n",
      "desperately      243\n",
      "Name: drinks, dtype: int64\n",
      "There are 6 distinct drinks categories:\n",
      ".........................................................................\n",
      "['socially' 'often' 'not at all' 'rarely' nan 'very often' 'desperately']\n"
     ]
    }
   ],
   "source": [
    "print(profiles_df['drinks'].value_counts())\n",
    "print(f\"There are {profiles_df['drinks'].nunique()} distinct drinks categories:\")\n",
    "print(f\".........................................................................\")\n",
    "print(profiles_df['drinks'].unique())"
   ]
  },
  {
   "cell_type": "markdown",
   "metadata": {},
   "source": [
    "Replace nulls with **other**"
   ]
  },
  {
   "cell_type": "code",
   "execution_count": 92,
   "metadata": {},
   "outputs": [],
   "source": [
    "profiles_df['drinks'].fillna('other', inplace = True)"
   ]
  },
  {
   "cell_type": "code",
   "execution_count": 105,
   "metadata": {},
   "outputs": [
    {
     "data": {
      "image/png": "[encoded data removed]",
      "text/plain": [
       "<Figure size 1080x576 with 1 Axes>"
      ]
     },
     "metadata": {},
     "output_type": "display_data"
    }
   ],
   "source": [
    "fig, ax = plt.subplots()\n",
    "# the size of A4 paper lanscape\n",
    "fig.set_size_inches(15, 8)\n",
    "sns.set_context(\"poster\", font_scale = .6, rc={\"grid.linewidth\": 0.6})\n",
    "sns.countplot(y = profiles_df['drinks'], order=profiles_df['drinks'].value_counts(ascending=False).index, ax=ax)\n",
    "plt.setp(ax.get_xticklabels(), rotation=45)\n",
    "plt.title('Count of drinks')\n",
    "plt.savefig('drinks.png')\n",
    "plt.show()"
   ]
  },
  {
   "cell_type": "markdown",
   "metadata": {},
   "source": [
    "From the plot, we can tell that social drinkers make up most of the users on the dating platform."
   ]
  },
  {
   "cell_type": "markdown",
   "metadata": {},
   "source": [
    "**drugs**"
   ]
  },
  {
   "cell_type": "code",
   "execution_count": 100,
   "metadata": {},
   "outputs": [
    {
     "name": "stdout",
     "output_type": "stream",
     "text": [
      "never        0.622152\n",
      "other        0.231806\n",
      "sometimes    0.139026\n",
      "often        0.007016\n",
      "Name: drugs, dtype: float64\n",
      "There are 4 distinct drugs categories:\n"
     ]
    }
   ],
   "source": [
    "print(profiles_df['drugs'].value_counts(normalize  =True))\n",
    "print(f\"There are {profiles_df['drugs'].nunique()} distinct drugs categories:\")"
   ]
  },
  {
   "cell_type": "code",
   "execution_count": 96,
   "metadata": {},
   "outputs": [],
   "source": [
    "profiles_df['drugs'].fillna('other', inplace = True)"
   ]
  },
  {
   "cell_type": "code",
   "execution_count": 99,
   "metadata": {},
   "outputs": [
    {
     "data": {
      "image/png": "[encoded data removed]",
      "text/plain": [
       "<Figure size 1080x576 with 1 Axes>"
      ]
     },
     "metadata": {},
     "output_type": "display_data"
    }
   ],
   "source": [
    "fig, ax = plt.subplots()\n",
    "# the size of A4 paper lanscape\n",
    "fig.set_size_inches(15, 8)\n",
    "sns.set_context(\"poster\", font_scale = .6, rc={\"grid.linewidth\": 0.6})\n",
    "sns.countplot(y = profiles_df['drugs'], order=profiles_df['drugs'].value_counts(ascending=False).index, ax=ax)\n",
    "plt.setp(ax.get_xticklabels(), rotation=45)\n",
    "plt.title('Count of drugs')\n",
    "plt.savefig('drugs.png')\n",
    "plt.show()"
   ]
  },
  {
   "cell_type": "markdown",
   "metadata": {},
   "source": [
    "Over 60% of users claim they have never used drugs while less than 1% use often."
   ]
  },
  {
   "cell_type": "markdown",
   "metadata": {},
   "source": [
    "**education**"
   ]
  },
  {
   "cell_type": "code",
   "execution_count": 106,
   "metadata": {},
   "outputs": [
    {
     "name": "stdout",
     "output_type": "stream",
     "text": [
      "graduated from college/university    0.447205\n",
      "graduated from masters program       0.159985\n",
      "working on college/university        0.114924\n",
      "graduated from two-year college      0.032369\n",
      "working on masters program           0.031943\n",
      "graduated from high school           0.030264\n",
      "working on two-year college          0.022586\n",
      "dropped out of college/university    0.020348\n",
      "graduated from law school            0.019945\n",
      "graduated from ph.d program          0.019676\n",
      "working on ph.d program              0.014953\n",
      "college/university                   0.014035\n",
      "graduated from space camp            0.013162\n",
      "dropped out of space camp            0.010364\n",
      "working on space camp                0.009111\n",
      "graduated from med school            0.007477\n",
      "working on law school                0.004813\n",
      "two-year college                     0.004522\n",
      "dropped out of two-year college      0.004052\n",
      "working on med school                0.003761\n",
      "dropped out of masters program       0.002552\n",
      "dropped out of ph.d program          0.002037\n",
      "dropped out of high school           0.001992\n",
      "working on high school               0.001880\n",
      "high school                          0.001858\n",
      "masters program                      0.001679\n",
      "space camp                           0.001119\n",
      "ph.d program                         0.000381\n",
      "dropped out of law school            0.000358\n",
      "law school                           0.000313\n",
      "dropped out of med school            0.000201\n",
      "med school                           0.000134\n",
      "Name: education, dtype: float64\n",
      "There are 32 distinct education categories:\n"
     ]
    }
   ],
   "source": [
    "print(profiles_df['education'].value_counts(normalize  =True))\n",
    "print(f\"There are {profiles_df['education'].nunique()} distinct education categories:\")"
   ]
  },
  {
   "cell_type": "markdown",
   "metadata": {},
   "source": [
    "**education** contains 32 distinct values including graduated, working on, and dropped out. These labels are cut across various levels of education: high school, two year college, college/university, masters, ph.D, med school, law school and space camp. To make the analysis easier, the education column will be split into two, with set of values for education status and the other for education level.\n",
    "In order to split and extract desired values, the labels should be uniformly labeled to either contain graduated, working on or dropped out. Stand alone labels are transformed by adding 'graduated from' prefix to them."
   ]
  },
  {
   "cell_type": "code",
   "execution_count": 185,
   "metadata": {},
   "outputs": [],
   "source": [
    "profiles_df['education'].fillna('other', inplace = True)"
   ]
  },
  {
   "cell_type": "code",
   "execution_count": 186,
   "metadata": {},
   "outputs": [],
   "source": [
    "profiles_df['education'].replace({'college/university': 'graduated from college/university',\n",
    "                                  'high school': 'graduated from high school',\n",
    "                                  'two-year college': 'graduated from two-year college',\n",
    "                                  'masters program': 'graduated from masters program',\n",
    "                                  'space camp': 'graduated from space camp',\n",
    "                                  'ph.d program': 'graduated from ph.d program',\n",
    "                                  'law school': 'graduated from law school',\n",
    "                                  'med school': 'graduated from med school'\n",
    "                                 }, inplace = True)"
   ]
  },
  {
   "cell_type": "code",
   "execution_count": 114,
   "metadata": {},
   "outputs": [],
   "source": [
    "#print(profiles_df['education'].value_counts(normalize  =True))"
   ]
  },
  {
   "cell_type": "markdown",
   "metadata": {},
   "source": [
    "Extract values for education status and education level."
   ]
  },
  {
   "cell_type": "code",
   "execution_count": 187,
   "metadata": {},
   "outputs": [],
   "source": [
    "edu_vals = profiles_df.apply(lambda label: label['education'].split(), axis=1) "
   ]
  },
  {
   "cell_type": "code",
   "execution_count": 191,
   "metadata": {},
   "outputs": [
    {
     "data": {
      "text/plain": [
       "48890"
      ]
     },
     "execution_count": 191,
     "metadata": {},
     "output_type": "execute_result"
    }
   ],
   "source": [
    "len(edu_vals)"
   ]
  },
  {
   "cell_type": "code",
   "execution_count": 194,
   "metadata": {},
   "outputs": [],
   "source": [
    "status_vals = []\n",
    "for x in edu_vals:\n",
    "    if 'graduated' in x:\n",
    "        status_vals.append('graduated')\n",
    "    elif 'other' in x:\n",
    "        status_vals.append('other')\n",
    "    elif 'working' and 'on' in x:\n",
    "        status_vals.append('working on')\n",
    "    elif 'dropped' and 'out' in x:\n",
    "        status_vals.append('dropped out')    "
   ]
  },
  {
   "cell_type": "code",
   "execution_count": 195,
   "metadata": {},
   "outputs": [
    {
     "data": {
      "text/plain": [
       "48890"
      ]
     },
     "execution_count": 195,
     "metadata": {},
     "output_type": "execute_result"
    }
   ],
   "source": [
    "len(status_vals)"
   ]
  },
  {
   "cell_type": "code",
   "execution_count": 196,
   "metadata": {},
   "outputs": [],
   "source": [
    "level_vals = []\n",
    "for x in edu_vals:\n",
    "    if 'college/university' in x:\n",
    "        level_vals.append('college/university')\n",
    "    elif 'other' in x:\n",
    "        level_vals.append('other')\n",
    "    elif 'high' and 'school' in x:\n",
    "        level_vals.append('high school')\n",
    "    elif 'two-year' and 'college' in x:\n",
    "        level_vals.append('two-year college')\n",
    "    elif 'masters' and 'program' in x:\n",
    "        level_vals.append('masters program')\n",
    "    elif 'ph.d' and 'program' in x:\n",
    "        level_vals.append('ph.d program')\n",
    "    elif 'law' and 'school' in x:\n",
    "        level_vals.append('law school')\n",
    "    elif 'med' and 'school' in x:\n",
    "        level_vals.append('med school')\n",
    "    elif 'space' and 'camp' in x:\n",
    "        level_vals.append('space camp')"
   ]
  },
  {
   "cell_type": "code",
   "execution_count": 197,
   "metadata": {},
   "outputs": [
    {
     "data": {
      "text/plain": [
       "48890"
      ]
     },
     "execution_count": 197,
     "metadata": {},
     "output_type": "execute_result"
    }
   ],
   "source": [
    "len(level_vals)"
   ]
  },
  {
   "cell_type": "code",
   "execution_count": 198,
   "metadata": {},
   "outputs": [],
   "source": [
    "profiles_df['edu_status'] = [x for x in status_vals]\n",
    "profiles_df['edu_level'] = [x for x in level_vals]"
   ]
  },
  {
   "cell_type": "code",
   "execution_count": 199,
   "metadata": {},
   "outputs": [
    {
     "data": {
      "image/png": "[encoded data removed]",
      "text/plain": [
       "<Figure size 1080x576 with 1 Axes>"
      ]
     },
     "metadata": {},
     "output_type": "display_data"
    }
   ],
   "source": [
    "fig, ax = plt.subplots()\n",
    "# the size of A4 paper lanscape\n",
    "fig.set_size_inches(15, 8)\n",
    "sns.set_context(\"poster\", font_scale = .6, rc={\"grid.linewidth\": 0.6})\n",
    "sns.countplot(y = profiles_df['edu_status'], order=profiles_df['edu_status'].value_counts(ascending=False).index, ax=ax)\n",
    "plt.setp(ax.get_xticklabels(), rotation=45)\n",
    "plt.title('Count of Education Status')\n",
    "plt.savefig('edu_status.png')\n",
    "plt.show()"
   ]
  },
  {
   "cell_type": "code",
   "execution_count": 201,
   "metadata": {},
   "outputs": [
    {
     "data": {
      "text/plain": [
       "graduated      0.689078\n",
       "working on     0.186378\n",
       "other          0.086255\n",
       "dropped out    0.038290\n",
       "Name: edu_status, dtype: float64"
      ]
     },
     "execution_count": 201,
     "metadata": {},
     "output_type": "execute_result"
    }
   ],
   "source": [
    "profiles_df['edu_status'].value_counts(normalize = True)"
   ]
  },
  {
   "cell_type": "markdown",
   "metadata": {},
   "source": [
    "The plot indicates that more than half of users are graduates from atleast one of the levels of education."
   ]
  },
  {
   "cell_type": "code",
   "execution_count": 200,
   "metadata": {},
   "outputs": [
    {
     "data": {
      "image/png": "[encoded data removed]",
      "text/plain": [
       "<Figure size 1080x576 with 1 Axes>"
      ]
     },
     "metadata": {},
     "output_type": "display_data"
    }
   ],
   "source": [
    "fig, ax = plt.subplots()\n",
    "# the size of A4 paper lanscape\n",
    "fig.set_size_inches(15, 8)\n",
    "sns.set_context(\"poster\", font_scale = .6, rc={\"grid.linewidth\": 0.6})\n",
    "sns.countplot(y = profiles_df['edu_level'], order=profiles_df['edu_level'].value_counts(ascending=False).index, ax=ax)\n",
    "plt.setp(ax.get_xticklabels(), rotation=45)\n",
    "plt.title('Count of Education Level')\n",
    "plt.savefig('edu_level.png')\n",
    "plt.show()"
   ]
  },
  {
   "cell_type": "code",
   "execution_count": 202,
   "metadata": {},
   "outputs": [
    {
     "data": {
      "text/plain": [
       "college/university    0.545060\n",
       "masters program       0.213091\n",
       "other                 0.086255\n",
       "high school           0.066701\n",
       "two-year college      0.058049\n",
       "space camp            0.030845\n",
       "Name: edu_level, dtype: float64"
      ]
     },
     "execution_count": 202,
     "metadata": {},
     "output_type": "execute_result"
    }
   ],
   "source": [
    "profiles_df['edu_level'].value_counts(normalize = True)"
   ]
  },
  {
   "cell_type": "markdown",
   "metadata": {},
   "source": [
    "The plot indicates that more than half of users are either working on or obtained a college/university degree or dropped out at this level."
   ]
  },
  {
   "cell_type": "code",
   "execution_count": 204,
   "metadata": {},
   "outputs": [
    {
     "data": {
      "image/png": "[encoded data removed]",
      "text/plain": [
       "<Figure size 1080x576 with 1 Axes>"
      ]
     },
     "metadata": {},
     "output_type": "display_data"
    }
   ],
   "source": [
    "fig, ax = plt.subplots()\n",
    "# the size of A4 paper lanscape\n",
    "fig.set_size_inches(15, 8)\n",
    "sns.set_context(\"poster\", font_scale = .6, rc={\"grid.linewidth\": 0.6})\n",
    "sns.countplot(x='edu_level', hue='edu_status', data=profiles_df, ax=ax)\n",
    "plt.setp(ax.get_xticklabels(), rotation=45)\n",
    "plt.title('Count of Education Level vs Status')\n",
    "plt.savefig('edu_level_v_status.png')\n",
    "plt.show()\n",
    "\n",
    "# sns.countplot(x='edu_level', hue='edu_status', data=profiles_df)\n",
    "# plt.show()"
   ]
  },
  {
   "cell_type": "markdown",
   "metadata": {},
   "source": [
    "**ethnicity**"
   ]
  },
  {
   "cell_type": "code",
   "execution_count": 207,
   "metadata": {},
   "outputs": [
    {
     "data": {
      "text/plain": [
       "array(['asian, white', 'white', nan, 'asian, black, other',\n",
       "       'white, other', 'hispanic / latin, white', 'hispanic / latin',\n",
       "       'pacific islander, white', 'asian', 'black, white',\n",
       "       'pacific islander', 'asian, pacific islander',\n",
       "       'black, native american, white', 'middle eastern, other',\n",
       "       'native american, white', 'indian', 'black',\n",
       "       'black, native american, hispanic / latin',\n",
       "       'asian, middle eastern, black, native american, indian, pacific islander, hispanic / latin, white, other',\n",
       "       'hispanic / latin, other', 'other', 'asian, black',\n",
       "       'middle eastern, white', 'native american, white, other',\n",
       "       'black, native american', 'black, white, other',\n",
       "       'hispanic / latin, white, other', 'middle eastern', 'black, other',\n",
       "       'native american, hispanic / latin, white', 'black, indian',\n",
       "       'indian, white, other',\n",
       "       'black, native american, hispanic / latin, white, other',\n",
       "       'pacific islander, hispanic / latin',\n",
       "       'black, hispanic / latin, white', 'native american',\n",
       "       'asian, white, other', 'black, hispanic / latin',\n",
       "       'middle eastern, hispanic / latin',\n",
       "       'asian, black, native american, pacific islander, white',\n",
       "       'indian, white', 'middle eastern, indian', 'asian, indian',\n",
       "       'pacific islander, other', 'black, native american, white, other',\n",
       "       'middle eastern, native american, white',\n",
       "       'asian, native american, white, other',\n",
       "       'pacific islander, hispanic / latin, white',\n",
       "       'asian, pacific islander, other', 'black, hispanic / latin, other',\n",
       "       'asian, black, native american',\n",
       "       'black, native american, hispanic / latin, white',\n",
       "       'native american, hispanic / latin',\n",
       "       'asian, black, native american, hispanic / latin, white',\n",
       "       'indian, other', 'asian, black, white',\n",
       "       'asian, black, native american, pacific islander, other',\n",
       "       'middle eastern, hispanic / latin, white',\n",
       "       'asian, pacific islander, white',\n",
       "       'asian, native american, hispanic / latin, white, other',\n",
       "       'asian, hispanic / latin', 'asian, pacific islander, white, other',\n",
       "       'middle eastern, white, other',\n",
       "       'asian, pacific islander, hispanic / latin',\n",
       "       'native american, hispanic / latin, white, other',\n",
       "       'black, native american, other', 'asian, other',\n",
       "       'indian, hispanic / latin', 'asian, hispanic / latin, white',\n",
       "       'middle eastern, hispanic / latin, other',\n",
       "       'pacific islander, hispanic / latin, white, other',\n",
       "       'asian, black, hispanic / latin',\n",
       "       'asian, pacific islander, hispanic / latin, white',\n",
       "       'asian, black, native american, white',\n",
       "       'asian, middle eastern, white, other',\n",
       "       'native american, pacific islander, hispanic / latin',\n",
       "       'asian, native american, white',\n",
       "       'native american, pacific islander, hispanic / latin, white, other',\n",
       "       'indian, pacific islander', 'asian, middle eastern, black',\n",
       "       'asian, middle eastern, indian', 'asian, middle eastern, white',\n",
       "       'pacific islander, white, other',\n",
       "       'black, pacific islander, hispanic / latin',\n",
       "       'asian, middle eastern', 'asian, hispanic / latin, other',\n",
       "       'middle eastern, black, native american, indian, white, other',\n",
       "       'middle eastern, pacific islander, other', 'middle eastern, black',\n",
       "       'asian, indian, pacific islander',\n",
       "       'black, native american, pacific islander',\n",
       "       'asian, middle eastern, black, native american, indian, pacific islander, hispanic / latin, white',\n",
       "       'black, indian, other',\n",
       "       'asian, middle eastern, indian, hispanic / latin, white, other',\n",
       "       'middle eastern, black, white',\n",
       "       'asian, hispanic / latin, white, other',\n",
       "       'native american, hispanic / latin, other',\n",
       "       'middle eastern, black, pacific islander, white',\n",
       "       'asian, black, native american, hispanic / latin',\n",
       "       'native american, other', 'black, indian, white',\n",
       "       'asian, native american, hispanic / latin, white',\n",
       "       'black, native american, indian, white',\n",
       "       'middle eastern, black, indian, pacific islander, hispanic / latin, white',\n",
       "       'black, pacific islander',\n",
       "       'middle eastern, hispanic / latin, white, other',\n",
       "       'native american, pacific islander, hispanic / latin, white',\n",
       "       'asian, indian, other', 'asian, black, pacific islander',\n",
       "       'middle eastern, native american, hispanic / latin, white, other',\n",
       "       'asian, middle eastern, black, pacific islander, hispanic / latin, white',\n",
       "       'black, native american, pacific islander, hispanic / latin, white, other',\n",
       "       'asian, middle eastern, native american, hispanic / latin, white',\n",
       "       'asian, middle eastern, black, native american, pacific islander, hispanic / latin, white, other',\n",
       "       'asian, black, native american, other',\n",
       "       'asian, middle eastern, other', 'middle eastern, pacific islander',\n",
       "       'asian, black, hispanic / latin, other',\n",
       "       'asian, middle eastern, black, native american, hispanic / latin, white',\n",
       "       'black, native american, indian, other',\n",
       "       'middle eastern, black, hispanic / latin',\n",
       "       'black, pacific islander, white',\n",
       "       'asian, middle eastern, black, native american, indian, pacific islander, hispanic / latin, other',\n",
       "       'middle eastern, black, native american, indian, hispanic / latin, white',\n",
       "       'asian, pacific islander, hispanic / latin, white, other',\n",
       "       'middle eastern, indian, white',\n",
       "       'middle eastern, black, native american, white, other',\n",
       "       'black, native american, pacific islander, other',\n",
       "       'middle eastern, black, native american, white',\n",
       "       'asian, indian, pacific islander, other',\n",
       "       'asian, black, native american, white, other',\n",
       "       'black, indian, hispanic / latin, white',\n",
       "       'asian, black, pacific islander, hispanic / latin',\n",
       "       'middle eastern, black, native american, indian, pacific islander, hispanic / latin, white, other',\n",
       "       'asian, black, native american, indian',\n",
       "       'asian, black, indian, hispanic / latin, other',\n",
       "       'indian, hispanic / latin, other',\n",
       "       'asian, indian, hispanic / latin',\n",
       "       'asian, native american, pacific islander, white, other',\n",
       "       'asian, black, native american, indian, hispanic / latin, white, other',\n",
       "       'pacific islander, hispanic / latin, other',\n",
       "       'asian, indian, pacific islander, hispanic / latin, white, other',\n",
       "       'indian, hispanic / latin, white',\n",
       "       'asian, native american, pacific islander, hispanic / latin, white, other',\n",
       "       'asian, pacific islander, hispanic / latin, other',\n",
       "       'asian, black, hispanic / latin, white, other',\n",
       "       'black, indian, hispanic / latin',\n",
       "       'middle eastern, black, native american, hispanic / latin, white',\n",
       "       'black, native american, hispanic / latin, other',\n",
       "       'black, pacific islander, other',\n",
       "       'black, native american, pacific islander, white',\n",
       "       'middle eastern, indian, other',\n",
       "       'asian, black, native american, pacific islander',\n",
       "       'middle eastern, native american',\n",
       "       'middle eastern, native american, hispanic / latin',\n",
       "       'black, hispanic / latin, white, other',\n",
       "       'black, native american, indian, hispanic / latin, white, other',\n",
       "       'asian, middle eastern, hispanic / latin, white',\n",
       "       'black, native american, pacific islander, white, other',\n",
       "       'native american, indian, pacific islander, hispanic / latin',\n",
       "       'black, indian, white, other',\n",
       "       'native american, pacific islander, white',\n",
       "       'middle eastern, indian, white, other',\n",
       "       'asian, black, white, other',\n",
       "       'middle eastern, native american, hispanic / latin, white',\n",
       "       'indian, hispanic / latin, white, other',\n",
       "       'asian, native american, pacific islander, hispanic / latin, white',\n",
       "       'asian, middle eastern, black, pacific islander',\n",
       "       'asian, middle eastern, black, indian, pacific islander, hispanic / latin, white',\n",
       "       'asian, indian, white, other', 'asian, indian, white',\n",
       "       'asian, middle eastern, black, white, other',\n",
       "       'black, native american, pacific islander, hispanic / latin, white',\n",
       "       'asian, native american, hispanic / latin',\n",
       "       'black, native american, indian, pacific islander, hispanic / latin',\n",
       "       'asian, black, pacific islander, white',\n",
       "       'middle eastern, pacific islander, hispanic / latin',\n",
       "       'black, native american, indian, white, other',\n",
       "       'asian, black, hispanic / latin, white',\n",
       "       'asian, black, native american, indian, pacific islander, white',\n",
       "       'asian, black, native american, indian, pacific islander, hispanic / latin',\n",
       "       'native american, indian',\n",
       "       'middle eastern, black, native american, indian',\n",
       "       'asian, native american, pacific islander',\n",
       "       'asian, middle eastern, indian, other',\n",
       "       'native american, pacific islander, white, other',\n",
       "       'asian, black, native american, pacific islander, white, other',\n",
       "       'asian, middle eastern, hispanic / latin',\n",
       "       'asian, black, pacific islander, other',\n",
       "       'middle eastern, native american, white, other',\n",
       "       'asian, native american, hispanic / latin, other',\n",
       "       'native american, indian, white',\n",
       "       'black, native american, pacific islander, hispanic / latin',\n",
       "       'asian, native american, pacific islander, white',\n",
       "       'black, native american, indian',\n",
       "       'asian, middle eastern, black, native american, indian, pacific islander, hispanic / latin',\n",
       "       'asian, middle eastern, indian, hispanic / latin',\n",
       "       'asian, middle eastern, native american, pacific islander, other',\n",
       "       'black, native american, indian, pacific islander',\n",
       "       'asian, middle eastern, native american, pacific islander, white, other',\n",
       "       'asian, native american, other', 'middle eastern, black, other',\n",
       "       'asian, black, pacific islander, hispanic / latin, white',\n",
       "       'asian, middle eastern, native american, indian, pacific islander, hispanic / latin, white',\n",
       "       'asian, native american, indian, pacific islander, hispanic / latin, white, other',\n",
       "       'asian, native american',\n",
       "       'asian, middle eastern, black, pacific islander, hispanic / latin',\n",
       "       'asian, black, pacific islander, white, other',\n",
       "       'native american, pacific islander', 'asian, black, indian'],\n",
       "      dtype=object)"
      ]
     },
     "execution_count": 207,
     "metadata": {},
     "output_type": "execute_result"
    }
   ],
   "source": [
    "profiles_df['ethnicity'].unique()\n",
    "print(f\"There are {profiles_df['ethnicity'].nunique()} categories of ethnicity.\")"
   ]
  },
  {
   "cell_type": "markdown",
   "metadata": {},
   "source": [
    "The ethnicities can be categorized based on the distict labels in the ethinicity column:\n",
    "- white\n",
    "- black\n",
    "- asian\n",
    "- native american\n",
    "- hispanic/latin\n",
    "- pacific islander\n",
    "- indian\n",
    "- middle eastern\n",
    "- other \n",
    "- mixed (if identifies with more than one ethnicity)"
   ]
  },
  {
   "cell_type": "code",
   "execution_count": 208,
   "metadata": {},
   "outputs": [],
   "source": [
    "# fill null values with other\n",
    "profiles_df['ethnicity'].fillna('other', inplace = True)"
   ]
  },
  {
   "cell_type": "code",
   "execution_count": 209,
   "metadata": {},
   "outputs": [
    {
     "name": "stdout",
     "output_type": "stream",
     "text": [
      "48890\n"
     ]
    }
   ],
   "source": [
    "ethnic_vals = profiles_df.apply(lambda label: label['ethnicity'].split(','), axis=1) \n",
    "print(len(ethnic_vals))"
   ]
  },
  {
   "cell_type": "code",
   "execution_count": 213,
   "metadata": {},
   "outputs": [],
   "source": [
    "#create empty list to hold extracted ethnicities\n",
    "ethnic_vals_unique = []\n",
    "for x in ethnic_vals:\n",
    "    if len(x) == 1 and 'white' in x:\n",
    "        ethnic_vals_unique.append('white')\n",
    "    elif len(x) == 1 and 'black' in x:\n",
    "        ethnic_vals_unique.append('black')\n",
    "    elif len(x) == 1 and 'asian' in x:\n",
    "        ethnic_vals_unique.append('asian')\n",
    "    elif len(x) == 1 and 'native american' in x:\n",
    "        ethnic_vals_unique.append('native american')\n",
    "    elif len(x) == 1 and 'hispanic/latin' in x:\n",
    "        ethnic_vals_unique.append('hispanic/latin')\n",
    "    elif len(x) == 1 and 'pacific islander' in x:\n",
    "        ethnic_vals_unique.append('pacific islander')\n",
    "    elif len(x) == 1 and 'indian' in x:\n",
    "        ethnic_vals_unique.append('indian')\n",
    "    elif len(x) == 1 and 'middle eastern' in x:\n",
    "        ethnic_vals_unique.append('middle eastern')\n",
    "    elif len(x) == 1 and 'other' in x:\n",
    "        ethnic_vals_unique.append('other')\n",
    "    elif len(x) >= 1:\n",
    "        ethnic_vals_unique.append('mixed')"
   ]
  },
  {
   "cell_type": "code",
   "execution_count": 216,
   "metadata": {},
   "outputs": [],
   "source": [
    "# len(ethnic_vals_unique)\n",
    "# ethnic_vals_unique"
   ]
  },
  {
   "cell_type": "markdown",
   "metadata": {},
   "source": [
    "create a new column to hold disticnt ethnic categories."
   ]
  },
  {
   "cell_type": "code",
   "execution_count": 217,
   "metadata": {},
   "outputs": [],
   "source": [
    "profiles_df['ethnic_id'] = [x for x in ethnic_vals_unique]"
   ]
  },
  {
   "cell_type": "code",
   "execution_count": 225,
   "metadata": {},
   "outputs": [
    {
     "data": {
      "text/plain": [
       "white               0.550174\n",
       "mixed               0.174187\n",
       "other               0.109695\n",
       "asian               0.097648\n",
       "black               0.036858\n",
       "indian              0.017079\n",
       "pacific islander    0.007670\n",
       "middle eastern      0.005645\n",
       "native american     0.001043\n",
       "Name: ethnic_id, dtype: float64"
      ]
     },
     "execution_count": 225,
     "metadata": {},
     "output_type": "execute_result"
    }
   ],
   "source": [
    "profiles_df['ethnic_id'].value_counts(normalize = True)"
   ]
  },
  {
   "cell_type": "code",
   "execution_count": 224,
   "metadata": {},
   "outputs": [
    {
     "data": {
      "image/png": "[encoded data removed]",
      "text/plain": [
       "<Figure size 1080x576 with 1 Axes>"
      ]
     },
     "metadata": {},
     "output_type": "display_data"
    }
   ],
   "source": [
    "fig, ax = plt.subplots()\n",
    "# the size of A4 paper lanscape\n",
    "fig.set_size_inches(15, 8)\n",
    "sns.set_context(\"poster\", font_scale = .6, rc={\"grid.linewidth\": 0.6})\n",
    "sns.countplot(y = profiles_df['ethnic_id'], order=profiles_df['ethnic_id'].value_counts(ascending=False).index, ax=ax)\n",
    "plt.setp(ax.get_xticklabels(), rotation=45)\n",
    "plt.title('Count of Ethnic ID')\n",
    "plt.savefig('ethnic_id.png')\n",
    "plt.show()"
   ]
  },
  {
   "cell_type": "code",
   "execution_count": 226,
   "metadata": {},
   "outputs": [
    {
     "data": {
      "image/png": "[encoded data removed]",
      "text/plain": [
       "<Figure size 1080x576 with 1 Axes>"
      ]
     },
     "metadata": {},
     "output_type": "display_data"
    }
   ],
   "source": [
    "fig, ax = plt.subplots()\n",
    "# the size of A4 paper lanscape\n",
    "fig.set_size_inches(15, 8)\n",
    "sns.set_context(\"poster\", font_scale = .6, rc={\"grid.linewidth\": 0.6})\n",
    "sns.countplot(x = 'ethnic_id', hue = 'sex', data = profiles_df)\n",
    "plt.setp(ax.get_xticklabels(), rotation=45)\n",
    "plt.title('Ethnicity vs Sex')\n",
    "plt.savefig('ethnic_sex.png')\n",
    "plt.show()\n",
    "\n",
    "# sns.countplot(x='edu_level', hue='edu_status', data=profiles_df)\n",
    "# plt.show()"
   ]
  },
  {
   "cell_type": "markdown",
   "metadata": {},
   "source": [
    "More than 50% of users identify as white with males being the largest sex in all ethnic groups. The least ethnic group are pacific islander, native american and middle eastern. They make up about 1% of users."
   ]
  },
  {
   "cell_type": "code",
   "execution_count": 218,
   "metadata": {},
   "outputs": [
    {
     "name": "stdout",
     "output_type": "stream",
     "text": [
      "<class 'pandas.core.frame.DataFrame'>\n",
      "Int64Index: 48890 entries, 0 to 59945\n",
      "Data columns (total 36 columns):\n",
      " #   Column       Non-Null Count  Dtype  \n",
      "---  ------       --------------  -----  \n",
      " 0   age          48890 non-null  int64  \n",
      " 1   body_type    48890 non-null  object \n",
      " 2   diet         48890 non-null  object \n",
      " 3   drinks       48890 non-null  object \n",
      " 4   drugs        48890 non-null  object \n",
      " 5   education    48890 non-null  object \n",
      " 6   essay0       48890 non-null  object \n",
      " 7   essay1       48890 non-null  object \n",
      " 8   essay2       48890 non-null  object \n",
      " 9   essay3       48890 non-null  object \n",
      " 10  essay4       48890 non-null  object \n",
      " 11  essay5       48890 non-null  object \n",
      " 12  essay6       48890 non-null  object \n",
      " 13  essay7       48890 non-null  object \n",
      " 14  essay8       48890 non-null  object \n",
      " 15  essay9       48890 non-null  object \n",
      " 16  ethnicity    48890 non-null  object \n",
      " 17  height       48889 non-null  float64\n",
      " 18  income       48890 non-null  int64  \n",
      " 19  job          43929 non-null  object \n",
      " 20  last_online  48890 non-null  object \n",
      " 21  location     48890 non-null  object \n",
      " 22  offspring    21038 non-null  object \n",
      " 23  orientation  48890 non-null  object \n",
      " 24  pets         35172 non-null  object \n",
      " 25  religion     34760 non-null  object \n",
      " 26  sex          48890 non-null  object \n",
      " 27  sign         48890 non-null  object \n",
      " 28  smokes       45286 non-null  object \n",
      " 29  speaks       48860 non-null  object \n",
      " 30  status       48890 non-null  object \n",
      " 31  labels       48890 non-null  object \n",
      " 32  essay        48890 non-null  object \n",
      " 33  edu_status   48890 non-null  object \n",
      " 34  edu_level    48890 non-null  object \n",
      " 35  ethnic_id    48890 non-null  object \n",
      "dtypes: float64(1), int64(2), object(33)\n",
      "memory usage: 15.1+ MB\n"
     ]
    }
   ],
   "source": [
    "profiles_df.info()"
   ]
  },
  {
   "cell_type": "markdown",
   "metadata": {},
   "source": [
    "**height**"
   ]
  },
  {
   "cell_type": "code",
   "execution_count": 219,
   "metadata": {},
   "outputs": [
    {
     "data": {
      "text/plain": [
       "array([75., 70., 68., 71., 66., 67., 65., 72., 62., 64., 69., 73., 60.,\n",
       "       63., 76., 61., 74., 78., 79., 80., 83., 59., 77., 58., 56., 95.,\n",
       "       57., 87., 81., 43., 52., 55., 53., 93.,  8., 82., 36.,  3., 86.,\n",
       "       84., 94., 50., 47., 49., 48., 54., 90., 88., 37.,  9., 51., 91.,\n",
       "        1., 92., 26., 85., nan, 89.,  4.])"
      ]
     },
     "execution_count": 219,
     "metadata": {},
     "output_type": "execute_result"
    }
   ],
   "source": [
    "profiles_df['height'].unique()"
   ]
  },
  {
   "cell_type": "markdown",
   "metadata": {},
   "source": [
    "Fill the one null value with the mean of the height."
   ]
  },
  {
   "cell_type": "code",
   "execution_count": 221,
   "metadata": {},
   "outputs": [],
   "source": [
    "import numpy as np\n",
    "profiles_df['height'].fillna(value = profiles_df['height'].mean(), inplace = True)"
   ]
  },
  {
   "cell_type": "code",
   "execution_count": 223,
   "metadata": {},
   "outputs": [],
   "source": [
    "# profiles_df['height'].unique()"
   ]
  },
  {
   "cell_type": "code",
   "execution_count": 232,
   "metadata": {},
   "outputs": [
    {
     "data": {
      "image/png": "[encoded data removed]",
      "text/plain": [
       "<Figure size 1080x576 with 1 Axes>"
      ]
     },
     "metadata": {},
     "output_type": "display_data"
    }
   ],
   "source": [
    "fig, ax = plt.subplots()\n",
    "# the size of A4 paper lanscape\n",
    "fig.set_size_inches(15, 8)\n",
    "sns.set_context(\"poster\", font_scale = .6, rc={\"grid.linewidth\": 0.6})\n",
    "sns.histplot(profiles_df['height'], bins=50, kde=True, ax=ax)\n",
    "plt.setp(ax.get_xticklabels(), rotation=45)\n",
    "plt.title('Distribution of Height')\n",
    "plt.savefig('height.png')\n",
    "plt.show()"
   ]
  },
  {
   "cell_type": "code",
   "execution_count": 235,
   "metadata": {},
   "outputs": [
    {
     "data": {
      "image/png": "[encoded data removed]",
      "text/plain": [
       "<Figure size 1080x576 with 1 Axes>"
      ]
     },
     "metadata": {},
     "output_type": "display_data"
    }
   ],
   "source": [
    "fig, ax = plt.subplots()\n",
    "fig.set_size_inches(15, 8)\n",
    "sns.kdeplot(profiles_df[profiles_df['sex']=='m'][\"height\"], shade=True, color=\"blue\", label=\"male\", ax=ax)\n",
    "sns.kdeplot(profiles_df[profiles_df['sex']=='f'][\"height\"], shade=True, color=\"orange\", label=\"female\", ax=ax)\n",
    "\n",
    "ax.set_xlabel(\"Height\")\n",
    "ax.set_ylabel(\"Density\")\n",
    "\n",
    "fig.suptitle(\"Height vs. Sex\");"
   ]
  }
 ],
 "metadata": {
  "kernelspec": {
   "display_name": "Python 3",
   "language": "python",
   "name": "python3"
  },
  "language_info": {
   "codemirror_mode": {
    "name": "ipython",
    "version": 3
   },
   "file_extension": ".py",
   "mimetype": "text/x-python",
   "name": "python",
   "nbconvert_exporter": "python",
   "pygments_lexer": "ipython3",
   "version": "3.6.12"
  }
 },
 "nbformat": 4,
 "nbformat_minor": 4
}
