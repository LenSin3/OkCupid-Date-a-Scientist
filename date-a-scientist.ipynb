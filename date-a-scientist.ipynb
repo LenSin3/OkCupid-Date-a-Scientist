{
 "cells": [
  {
   "cell_type": "markdown",
   "metadata": {},
   "source": [
    "# Zodiac Sign Predictor\n",
    "\n",
    "Online dating is now a common trend in many countries across Europe and North America. This dating method is now preferred over the traditional form because of many reasons including:\n",
    "\n",
    "- Secured communication\n",
    "- Option to scope a plethora of possible dating partners before actually dating\n",
    "- Meet people from different backgrounds\n",
    "- etc.\n",
    "\n",
    "In addition to some of the benefits outlined above, online dating is even made easier through the use of mobile apps for a minimum subscription and free in some platforms. Popular dating platforms like Tinder and Bumble require a monthly fee while OkCupid offers free use of its app.\n",
    "\n",
    "Using these apps comes with a bit of drawback as they require users to provide some personal details such as gender, sexual orientation, level of education, and sometimes brief essays. As this process can seem daunting, users sometimes fail to disclose some of these information. The apps algorithm perform better at suggesting dating partner when more data is provided by the user.\n",
    "\n",
    "In the light of the above, this project will employ Machine Learning to predict zodiac signs of users in online dating sites. The data used is from OkCupid, one of the free dating platforms. The names and identities of the users are not provided in the data set."
   ]
  },
  {
   "cell_type": "markdown",
   "metadata": {},
   "source": [
    "In order to effectively perform our analysis and run Machine Learning models, the following steps will be implemented:\n",
    "- Exploratory Data Analysis\n",
    "- Data Preprocessing\n",
    "- Machine Learning\n",
    "- Conclusion"
   ]
  },
  {
   "cell_type": "markdown",
   "metadata": {},
   "source": [
    "## Exploratory Data Analysis\n",
    "\n",
    "The below will be performed in this step:\n",
    "- Load data\n",
    "- Inspect all columns for data quality issues\n",
    "- Check for data types"
   ]
  }
 ],
 "metadata": {
  "kernelspec": {
   "display_name": "Python 3",
   "language": "python",
   "name": "python3"
  },
  "language_info": {
   "codemirror_mode": {
    "name": "ipython",
    "version": 3
   },
   "file_extension": ".py",
   "mimetype": "text/x-python",
   "name": "python",
   "nbconvert_exporter": "python",
   "pygments_lexer": "ipython3",
   "version": "3.6.12"
  }
 },
 "nbformat": 4,
 "nbformat_minor": 4
}
