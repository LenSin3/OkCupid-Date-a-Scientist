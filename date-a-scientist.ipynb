{
 "cells": [
  {
   "cell_type": "markdown",
   "metadata": {},
   "source": [
    "# Zodiac Sign Predictor\n",
    "\n",
    "Online dating is now a common trend in many countries across Europe and North America. This dating method is preferred over the traditional form because of many reasons including:\n",
    "\n",
    "- Secured communication\n",
    "- Option to scope a plethora of possible dating partners before actually dating\n",
    "- Meet people from different backgrounds\n",
    "- etc.\n",
    "\n",
    "In addition to some of the benefits outlined above, online dating is even made easier through the use of mobile apps for a minimum subscription and free in some platforms. Popular dating platforms like Tinder and Bumble require a monthly fee while OkCupid offers free use of its app.\n",
    "\n",
    "Using these apps comes with a bit of drawback as they require users to provide some personal details such as gender, sexual orientation, level of education, and sometimes brief essays. As this process can seem daunting, users sometimes fail to disclose some of these information. The apps algorithm perform better at suggesting dating partner when more data is provided by the user.\n",
    "\n",
    "In the light of the above, this project will employ Machine Learning to predict zodiac signs of users in online dating sites. The data used is from OkCupid, one of the free dating platforms. The names and identities of the users are not provided in the data set."
   ]
  },
  {
   "cell_type": "markdown",
   "metadata": {},
   "source": [
    "In order to effectively perform our analysis and run Machine Learning models, the following steps will be implemented:\n",
    "- Exploratory Data Analysis\n",
    "- Data Preprocessing\n",
    "- Machine Learning\n",
    "- Conclusion"
   ]
  },
  {
   "cell_type": "markdown",
   "metadata": {},
   "source": [
    "## Exploratory Data Analysis\n",
    "\n",
    "The below will be performed in this step:\n",
    "- Load data\n",
    "- Inspect all columns for data quality issues\n",
    "- Apply statistical analysis"
   ]
  },
  {
   "cell_type": "markdown",
   "metadata": {},
   "source": [
    "### Load Data\n",
    "\n",
    "Import all dependencies for EDA"
   ]
  },
  {
   "cell_type": "code",
   "execution_count": 380,
   "metadata": {},
   "outputs": [],
   "source": [
    "import pandas as pd\n",
    "import matplotlib.pyplot as plt\n",
    "import numpy as np"
   ]
  },
  {
   "cell_type": "code",
   "execution_count": 381,
   "metadata": {},
   "outputs": [],
   "source": [
    "pd.options.display.max_columns = 60\n",
    "pd.options.display.max_colwidth = 500"
   ]
  },
  {
   "cell_type": "code",
   "execution_count": 382,
   "metadata": {},
   "outputs": [
    {
     "name": "stdout",
     "output_type": "stream",
     "text": [
      "There 59946 rows in the data\n",
      "Index(['age', 'body_type', 'diet', 'drinks', 'drugs', 'education', 'essay0',\n",
      "       'essay1', 'essay2', 'essay3', 'essay4', 'essay5', 'essay6', 'essay7',\n",
      "       'essay8', 'essay9', 'ethnicity', 'height', 'income', 'job',\n",
      "       'last_online', 'location', 'offspring', 'orientation', 'pets',\n",
      "       'religion', 'sex', 'sign', 'smokes', 'speaks', 'status'],\n",
      "      dtype='object')\n"
     ]
    }
   ],
   "source": [
    "profiles = pd.read_csv('profiles.csv')\n",
    "print(f\"There {len(profiles)} rows in the data\")\n",
    "print(profiles.columns)"
   ]
  },
  {
   "cell_type": "code",
   "execution_count": 383,
   "metadata": {},
   "outputs": [
    {
     "data": {
      "text/html": [
       "<div>\n",
       "<style scoped>\n",
       "    .dataframe tbody tr th:only-of-type {\n",
       "        vertical-align: middle;\n",
       "    }\n",
       "\n",
       "    .dataframe tbody tr th {\n",
       "        vertical-align: top;\n",
       "    }\n",
       "\n",
       "    .dataframe thead th {\n",
       "        text-align: right;\n",
       "    }\n",
       "</style>\n",
       "<table border=\"1\" class=\"dataframe\">\n",
       "  <thead>\n",
       "    <tr style=\"text-align: right;\">\n",
       "      <th></th>\n",
       "      <th>age</th>\n",
       "      <th>body_type</th>\n",
       "      <th>diet</th>\n",
       "      <th>drinks</th>\n",
       "      <th>drugs</th>\n",
       "      <th>education</th>\n",
       "      <th>essay0</th>\n",
       "      <th>essay1</th>\n",
       "      <th>essay2</th>\n",
       "      <th>essay3</th>\n",
       "      <th>essay4</th>\n",
       "      <th>essay5</th>\n",
       "      <th>essay6</th>\n",
       "      <th>essay7</th>\n",
       "      <th>essay8</th>\n",
       "      <th>essay9</th>\n",
       "      <th>ethnicity</th>\n",
       "      <th>height</th>\n",
       "      <th>income</th>\n",
       "      <th>job</th>\n",
       "      <th>last_online</th>\n",
       "      <th>location</th>\n",
       "      <th>offspring</th>\n",
       "      <th>orientation</th>\n",
       "      <th>pets</th>\n",
       "      <th>religion</th>\n",
       "      <th>sex</th>\n",
       "      <th>sign</th>\n",
       "      <th>smokes</th>\n",
       "      <th>speaks</th>\n",
       "      <th>status</th>\n",
       "    </tr>\n",
       "  </thead>\n",
       "  <tbody>\n",
       "    <tr>\n",
       "      <th>0</th>\n",
       "      <td>22</td>\n",
       "      <td>a little extra</td>\n",
       "      <td>strictly anything</td>\n",
       "      <td>socially</td>\n",
       "      <td>never</td>\n",
       "      <td>working on college/university</td>\n",
       "      <td>about me:&lt;br /&gt;\\n&lt;br /&gt;\\ni would love to think that i was some some kind of intellectual:\\neither the dumbest smart guy, or the smartest dumb guy. can't say i\\ncan tell the difference. i love to talk about ideas and concepts. i\\nforge odd metaphors instead of reciting cliches. like the\\nsimularities between a friend of mine's house and an underwater\\nsalt mine. my favorite word is salt by the way (weird choice i\\nknow). to me most things in life are better as metaphors. i seek to\\nmake mysel...</td>\n",
       "      <td>currently working as an international agent for a freight\\nforwarding company. import, export, domestic you know the\\nworks.&lt;br /&gt;\\nonline classes and trying to better myself in my free time. perhaps\\na hours worth of a good book or a video game on a lazy sunday.</td>\n",
       "      <td>making people laugh.&lt;br /&gt;\\nranting about a good salting.&lt;br /&gt;\\nfinding simplicity in complexity, and complexity in simplicity.</td>\n",
       "      <td>the way i look. i am a six foot half asian, half caucasian mutt. it\\nmakes it tough not to notice me, and for me to blend in.</td>\n",
       "      <td>books:&lt;br /&gt;\\nabsurdistan, the republic, of mice and men (only book that made me\\nwant to cry), catcher in the rye, the prince.&lt;br /&gt;\\n&lt;br /&gt;\\nmovies:&lt;br /&gt;\\ngladiator, operation valkyrie, the producers, down periscope.&lt;br /&gt;\\n&lt;br /&gt;\\nshows:&lt;br /&gt;\\nthe borgia, arrested development, game of thrones, monty\\npython&lt;br /&gt;\\n&lt;br /&gt;\\nmusic:&lt;br /&gt;\\naesop rock, hail mary mallon, george thorogood and the delaware\\ndestroyers, felt&lt;br /&gt;\\n&lt;br /&gt;\\nfood:&lt;br /&gt;\\ni'm down for anything.</td>\n",
       "      <td>food.&lt;br /&gt;\\nwater.&lt;br /&gt;\\ncell phone.&lt;br /&gt;\\nshelter.</td>\n",
       "      <td>duality and humorous things</td>\n",
       "      <td>trying to find someone to hang out with. i am down for anything\\nexcept a club.</td>\n",
       "      <td>i am new to california and looking for someone to wisper my secrets\\nto.</td>\n",
       "      <td>you want to be swept off your feet!&lt;br /&gt;\\nyou are tired of the norm.&lt;br /&gt;\\nyou want to catch a coffee or a bite.&lt;br /&gt;\\nor if you want to talk philosophy.</td>\n",
       "      <td>asian, white</td>\n",
       "      <td>75.0</td>\n",
       "      <td>-1</td>\n",
       "      <td>transportation</td>\n",
       "      <td>2012-06-28-20-30</td>\n",
       "      <td>south san francisco, california</td>\n",
       "      <td>doesn&amp;rsquo;t have kids, but might want them</td>\n",
       "      <td>straight</td>\n",
       "      <td>likes dogs and likes cats</td>\n",
       "      <td>agnosticism and very serious about it</td>\n",
       "      <td>m</td>\n",
       "      <td>gemini</td>\n",
       "      <td>sometimes</td>\n",
       "      <td>english</td>\n",
       "      <td>single</td>\n",
       "    </tr>\n",
       "    <tr>\n",
       "      <th>1</th>\n",
       "      <td>35</td>\n",
       "      <td>average</td>\n",
       "      <td>mostly other</td>\n",
       "      <td>often</td>\n",
       "      <td>sometimes</td>\n",
       "      <td>working on space camp</td>\n",
       "      <td>i am a chef: this is what that means.&lt;br /&gt;\\n1. i am a workaholic.&lt;br /&gt;\\n2. i love to cook regardless of whether i am at work.&lt;br /&gt;\\n3. i love to drink and eat foods that are probably really bad for\\nme.&lt;br /&gt;\\n4. i love being around people that resemble line 1-3.&lt;br /&gt;\\ni love the outdoors and i am an avid skier. if its snowing i will\\nbe in tahoe at the very least. i am a very confident and friendly.\\ni'm not interested in acting or being a typical guy. i have no time\\nor patience for re...</td>\n",
       "      <td>dedicating everyday to being an unbelievable badass.</td>\n",
       "      <td>being silly. having ridiculous amonts of fun wherever. being a\\nsmart ass. ohh and i can cook. ;)</td>\n",
       "      <td>NaN</td>\n",
       "      <td>i am die hard christopher moore fan. i don't really watch a lot of\\ntv unless there is humor involved. i am kind of stuck on 90's\\nalternative music. i am pretty much a fan of everything though... i\\ndo need to draw a line at most types of electronica.</td>\n",
       "      <td>delicious porkness in all of its glories.&lt;br /&gt;\\nmy big ass doughboy's sinking into 15 new inches.&lt;br /&gt;\\nmy overly resilient liver.&lt;br /&gt;\\na good sharp knife.&lt;br /&gt;\\nmy ps3... it plays blurays too. ;)&lt;br /&gt;\\nmy over the top energy and my outlook on life... just give me a bag\\nof lemons and see what happens. ;)</td>\n",
       "      <td>NaN</td>\n",
       "      <td>NaN</td>\n",
       "      <td>i am very open and will share just about anything.</td>\n",
       "      <td>NaN</td>\n",
       "      <td>white</td>\n",
       "      <td>70.0</td>\n",
       "      <td>80000</td>\n",
       "      <td>hospitality / travel</td>\n",
       "      <td>2012-06-29-21-41</td>\n",
       "      <td>oakland, california</td>\n",
       "      <td>doesn&amp;rsquo;t have kids, but might want them</td>\n",
       "      <td>straight</td>\n",
       "      <td>likes dogs and likes cats</td>\n",
       "      <td>agnosticism but not too serious about it</td>\n",
       "      <td>m</td>\n",
       "      <td>cancer</td>\n",
       "      <td>no</td>\n",
       "      <td>english (fluently), spanish (poorly), french (poorly)</td>\n",
       "      <td>single</td>\n",
       "    </tr>\n",
       "    <tr>\n",
       "      <th>2</th>\n",
       "      <td>38</td>\n",
       "      <td>thin</td>\n",
       "      <td>anything</td>\n",
       "      <td>socially</td>\n",
       "      <td>NaN</td>\n",
       "      <td>graduated from masters program</td>\n",
       "      <td>i'm not ashamed of much, but writing public text on an online\\ndating site makes me pleasantly uncomfortable. i'll try to be as\\nearnest as possible in the noble endeavor of standing naked before\\nthe world.&lt;br /&gt;\\n&lt;br /&gt;\\ni've lived in san francisco for 15 years, and both love it and find\\nmyself frustrated with its deficits. lots of great friends and\\nacquaintances (which increases my apprehension to put anything on\\nthis site), but i'm feeling like meeting some new people that\\naren't jus...</td>\n",
       "      <td>i make nerdy software for musicians, artists, and experimenters to\\nindulge in their own weirdness, but i like to spend time away from\\nthe computer when working on my artwork (which is typically more\\nconcerned with group dynamics and communication, than with visual\\nform, objects, or technology). i also record and deejay dance,\\nnoise, pop, and experimental music (most of which electronic or at\\nleast studio based). besides these relatively ego driven\\nactivities, i've been enjoying things...</td>\n",
       "      <td>improvising in different contexts. alternating between being\\npresent and decidedly outside of a moment, or trying to hold both\\nat once. rambling intellectual conversations that hold said\\nconversations in contempt while seeking to find something that\\ntranscends them. being critical while remaining generous. listening\\nto and using body language--often performed in caricature or large\\ngestures, if not outright interpretive dance. dry, dark, and\\nraunchy humor.</td>\n",
       "      <td>my large jaw and large glasses are the physical things people\\ncomment on the most. when sufficiently stimulated, i have an\\nunmistakable cackle of a laugh. after that, it goes in more\\ndirections than i care to describe right now. maybe i'll come back\\nto this.</td>\n",
       "      <td>okay this is where the cultural matrix gets so specific, it's like\\nbeing in the crosshairs.&lt;br /&gt;\\n&lt;br /&gt;\\nfor what it's worth, i find myself reading more non-fiction than\\nfiction. it's usually some kind of philosophy, art, or science text\\nby silly authors such as ranciere, de certeau, bataille,\\nbaudrillard, butler, stein, arendt, nietzche, zizek, etc. i'll\\noften throw in some weird new age or pop-psychology book in the mix\\nas well. as for fiction, i enjoy what little i've read of eco,...</td>\n",
       "      <td>movement&lt;br /&gt;\\nconversation&lt;br /&gt;\\ncreation&lt;br /&gt;\\ncontemplation&lt;br /&gt;\\ntouch&lt;br /&gt;\\nhumor</td>\n",
       "      <td>NaN</td>\n",
       "      <td>viewing. listening. dancing. talking. drinking. performing.</td>\n",
       "      <td>when i was five years old, i was known as \"the boogerman\".</td>\n",
       "      <td>you are bright, open, intense, silly, ironic, critical, caring,\\ngenerous, looking for an exploration, rather than finding \"a match\"\\nof some predetermined qualities.&lt;br /&gt;\\n&lt;br /&gt;\\ni'm currently in a fabulous and open relationship, so you should be\\ncomfortable with that.</td>\n",
       "      <td>NaN</td>\n",
       "      <td>68.0</td>\n",
       "      <td>-1</td>\n",
       "      <td>NaN</td>\n",
       "      <td>2012-06-27-09-10</td>\n",
       "      <td>san francisco, california</td>\n",
       "      <td>NaN</td>\n",
       "      <td>straight</td>\n",
       "      <td>has cats</td>\n",
       "      <td>NaN</td>\n",
       "      <td>m</td>\n",
       "      <td>pisces but it doesn&amp;rsquo;t matter</td>\n",
       "      <td>no</td>\n",
       "      <td>english, french, c++</td>\n",
       "      <td>available</td>\n",
       "    </tr>\n",
       "    <tr>\n",
       "      <th>3</th>\n",
       "      <td>23</td>\n",
       "      <td>thin</td>\n",
       "      <td>vegetarian</td>\n",
       "      <td>socially</td>\n",
       "      <td>NaN</td>\n",
       "      <td>working on college/university</td>\n",
       "      <td>i work in a library and go to school. . .</td>\n",
       "      <td>reading things written by old dead people</td>\n",
       "      <td>playing synthesizers and organizing books according to the library\\nof congress classification system</td>\n",
       "      <td>socially awkward but i do my best</td>\n",
       "      <td>bataille, celine, beckett. . .&lt;br /&gt;\\nlynch, jarmusch, r.w. fassbender. . .&lt;br /&gt;\\ntwin peaks &amp;amp; fishing w/ john&lt;br /&gt;\\njoy division, throbbing gristle, cabaret voltaire. . .&lt;br /&gt;\\nvegetarian pho and coffee</td>\n",
       "      <td>NaN</td>\n",
       "      <td>cats and german philosophy</td>\n",
       "      <td>NaN</td>\n",
       "      <td>NaN</td>\n",
       "      <td>you feel so inclined.</td>\n",
       "      <td>white</td>\n",
       "      <td>71.0</td>\n",
       "      <td>20000</td>\n",
       "      <td>student</td>\n",
       "      <td>2012-06-28-14-22</td>\n",
       "      <td>berkeley, california</td>\n",
       "      <td>doesn&amp;rsquo;t want kids</td>\n",
       "      <td>straight</td>\n",
       "      <td>likes cats</td>\n",
       "      <td>NaN</td>\n",
       "      <td>m</td>\n",
       "      <td>pisces</td>\n",
       "      <td>no</td>\n",
       "      <td>english, german (poorly)</td>\n",
       "      <td>single</td>\n",
       "    </tr>\n",
       "    <tr>\n",
       "      <th>4</th>\n",
       "      <td>29</td>\n",
       "      <td>athletic</td>\n",
       "      <td>NaN</td>\n",
       "      <td>socially</td>\n",
       "      <td>never</td>\n",
       "      <td>graduated from college/university</td>\n",
       "      <td>hey how's it going? currently vague on the profile i know, more to\\ncome soon. looking to meet new folks outside of my circle of\\nfriends. i'm pretty responsive on the reply tip, feel free to drop\\na line. cheers.</td>\n",
       "      <td>work work work work + play</td>\n",
       "      <td>creating imagery to look at:&lt;br /&gt;\\nhttp://bagsbrown.blogspot.com/&lt;br /&gt;\\nhttp://stayruly.blogspot.com/</td>\n",
       "      <td>i smile a lot and my inquisitive nature</td>\n",
       "      <td>music: bands, rappers, musicians&lt;br /&gt;\\nat the moment: thee oh sees.&lt;br /&gt;\\nforever: wu-tang&lt;br /&gt;\\nbooks: artbooks for days&lt;br /&gt;\\naudiobooks: my collection, thick (thanks audible)&lt;br /&gt;\\nshows: live ones&lt;br /&gt;\\nfood: with stellar friends whenever&lt;br /&gt;\\nmovies &amp;gt; tv&lt;br /&gt;\\npodcast: radiolab, this american life, the moth, joe rogan, the\\nchamps</td>\n",
       "      <td>NaN</td>\n",
       "      <td>NaN</td>\n",
       "      <td>NaN</td>\n",
       "      <td>NaN</td>\n",
       "      <td>NaN</td>\n",
       "      <td>asian, black, other</td>\n",
       "      <td>66.0</td>\n",
       "      <td>-1</td>\n",
       "      <td>artistic / musical / writer</td>\n",
       "      <td>2012-06-27-21-26</td>\n",
       "      <td>san francisco, california</td>\n",
       "      <td>NaN</td>\n",
       "      <td>straight</td>\n",
       "      <td>likes dogs and likes cats</td>\n",
       "      <td>NaN</td>\n",
       "      <td>m</td>\n",
       "      <td>aquarius</td>\n",
       "      <td>no</td>\n",
       "      <td>english</td>\n",
       "      <td>single</td>\n",
       "    </tr>\n",
       "  </tbody>\n",
       "</table>\n",
       "</div>"
      ],
      "text/plain": [
       "   age       body_type               diet    drinks      drugs  \\\n",
       "0   22  a little extra  strictly anything  socially      never   \n",
       "1   35         average       mostly other     often  sometimes   \n",
       "2   38            thin           anything  socially        NaN   \n",
       "3   23            thin         vegetarian  socially        NaN   \n",
       "4   29        athletic                NaN  socially      never   \n",
       "\n",
       "                           education  \\\n",
       "0      working on college/university   \n",
       "1              working on space camp   \n",
       "2     graduated from masters program   \n",
       "3      working on college/university   \n",
       "4  graduated from college/university   \n",
       "\n",
       "                                                                                                                                                                                                                                                                                                                                                                                                                                                                                                                essay0  \\\n",
       "0  about me:<br />\\n<br />\\ni would love to think that i was some some kind of intellectual:\\neither the dumbest smart guy, or the smartest dumb guy. can't say i\\ncan tell the difference. i love to talk about ideas and concepts. i\\nforge odd metaphors instead of reciting cliches. like the\\nsimularities between a friend of mine's house and an underwater\\nsalt mine. my favorite word is salt by the way (weird choice i\\nknow). to me most things in life are better as metaphors. i seek to\\nmake mysel...   \n",
       "1  i am a chef: this is what that means.<br />\\n1. i am a workaholic.<br />\\n2. i love to cook regardless of whether i am at work.<br />\\n3. i love to drink and eat foods that are probably really bad for\\nme.<br />\\n4. i love being around people that resemble line 1-3.<br />\\ni love the outdoors and i am an avid skier. if its snowing i will\\nbe in tahoe at the very least. i am a very confident and friendly.\\ni'm not interested in acting or being a typical guy. i have no time\\nor patience for re...   \n",
       "2  i'm not ashamed of much, but writing public text on an online\\ndating site makes me pleasantly uncomfortable. i'll try to be as\\nearnest as possible in the noble endeavor of standing naked before\\nthe world.<br />\\n<br />\\ni've lived in san francisco for 15 years, and both love it and find\\nmyself frustrated with its deficits. lots of great friends and\\nacquaintances (which increases my apprehension to put anything on\\nthis site), but i'm feeling like meeting some new people that\\naren't jus...   \n",
       "3                                                                                                                                                                                                                                                                                                                                                                                                                                                                            i work in a library and go to school. . .   \n",
       "4                                                                                                                                                                                                                                                                                                hey how's it going? currently vague on the profile i know, more to\\ncome soon. looking to meet new folks outside of my circle of\\nfriends. i'm pretty responsive on the reply tip, feel free to drop\\na line. cheers.   \n",
       "\n",
       "                                                                                                                                                                                                                                                                                                                                                                                                                                                                                                                essay1  \\\n",
       "0                                                                                                                                                                                                                                              currently working as an international agent for a freight\\nforwarding company. import, export, domestic you know the\\nworks.<br />\\nonline classes and trying to better myself in my free time. perhaps\\na hours worth of a good book or a video game on a lazy sunday.   \n",
       "1                                                                                                                                                                                                                                                                                                                                                                                                                                                                 dedicating everyday to being an unbelievable badass.   \n",
       "2  i make nerdy software for musicians, artists, and experimenters to\\nindulge in their own weirdness, but i like to spend time away from\\nthe computer when working on my artwork (which is typically more\\nconcerned with group dynamics and communication, than with visual\\nform, objects, or technology). i also record and deejay dance,\\nnoise, pop, and experimental music (most of which electronic or at\\nleast studio based). besides these relatively ego driven\\nactivities, i've been enjoying things...   \n",
       "3                                                                                                                                                                                                                                                                                                                                                                                                                                                                            reading things written by old dead people   \n",
       "4                                                                                                                                                                                                                                                                                                                                                                                                                                                                                           work work work work + play   \n",
       "\n",
       "                                                                                                                                                                                                                                                                                                                                                                                                                                                                                essay2  \\\n",
       "0                                                                                                                                                                                                                                                                                                                                                     making people laugh.<br />\\nranting about a good salting.<br />\\nfinding simplicity in complexity, and complexity in simplicity.   \n",
       "1                                                                                                                                                                                                                                                                                                                                                                                    being silly. having ridiculous amonts of fun wherever. being a\\nsmart ass. ohh and i can cook. ;)   \n",
       "2  improvising in different contexts. alternating between being\\npresent and decidedly outside of a moment, or trying to hold both\\nat once. rambling intellectual conversations that hold said\\nconversations in contempt while seeking to find something that\\ntranscends them. being critical while remaining generous. listening\\nto and using body language--often performed in caricature or large\\ngestures, if not outright interpretive dance. dry, dark, and\\nraunchy humor.   \n",
       "3                                                                                                                                                                                                                                                                                                                                                                                playing synthesizers and organizing books according to the library\\nof congress classification system   \n",
       "4                                                                                                                                                                                                                                                                                                                                                                              creating imagery to look at:<br />\\nhttp://bagsbrown.blogspot.com/<br />\\nhttp://stayruly.blogspot.com/   \n",
       "\n",
       "                                                                                                                                                                                                                                                                   essay3  \\\n",
       "0                                                                                                                                           the way i look. i am a six foot half asian, half caucasian mutt. it\\nmakes it tough not to notice me, and for me to blend in.   \n",
       "1                                                                                                                                                                                                                                                                     NaN   \n",
       "2  my large jaw and large glasses are the physical things people\\ncomment on the most. when sufficiently stimulated, i have an\\nunmistakable cackle of a laugh. after that, it goes in more\\ndirections than i care to describe right now. maybe i'll come back\\nto this.   \n",
       "3                                                                                                                                                                                                                                       socially awkward but i do my best   \n",
       "4                                                                                                                                                                                                                                 i smile a lot and my inquisitive nature   \n",
       "\n",
       "                                                                                                                                                                                                                                                                                                                                                                                                                                                                                                                essay4  \\\n",
       "0                          books:<br />\\nabsurdistan, the republic, of mice and men (only book that made me\\nwant to cry), catcher in the rye, the prince.<br />\\n<br />\\nmovies:<br />\\ngladiator, operation valkyrie, the producers, down periscope.<br />\\n<br />\\nshows:<br />\\nthe borgia, arrested development, game of thrones, monty\\npython<br />\\n<br />\\nmusic:<br />\\naesop rock, hail mary mallon, george thorogood and the delaware\\ndestroyers, felt<br />\\n<br />\\nfood:<br />\\ni'm down for anything.   \n",
       "1                                                                                                                                                                                                                                                         i am die hard christopher moore fan. i don't really watch a lot of\\ntv unless there is humor involved. i am kind of stuck on 90's\\nalternative music. i am pretty much a fan of everything though... i\\ndo need to draw a line at most types of electronica.   \n",
       "2  okay this is where the cultural matrix gets so specific, it's like\\nbeing in the crosshairs.<br />\\n<br />\\nfor what it's worth, i find myself reading more non-fiction than\\nfiction. it's usually some kind of philosophy, art, or science text\\nby silly authors such as ranciere, de certeau, bataille,\\nbaudrillard, butler, stein, arendt, nietzche, zizek, etc. i'll\\noften throw in some weird new age or pop-psychology book in the mix\\nas well. as for fiction, i enjoy what little i've read of eco,...   \n",
       "3                                                                                                                                                                                                                                                                                                   bataille, celine, beckett. . .<br />\\nlynch, jarmusch, r.w. fassbender. . .<br />\\ntwin peaks &amp; fishing w/ john<br />\\njoy division, throbbing gristle, cabaret voltaire. . .<br />\\nvegetarian pho and coffee   \n",
       "4                                                                                                                                                        music: bands, rappers, musicians<br />\\nat the moment: thee oh sees.<br />\\nforever: wu-tang<br />\\nbooks: artbooks for days<br />\\naudiobooks: my collection, thick (thanks audible)<br />\\nshows: live ones<br />\\nfood: with stellar friends whenever<br />\\nmovies &gt; tv<br />\\npodcast: radiolab, this american life, the moth, joe rogan, the\\nchamps   \n",
       "\n",
       "                                                                                                                                                                                                                                                                                                                     essay5  \\\n",
       "0                                                                                                                                                                                                                                                                    food.<br />\\nwater.<br />\\ncell phone.<br />\\nshelter.   \n",
       "1  delicious porkness in all of its glories.<br />\\nmy big ass doughboy's sinking into 15 new inches.<br />\\nmy overly resilient liver.<br />\\na good sharp knife.<br />\\nmy ps3... it plays blurays too. ;)<br />\\nmy over the top energy and my outlook on life... just give me a bag\\nof lemons and see what happens. ;)   \n",
       "2                                                                                                                                                                                                                               movement<br />\\nconversation<br />\\ncreation<br />\\ncontemplation<br />\\ntouch<br />\\nhumor   \n",
       "3                                                                                                                                                                                                                                                                                                                       NaN   \n",
       "4                                                                                                                                                                                                                                                                                                                       NaN   \n",
       "\n",
       "                        essay6  \\\n",
       "0  duality and humorous things   \n",
       "1                          NaN   \n",
       "2                          NaN   \n",
       "3   cats and german philosophy   \n",
       "4                          NaN   \n",
       "\n",
       "                                                                            essay7  \\\n",
       "0  trying to find someone to hang out with. i am down for anything\\nexcept a club.   \n",
       "1                                                                              NaN   \n",
       "2                      viewing. listening. dancing. talking. drinking. performing.   \n",
       "3                                                                              NaN   \n",
       "4                                                                              NaN   \n",
       "\n",
       "                                                                     essay8  \\\n",
       "0  i am new to california and looking for someone to wisper my secrets\\nto.   \n",
       "1                        i am very open and will share just about anything.   \n",
       "2                when i was five years old, i was known as \"the boogerman\".   \n",
       "3                                                                       NaN   \n",
       "4                                                                       NaN   \n",
       "\n",
       "                                                                                                                                                                                                                                                                              essay9  \\\n",
       "0                                                                                                                       you want to be swept off your feet!<br />\\nyou are tired of the norm.<br />\\nyou want to catch a coffee or a bite.<br />\\nor if you want to talk philosophy.   \n",
       "1                                                                                                                                                                                                                                                                                NaN   \n",
       "2  you are bright, open, intense, silly, ironic, critical, caring,\\ngenerous, looking for an exploration, rather than finding \"a match\"\\nof some predetermined qualities.<br />\\n<br />\\ni'm currently in a fabulous and open relationship, so you should be\\ncomfortable with that.   \n",
       "3                                                                                                                                                                                                                                                              you feel so inclined.   \n",
       "4                                                                                                                                                                                                                                                                                NaN   \n",
       "\n",
       "             ethnicity  height  income                          job  \\\n",
       "0         asian, white    75.0      -1               transportation   \n",
       "1                white    70.0   80000         hospitality / travel   \n",
       "2                  NaN    68.0      -1                          NaN   \n",
       "3                white    71.0   20000                      student   \n",
       "4  asian, black, other    66.0      -1  artistic / musical / writer   \n",
       "\n",
       "        last_online                         location  \\\n",
       "0  2012-06-28-20-30  south san francisco, california   \n",
       "1  2012-06-29-21-41              oakland, california   \n",
       "2  2012-06-27-09-10        san francisco, california   \n",
       "3  2012-06-28-14-22             berkeley, california   \n",
       "4  2012-06-27-21-26        san francisco, california   \n",
       "\n",
       "                                      offspring orientation  \\\n",
       "0  doesn&rsquo;t have kids, but might want them    straight   \n",
       "1  doesn&rsquo;t have kids, but might want them    straight   \n",
       "2                                           NaN    straight   \n",
       "3                       doesn&rsquo;t want kids    straight   \n",
       "4                                           NaN    straight   \n",
       "\n",
       "                        pets                                  religion sex  \\\n",
       "0  likes dogs and likes cats     agnosticism and very serious about it   m   \n",
       "1  likes dogs and likes cats  agnosticism but not too serious about it   m   \n",
       "2                   has cats                                       NaN   m   \n",
       "3                 likes cats                                       NaN   m   \n",
       "4  likes dogs and likes cats                                       NaN   m   \n",
       "\n",
       "                                 sign     smokes  \\\n",
       "0                              gemini  sometimes   \n",
       "1                              cancer         no   \n",
       "2  pisces but it doesn&rsquo;t matter         no   \n",
       "3                              pisces         no   \n",
       "4                            aquarius         no   \n",
       "\n",
       "                                                  speaks     status  \n",
       "0                                                english     single  \n",
       "1  english (fluently), spanish (poorly), french (poorly)     single  \n",
       "2                                   english, french, c++  available  \n",
       "3                               english, german (poorly)     single  \n",
       "4                                                english     single  "
      ]
     },
     "execution_count": 383,
     "metadata": {},
     "output_type": "execute_result"
    }
   ],
   "source": [
    "profiles.head()"
   ]
  },
  {
   "cell_type": "markdown",
   "metadata": {},
   "source": [
    "### Clean the data\n",
    "\n",
    "Next step in our analysis is to clean the data and transform it to suitable format for exploratory data analysis and ultimately to run machine learning models"
   ]
  },
  {
   "cell_type": "markdown",
   "metadata": {},
   "source": [
    "#### Check for null values"
   ]
  },
  {
   "cell_type": "code",
   "execution_count": 384,
   "metadata": {},
   "outputs": [
    {
     "data": {
      "text/plain": [
       "age            False\n",
       "body_type       True\n",
       "diet            True\n",
       "drinks          True\n",
       "drugs           True\n",
       "education       True\n",
       "essay0          True\n",
       "essay1          True\n",
       "essay2          True\n",
       "essay3          True\n",
       "essay4          True\n",
       "essay5          True\n",
       "essay6          True\n",
       "essay7          True\n",
       "essay8          True\n",
       "essay9          True\n",
       "ethnicity       True\n",
       "height          True\n",
       "income         False\n",
       "job             True\n",
       "last_online    False\n",
       "location       False\n",
       "offspring       True\n",
       "orientation    False\n",
       "pets            True\n",
       "religion        True\n",
       "sex            False\n",
       "sign            True\n",
       "smokes          True\n",
       "speaks          True\n",
       "status         False\n",
       "dtype: bool"
      ]
     },
     "execution_count": 384,
     "metadata": {},
     "output_type": "execute_result"
    }
   ],
   "source": [
    "profiles.isna().any()"
   ]
  },
  {
   "cell_type": "markdown",
   "metadata": {},
   "source": [
    "There are null values in all but seven columns in the data. First, we inspect our target variable **signs**"
   ]
  },
  {
   "cell_type": "code",
   "execution_count": 385,
   "metadata": {},
   "outputs": [
    {
     "name": "stdout",
     "output_type": "stream",
     "text": [
      "<class 'pandas.core.frame.DataFrame'>\n",
      "RangeIndex: 59946 entries, 0 to 59945\n",
      "Data columns (total 31 columns):\n",
      " #   Column       Non-Null Count  Dtype  \n",
      "---  ------       --------------  -----  \n",
      " 0   age          59946 non-null  int64  \n",
      " 1   body_type    54650 non-null  object \n",
      " 2   diet         35551 non-null  object \n",
      " 3   drinks       56961 non-null  object \n",
      " 4   drugs        45866 non-null  object \n",
      " 5   education    53318 non-null  object \n",
      " 6   essay0       54458 non-null  object \n",
      " 7   essay1       52374 non-null  object \n",
      " 8   essay2       50308 non-null  object \n",
      " 9   essay3       48470 non-null  object \n",
      " 10  essay4       49409 non-null  object \n",
      " 11  essay5       49096 non-null  object \n",
      " 12  essay6       46175 non-null  object \n",
      " 13  essay7       47495 non-null  object \n",
      " 14  essay8       40721 non-null  object \n",
      " 15  essay9       47343 non-null  object \n",
      " 16  ethnicity    54266 non-null  object \n",
      " 17  height       59943 non-null  float64\n",
      " 18  income       59946 non-null  int64  \n",
      " 19  job          51748 non-null  object \n",
      " 20  last_online  59946 non-null  object \n",
      " 21  location     59946 non-null  object \n",
      " 22  offspring    24385 non-null  object \n",
      " 23  orientation  59946 non-null  object \n",
      " 24  pets         40025 non-null  object \n",
      " 25  religion     39720 non-null  object \n",
      " 26  sex          59946 non-null  object \n",
      " 27  sign         48890 non-null  object \n",
      " 28  smokes       54434 non-null  object \n",
      " 29  speaks       59896 non-null  object \n",
      " 30  status       59946 non-null  object \n",
      "dtypes: float64(1), int64(2), object(28)\n",
      "memory usage: 14.2+ MB\n"
     ]
    }
   ],
   "source": [
    "profiles.info()"
   ]
  },
  {
   "cell_type": "markdown",
   "metadata": {},
   "source": [
    "There are 48890 non null values in **sign**. This signifies we can account for about **82%** of our data. Therefore, all fields will be reduced to the length of **sign** column.\n",
    "\n",
    "**Drop all null values in **sign****"
   ]
  },
  {
   "cell_type": "code",
   "execution_count": 386,
   "metadata": {},
   "outputs": [
    {
     "data": {
      "text/html": [
       "<div>\n",
       "<style scoped>\n",
       "    .dataframe tbody tr th:only-of-type {\n",
       "        vertical-align: middle;\n",
       "    }\n",
       "\n",
       "    .dataframe tbody tr th {\n",
       "        vertical-align: top;\n",
       "    }\n",
       "\n",
       "    .dataframe thead th {\n",
       "        text-align: right;\n",
       "    }\n",
       "</style>\n",
       "<table border=\"1\" class=\"dataframe\">\n",
       "  <thead>\n",
       "    <tr style=\"text-align: right;\">\n",
       "      <th></th>\n",
       "      <th>age</th>\n",
       "      <th>body_type</th>\n",
       "      <th>diet</th>\n",
       "      <th>drinks</th>\n",
       "      <th>drugs</th>\n",
       "      <th>education</th>\n",
       "      <th>essay0</th>\n",
       "      <th>essay1</th>\n",
       "      <th>essay2</th>\n",
       "      <th>essay3</th>\n",
       "      <th>essay4</th>\n",
       "      <th>essay5</th>\n",
       "      <th>essay6</th>\n",
       "      <th>essay7</th>\n",
       "      <th>essay8</th>\n",
       "      <th>essay9</th>\n",
       "      <th>ethnicity</th>\n",
       "      <th>height</th>\n",
       "      <th>income</th>\n",
       "      <th>job</th>\n",
       "      <th>last_online</th>\n",
       "      <th>location</th>\n",
       "      <th>offspring</th>\n",
       "      <th>orientation</th>\n",
       "      <th>pets</th>\n",
       "      <th>religion</th>\n",
       "      <th>sex</th>\n",
       "      <th>sign</th>\n",
       "      <th>smokes</th>\n",
       "      <th>speaks</th>\n",
       "      <th>status</th>\n",
       "    </tr>\n",
       "  </thead>\n",
       "  <tbody>\n",
       "    <tr>\n",
       "      <th>0</th>\n",
       "      <td>22</td>\n",
       "      <td>a little extra</td>\n",
       "      <td>strictly anything</td>\n",
       "      <td>socially</td>\n",
       "      <td>never</td>\n",
       "      <td>working on college/university</td>\n",
       "      <td>about me:&lt;br /&gt;\\n&lt;br /&gt;\\ni would love to think that i was some some kind of intellectual:\\neither the dumbest smart guy, or the smartest dumb guy. can't say i\\ncan tell the difference. i love to talk about ideas and concepts. i\\nforge odd metaphors instead of reciting cliches. like the\\nsimularities between a friend of mine's house and an underwater\\nsalt mine. my favorite word is salt by the way (weird choice i\\nknow). to me most things in life are better as metaphors. i seek to\\nmake mysel...</td>\n",
       "      <td>currently working as an international agent for a freight\\nforwarding company. import, export, domestic you know the\\nworks.&lt;br /&gt;\\nonline classes and trying to better myself in my free time. perhaps\\na hours worth of a good book or a video game on a lazy sunday.</td>\n",
       "      <td>making people laugh.&lt;br /&gt;\\nranting about a good salting.&lt;br /&gt;\\nfinding simplicity in complexity, and complexity in simplicity.</td>\n",
       "      <td>the way i look. i am a six foot half asian, half caucasian mutt. it\\nmakes it tough not to notice me, and for me to blend in.</td>\n",
       "      <td>books:&lt;br /&gt;\\nabsurdistan, the republic, of mice and men (only book that made me\\nwant to cry), catcher in the rye, the prince.&lt;br /&gt;\\n&lt;br /&gt;\\nmovies:&lt;br /&gt;\\ngladiator, operation valkyrie, the producers, down periscope.&lt;br /&gt;\\n&lt;br /&gt;\\nshows:&lt;br /&gt;\\nthe borgia, arrested development, game of thrones, monty\\npython&lt;br /&gt;\\n&lt;br /&gt;\\nmusic:&lt;br /&gt;\\naesop rock, hail mary mallon, george thorogood and the delaware\\ndestroyers, felt&lt;br /&gt;\\n&lt;br /&gt;\\nfood:&lt;br /&gt;\\ni'm down for anything.</td>\n",
       "      <td>food.&lt;br /&gt;\\nwater.&lt;br /&gt;\\ncell phone.&lt;br /&gt;\\nshelter.</td>\n",
       "      <td>duality and humorous things</td>\n",
       "      <td>trying to find someone to hang out with. i am down for anything\\nexcept a club.</td>\n",
       "      <td>i am new to california and looking for someone to wisper my secrets\\nto.</td>\n",
       "      <td>you want to be swept off your feet!&lt;br /&gt;\\nyou are tired of the norm.&lt;br /&gt;\\nyou want to catch a coffee or a bite.&lt;br /&gt;\\nor if you want to talk philosophy.</td>\n",
       "      <td>asian, white</td>\n",
       "      <td>75.0</td>\n",
       "      <td>-1</td>\n",
       "      <td>transportation</td>\n",
       "      <td>2012-06-28-20-30</td>\n",
       "      <td>south san francisco, california</td>\n",
       "      <td>doesn&amp;rsquo;t have kids, but might want them</td>\n",
       "      <td>straight</td>\n",
       "      <td>likes dogs and likes cats</td>\n",
       "      <td>agnosticism and very serious about it</td>\n",
       "      <td>m</td>\n",
       "      <td>gemini</td>\n",
       "      <td>sometimes</td>\n",
       "      <td>english</td>\n",
       "      <td>single</td>\n",
       "    </tr>\n",
       "    <tr>\n",
       "      <th>1</th>\n",
       "      <td>35</td>\n",
       "      <td>average</td>\n",
       "      <td>mostly other</td>\n",
       "      <td>often</td>\n",
       "      <td>sometimes</td>\n",
       "      <td>working on space camp</td>\n",
       "      <td>i am a chef: this is what that means.&lt;br /&gt;\\n1. i am a workaholic.&lt;br /&gt;\\n2. i love to cook regardless of whether i am at work.&lt;br /&gt;\\n3. i love to drink and eat foods that are probably really bad for\\nme.&lt;br /&gt;\\n4. i love being around people that resemble line 1-3.&lt;br /&gt;\\ni love the outdoors and i am an avid skier. if its snowing i will\\nbe in tahoe at the very least. i am a very confident and friendly.\\ni'm not interested in acting or being a typical guy. i have no time\\nor patience for re...</td>\n",
       "      <td>dedicating everyday to being an unbelievable badass.</td>\n",
       "      <td>being silly. having ridiculous amonts of fun wherever. being a\\nsmart ass. ohh and i can cook. ;)</td>\n",
       "      <td>NaN</td>\n",
       "      <td>i am die hard christopher moore fan. i don't really watch a lot of\\ntv unless there is humor involved. i am kind of stuck on 90's\\nalternative music. i am pretty much a fan of everything though... i\\ndo need to draw a line at most types of electronica.</td>\n",
       "      <td>delicious porkness in all of its glories.&lt;br /&gt;\\nmy big ass doughboy's sinking into 15 new inches.&lt;br /&gt;\\nmy overly resilient liver.&lt;br /&gt;\\na good sharp knife.&lt;br /&gt;\\nmy ps3... it plays blurays too. ;)&lt;br /&gt;\\nmy over the top energy and my outlook on life... just give me a bag\\nof lemons and see what happens. ;)</td>\n",
       "      <td>NaN</td>\n",
       "      <td>NaN</td>\n",
       "      <td>i am very open and will share just about anything.</td>\n",
       "      <td>NaN</td>\n",
       "      <td>white</td>\n",
       "      <td>70.0</td>\n",
       "      <td>80000</td>\n",
       "      <td>hospitality / travel</td>\n",
       "      <td>2012-06-29-21-41</td>\n",
       "      <td>oakland, california</td>\n",
       "      <td>doesn&amp;rsquo;t have kids, but might want them</td>\n",
       "      <td>straight</td>\n",
       "      <td>likes dogs and likes cats</td>\n",
       "      <td>agnosticism but not too serious about it</td>\n",
       "      <td>m</td>\n",
       "      <td>cancer</td>\n",
       "      <td>no</td>\n",
       "      <td>english (fluently), spanish (poorly), french (poorly)</td>\n",
       "      <td>single</td>\n",
       "    </tr>\n",
       "    <tr>\n",
       "      <th>2</th>\n",
       "      <td>38</td>\n",
       "      <td>thin</td>\n",
       "      <td>anything</td>\n",
       "      <td>socially</td>\n",
       "      <td>NaN</td>\n",
       "      <td>graduated from masters program</td>\n",
       "      <td>i'm not ashamed of much, but writing public text on an online\\ndating site makes me pleasantly uncomfortable. i'll try to be as\\nearnest as possible in the noble endeavor of standing naked before\\nthe world.&lt;br /&gt;\\n&lt;br /&gt;\\ni've lived in san francisco for 15 years, and both love it and find\\nmyself frustrated with its deficits. lots of great friends and\\nacquaintances (which increases my apprehension to put anything on\\nthis site), but i'm feeling like meeting some new people that\\naren't jus...</td>\n",
       "      <td>i make nerdy software for musicians, artists, and experimenters to\\nindulge in their own weirdness, but i like to spend time away from\\nthe computer when working on my artwork (which is typically more\\nconcerned with group dynamics and communication, than with visual\\nform, objects, or technology). i also record and deejay dance,\\nnoise, pop, and experimental music (most of which electronic or at\\nleast studio based). besides these relatively ego driven\\nactivities, i've been enjoying things...</td>\n",
       "      <td>improvising in different contexts. alternating between being\\npresent and decidedly outside of a moment, or trying to hold both\\nat once. rambling intellectual conversations that hold said\\nconversations in contempt while seeking to find something that\\ntranscends them. being critical while remaining generous. listening\\nto and using body language--often performed in caricature or large\\ngestures, if not outright interpretive dance. dry, dark, and\\nraunchy humor.</td>\n",
       "      <td>my large jaw and large glasses are the physical things people\\ncomment on the most. when sufficiently stimulated, i have an\\nunmistakable cackle of a laugh. after that, it goes in more\\ndirections than i care to describe right now. maybe i'll come back\\nto this.</td>\n",
       "      <td>okay this is where the cultural matrix gets so specific, it's like\\nbeing in the crosshairs.&lt;br /&gt;\\n&lt;br /&gt;\\nfor what it's worth, i find myself reading more non-fiction than\\nfiction. it's usually some kind of philosophy, art, or science text\\nby silly authors such as ranciere, de certeau, bataille,\\nbaudrillard, butler, stein, arendt, nietzche, zizek, etc. i'll\\noften throw in some weird new age or pop-psychology book in the mix\\nas well. as for fiction, i enjoy what little i've read of eco,...</td>\n",
       "      <td>movement&lt;br /&gt;\\nconversation&lt;br /&gt;\\ncreation&lt;br /&gt;\\ncontemplation&lt;br /&gt;\\ntouch&lt;br /&gt;\\nhumor</td>\n",
       "      <td>NaN</td>\n",
       "      <td>viewing. listening. dancing. talking. drinking. performing.</td>\n",
       "      <td>when i was five years old, i was known as \"the boogerman\".</td>\n",
       "      <td>you are bright, open, intense, silly, ironic, critical, caring,\\ngenerous, looking for an exploration, rather than finding \"a match\"\\nof some predetermined qualities.&lt;br /&gt;\\n&lt;br /&gt;\\ni'm currently in a fabulous and open relationship, so you should be\\ncomfortable with that.</td>\n",
       "      <td>NaN</td>\n",
       "      <td>68.0</td>\n",
       "      <td>-1</td>\n",
       "      <td>NaN</td>\n",
       "      <td>2012-06-27-09-10</td>\n",
       "      <td>san francisco, california</td>\n",
       "      <td>NaN</td>\n",
       "      <td>straight</td>\n",
       "      <td>has cats</td>\n",
       "      <td>NaN</td>\n",
       "      <td>m</td>\n",
       "      <td>pisces but it doesn&amp;rsquo;t matter</td>\n",
       "      <td>no</td>\n",
       "      <td>english, french, c++</td>\n",
       "      <td>available</td>\n",
       "    </tr>\n",
       "    <tr>\n",
       "      <th>3</th>\n",
       "      <td>23</td>\n",
       "      <td>thin</td>\n",
       "      <td>vegetarian</td>\n",
       "      <td>socially</td>\n",
       "      <td>NaN</td>\n",
       "      <td>working on college/university</td>\n",
       "      <td>i work in a library and go to school. . .</td>\n",
       "      <td>reading things written by old dead people</td>\n",
       "      <td>playing synthesizers and organizing books according to the library\\nof congress classification system</td>\n",
       "      <td>socially awkward but i do my best</td>\n",
       "      <td>bataille, celine, beckett. . .&lt;br /&gt;\\nlynch, jarmusch, r.w. fassbender. . .&lt;br /&gt;\\ntwin peaks &amp;amp; fishing w/ john&lt;br /&gt;\\njoy division, throbbing gristle, cabaret voltaire. . .&lt;br /&gt;\\nvegetarian pho and coffee</td>\n",
       "      <td>NaN</td>\n",
       "      <td>cats and german philosophy</td>\n",
       "      <td>NaN</td>\n",
       "      <td>NaN</td>\n",
       "      <td>you feel so inclined.</td>\n",
       "      <td>white</td>\n",
       "      <td>71.0</td>\n",
       "      <td>20000</td>\n",
       "      <td>student</td>\n",
       "      <td>2012-06-28-14-22</td>\n",
       "      <td>berkeley, california</td>\n",
       "      <td>doesn&amp;rsquo;t want kids</td>\n",
       "      <td>straight</td>\n",
       "      <td>likes cats</td>\n",
       "      <td>NaN</td>\n",
       "      <td>m</td>\n",
       "      <td>pisces</td>\n",
       "      <td>no</td>\n",
       "      <td>english, german (poorly)</td>\n",
       "      <td>single</td>\n",
       "    </tr>\n",
       "    <tr>\n",
       "      <th>4</th>\n",
       "      <td>29</td>\n",
       "      <td>athletic</td>\n",
       "      <td>NaN</td>\n",
       "      <td>socially</td>\n",
       "      <td>never</td>\n",
       "      <td>graduated from college/university</td>\n",
       "      <td>hey how's it going? currently vague on the profile i know, more to\\ncome soon. looking to meet new folks outside of my circle of\\nfriends. i'm pretty responsive on the reply tip, feel free to drop\\na line. cheers.</td>\n",
       "      <td>work work work work + play</td>\n",
       "      <td>creating imagery to look at:&lt;br /&gt;\\nhttp://bagsbrown.blogspot.com/&lt;br /&gt;\\nhttp://stayruly.blogspot.com/</td>\n",
       "      <td>i smile a lot and my inquisitive nature</td>\n",
       "      <td>music: bands, rappers, musicians&lt;br /&gt;\\nat the moment: thee oh sees.&lt;br /&gt;\\nforever: wu-tang&lt;br /&gt;\\nbooks: artbooks for days&lt;br /&gt;\\naudiobooks: my collection, thick (thanks audible)&lt;br /&gt;\\nshows: live ones&lt;br /&gt;\\nfood: with stellar friends whenever&lt;br /&gt;\\nmovies &amp;gt; tv&lt;br /&gt;\\npodcast: radiolab, this american life, the moth, joe rogan, the\\nchamps</td>\n",
       "      <td>NaN</td>\n",
       "      <td>NaN</td>\n",
       "      <td>NaN</td>\n",
       "      <td>NaN</td>\n",
       "      <td>NaN</td>\n",
       "      <td>asian, black, other</td>\n",
       "      <td>66.0</td>\n",
       "      <td>-1</td>\n",
       "      <td>artistic / musical / writer</td>\n",
       "      <td>2012-06-27-21-26</td>\n",
       "      <td>san francisco, california</td>\n",
       "      <td>NaN</td>\n",
       "      <td>straight</td>\n",
       "      <td>likes dogs and likes cats</td>\n",
       "      <td>NaN</td>\n",
       "      <td>m</td>\n",
       "      <td>aquarius</td>\n",
       "      <td>no</td>\n",
       "      <td>english</td>\n",
       "      <td>single</td>\n",
       "    </tr>\n",
       "    <tr>\n",
       "      <th>...</th>\n",
       "      <td>...</td>\n",
       "      <td>...</td>\n",
       "      <td>...</td>\n",
       "      <td>...</td>\n",
       "      <td>...</td>\n",
       "      <td>...</td>\n",
       "      <td>...</td>\n",
       "      <td>...</td>\n",
       "      <td>...</td>\n",
       "      <td>...</td>\n",
       "      <td>...</td>\n",
       "      <td>...</td>\n",
       "      <td>...</td>\n",
       "      <td>...</td>\n",
       "      <td>...</td>\n",
       "      <td>...</td>\n",
       "      <td>...</td>\n",
       "      <td>...</td>\n",
       "      <td>...</td>\n",
       "      <td>...</td>\n",
       "      <td>...</td>\n",
       "      <td>...</td>\n",
       "      <td>...</td>\n",
       "      <td>...</td>\n",
       "      <td>...</td>\n",
       "      <td>...</td>\n",
       "      <td>...</td>\n",
       "      <td>...</td>\n",
       "      <td>...</td>\n",
       "      <td>...</td>\n",
       "      <td>...</td>\n",
       "    </tr>\n",
       "    <tr>\n",
       "      <th>59941</th>\n",
       "      <td>59</td>\n",
       "      <td>NaN</td>\n",
       "      <td>NaN</td>\n",
       "      <td>socially</td>\n",
       "      <td>never</td>\n",
       "      <td>graduated from college/university</td>\n",
       "      <td>vibrant, expressive, caring optimist. i love being with people,\\ntraveling the world and sharing the excitement of discovery.&lt;br /&gt;\\n&lt;br /&gt;\\ni am a once traditional girl who challenged her world and am\\ngrateful that life threw enough curve balls that i have learned to\\ncatch the wind!</td>\n",
       "      <td>the happiest times have been when life came to me and i ran with\\nit-not at it or ahead of it. it sounds cliche but life happens when\\nyou don't realize it and it is the joy and appreciation that\\ndefines and prevails.&lt;br /&gt;\\nat this stage of my life, i am trying to let life take its course,\\nstop overthinking and believe in surprises!</td>\n",
       "      <td>i make an outstanding osso bucco. i am also very creative so i\\nthrive on the enjoyment of art, music and design.</td>\n",
       "      <td>i am told that people notice my smile, eyes and the way i dress.</td>\n",
       "      <td>i am an avid movie watcher and follow the broadway season. movie\\nfavorites include: the graduate, room with a view, pride and\\nprejudice, an education, la dolce vita, the king's speech. very\\neclectic and multi generation music tastes-from opera to the\\nbeatles to van morrison to sinatra, dean martin, tony\\nbennett.&lt;br /&gt;\\nhuge fan of diana krall, elvis costello and i do love to remember\\nthe 70's.&lt;br /&gt;\\n&lt;br /&gt;\\ni have been fortunate to have eaten at wonderful restaurants\\nthroughout the w...</td>\n",
       "      <td>my family, my dog, italy, words and music!</td>\n",
       "      <td>writing my book.</td>\n",
       "      <td>running with my dog, finishing up the work week, looking forward to\\na great weekend.</td>\n",
       "      <td>i have a dream to sing at the alconquin in nyc and to live in italy\\n-along the cinque terre, working in a gelateria.</td>\n",
       "      <td>you are seeking a long term connection of shared joy.</td>\n",
       "      <td>NaN</td>\n",
       "      <td>62.0</td>\n",
       "      <td>-1</td>\n",
       "      <td>sales / marketing / biz dev</td>\n",
       "      <td>2012-06-12-21-47</td>\n",
       "      <td>oakland, california</td>\n",
       "      <td>has kids</td>\n",
       "      <td>straight</td>\n",
       "      <td>has dogs</td>\n",
       "      <td>catholicism but not too serious about it</td>\n",
       "      <td>f</td>\n",
       "      <td>cancer and it&amp;rsquo;s fun to think about</td>\n",
       "      <td>no</td>\n",
       "      <td>english</td>\n",
       "      <td>single</td>\n",
       "    </tr>\n",
       "    <tr>\n",
       "      <th>59942</th>\n",
       "      <td>24</td>\n",
       "      <td>fit</td>\n",
       "      <td>mostly anything</td>\n",
       "      <td>often</td>\n",
       "      <td>sometimes</td>\n",
       "      <td>working on college/university</td>\n",
       "      <td>i'm nick.&lt;br /&gt;\\ni never know what to write about myself.&lt;br /&gt;\\nand i'm not sure what to do with my hands.&lt;br /&gt;\\nso i'm from southern california.&lt;br /&gt;\\ni live in san francisco now.&lt;br /&gt;\\ni have an aa in something or other and i'll have a ba in cinema\\nthis year.&lt;br /&gt;\\ni also do graphic and web design.&lt;br /&gt;\\ni'm almost never a jackass.&lt;br /&gt;\\nitalian and spanish heritage. i'll argue your socks off.&lt;br /&gt;\\nstones &amp;gt; beatles, but they're both cool.&lt;br /&gt;\\ndogs are cool. cats are sometim...</td>\n",
       "      <td>currently finishing school for film production, emphasis in\\ncinematography.</td>\n",
       "      <td>&lt;a class=\"ilink\" href=\"/interests?i=filmmaking\"&gt;filmmaking&lt;/a&gt;,\\n&lt;a class=\"ilink\" href=\"/interests?i=photography\"&gt;photography&lt;/a&gt;,\\n&lt;a class=\"ilink\" href=\"/interests?i=graphic+design\"&gt;graphic\\ndesign&lt;/a&gt;, &lt;a class=\"ilink\" href=\"/interests?i=web%0adesign\"&gt;web\\ndesign&lt;/a&gt;, &lt;a class=\"ilink\" href=\\n\"/interests?i=writing\"&gt;writing&lt;/a&gt;, &lt;a class=\"ilink\" href=\\n\"/interests?i=eating\"&gt;eating&lt;/a&gt;, etc.</td>\n",
       "      <td>dude, i don't know.</td>\n",
       "      <td>&lt;strong&gt;movies&lt;/strong&gt;:&lt;br /&gt;\\nhook (the greatest adventure ever!), gladiator, fight club (c'mon,\\nevery man loves it), 28 days later (gotta respect a good zombie\\nflick), the dark knight, drive, the assassination of jesse james by\\nthe coward robert ford, almost famous, the godfather trilogy (even\\npart iii), star wars (the good ones), and many many more...&lt;br /&gt;\\n&lt;br /&gt;\\n&lt;strong&gt;books&lt;/strong&gt;:&lt;br /&gt;\\nfor whom the bell tolls (hemingway), a moveable feast (hemingway),\\na farewell to arms (...</td>\n",
       "      <td>iphone&lt;br /&gt;\\ncontact lenses&lt;br /&gt;\\nheadphones&lt;br /&gt;\\ncamera&lt;br /&gt;\\ntv remote&lt;br /&gt;\\nbottle opener</td>\n",
       "      <td>i do most of my thinking on the bus to/from work. usually about why\\nthe seat across from me smells like urine, or if the person sitting\\nnext to the emergency exit is really the right one for the job.\\nwhen i'm driving i usually daydream about putting petal to metal\\nand weaving in and out of traffic because i have to stop a major\\ndisaster from happening, or something die hard-ish like that. it\\nhasn't happened yet, but i'm still hopeful.</td>\n",
       "      <td>bringin' home bacon, or drinking and shakin'!</td>\n",
       "      <td>when i was 18 i got a tattoo of waldo somewhere on my body.</td>\n",
       "      <td>meh if you made it this far you might as well.</td>\n",
       "      <td>white, other</td>\n",
       "      <td>72.0</td>\n",
       "      <td>-1</td>\n",
       "      <td>entertainment / media</td>\n",
       "      <td>2012-06-29-11-01</td>\n",
       "      <td>san francisco, california</td>\n",
       "      <td>doesn&amp;rsquo;t have kids</td>\n",
       "      <td>straight</td>\n",
       "      <td>likes dogs and likes cats</td>\n",
       "      <td>agnosticism</td>\n",
       "      <td>m</td>\n",
       "      <td>leo but it doesn&amp;rsquo;t matter</td>\n",
       "      <td>no</td>\n",
       "      <td>english (fluently)</td>\n",
       "      <td>single</td>\n",
       "    </tr>\n",
       "    <tr>\n",
       "      <th>59943</th>\n",
       "      <td>42</td>\n",
       "      <td>average</td>\n",
       "      <td>mostly anything</td>\n",
       "      <td>not at all</td>\n",
       "      <td>never</td>\n",
       "      <td>graduated from masters program</td>\n",
       "      <td>hello! i enjoy traveling, watching movies, and hanging out with\\nfriends. my #1 rule for traveling is to go to places where where i\\ncan drink the tap water. =p i've been to japan, washington dc, new\\nyork, london, paris, china (an exception to rule #1) and many other\\nplaces. for the year, i haven't decided yet. maybe toronto and\\nmontreal. my taste in movies (and television) fall into three\\ngenres: comedies, action, and drama. it doesn't matter if the film\\nis in english or sub-titled (i ...</td>\n",
       "      <td>i'm a civil engineer, who enjoys helping the citizens of san san\\nfrancisco.</td>\n",
       "      <td>- looking at things objectively&lt;br /&gt;\\n- getting things done (but others may disagree) =p&lt;br /&gt;\\n- remaining calm in any situation</td>\n",
       "      <td>i'm quiet until i get used to the environment (but isn't that\\nnormal?).</td>\n",
       "      <td>last book: \"game change\".&lt;br /&gt;\\nmovies: bourne series, action, smart comedies (in contrast to\\nslapstick), must have a decent plot&lt;br /&gt;\\nshows: local sports, ncis, good wife, top chef, currently exploring\\njapanese dramas&lt;br /&gt;\\nmusic: koit...&lt;br /&gt;\\nfood: korean bbq, japanese, chinese, thai, italian, burgers, almost\\nanything</td>\n",
       "      <td>- iphone&lt;br /&gt;\\n- friends and family&lt;br /&gt;\\n- internet&lt;br /&gt;\\n- bay area sports&lt;br /&gt;\\n- humor&lt;br /&gt;\\n- point &amp;amp; shoot camera</td>\n",
       "      <td>aside from work, how to improve my home.</td>\n",
       "      <td>out enjoying friendly conversation over dinner.</td>\n",
       "      <td>please let me think about this more.</td>\n",
       "      <td>we have similar interests.</td>\n",
       "      <td>asian</td>\n",
       "      <td>71.0</td>\n",
       "      <td>100000</td>\n",
       "      <td>construction / craftsmanship</td>\n",
       "      <td>2012-06-27-23-37</td>\n",
       "      <td>south san francisco, california</td>\n",
       "      <td>doesn&amp;rsquo;t have kids</td>\n",
       "      <td>straight</td>\n",
       "      <td>NaN</td>\n",
       "      <td>christianity but not too serious about it</td>\n",
       "      <td>m</td>\n",
       "      <td>sagittarius but it doesn&amp;rsquo;t matter</td>\n",
       "      <td>no</td>\n",
       "      <td>english (fluently)</td>\n",
       "      <td>single</td>\n",
       "    </tr>\n",
       "    <tr>\n",
       "      <th>59944</th>\n",
       "      <td>27</td>\n",
       "      <td>athletic</td>\n",
       "      <td>mostly anything</td>\n",
       "      <td>socially</td>\n",
       "      <td>often</td>\n",
       "      <td>working on college/university</td>\n",
       "      <td>\"all i have in this world are my balls and my integrity and no one\\ncan take either away from you\" -momma linda (her daughter and i\\nwent to the same nursery)&lt;br /&gt;\\n&lt;br /&gt;\\nweed and alcohol are my vices...oh, and the company of women</td>\n",
       "      <td>following my dreams...&lt;br /&gt;\\n\"you got a dream... you gotta protect it. people can't do somethin'\\nthemselves, they wanna tell you you can't do it. if you want\\nsomethin', go get it. period.\" -will smith in \"pursuit of\\nhappyness\"</td>\n",
       "      <td>listening</td>\n",
       "      <td>it used to be the hair until i mowed it off but i would have to say\\nthe dimples ever since i could remember, its always been about\\nthose indents in my cheeks. i think its because i do smile more\\nthan the average person. not those fake smiles either. smiling is\\nall in the eyes.</td>\n",
       "      <td>where to begin musically: right now i listen to a lot of mgmt, mike\\nposner, above and beyond, drake, the roots, trey songz, usher, bay\\nmusic, local artist and anything that will get me to dance. i am\\nnot ashamed to admit i am a huge coldplay fan. the killers are\\nawesome live. i love hip hop with a message and relevant to my\\nlifestyle: guns money and drugs if only my life were that\\ninteresting. talib kweli, mos def, common, atmosphere (slug) fill\\nmy speakers/headphones mostly.&lt;br /&gt;\\n&lt;...</td>\n",
       "      <td>music, family, friends, a basketball, hoop, something to read</td>\n",
       "      <td>what can i do to make someone chuckle....</td>\n",
       "      <td>what i would do on any other day. everydays a friday ..</td>\n",
       "      <td>i like walking around in other people's house naked. seriously.\\nbodies are beautiful and it makes an awkward situation funny!</td>\n",
       "      <td>you are interested and interesting...</td>\n",
       "      <td>asian, black</td>\n",
       "      <td>73.0</td>\n",
       "      <td>-1</td>\n",
       "      <td>medicine / health</td>\n",
       "      <td>2012-06-23-13-01</td>\n",
       "      <td>san francisco, california</td>\n",
       "      <td>doesn&amp;rsquo;t have kids, but wants them</td>\n",
       "      <td>straight</td>\n",
       "      <td>likes dogs and likes cats</td>\n",
       "      <td>agnosticism but not too serious about it</td>\n",
       "      <td>m</td>\n",
       "      <td>leo and it&amp;rsquo;s fun to think about</td>\n",
       "      <td>trying to quit</td>\n",
       "      <td>english (fluently), spanish (poorly), chinese (poorly), korean (poorly), japanese (poorly)</td>\n",
       "      <td>single</td>\n",
       "    </tr>\n",
       "    <tr>\n",
       "      <th>59945</th>\n",
       "      <td>39</td>\n",
       "      <td>average</td>\n",
       "      <td>NaN</td>\n",
       "      <td>socially</td>\n",
       "      <td>NaN</td>\n",
       "      <td>graduated from masters program</td>\n",
       "      <td>is it odd that having a little \"enemy\" status with someone, makes\\nthem seem more interesting to me?&lt;br /&gt;\\n&lt;br /&gt;\\ni'm an extremely socially-graced outcast. my totally awkward\\nchildhood surprisingly yielded to something extroverted, thoughtful\\nand diplomatic. i'm a nice guy, i love people, i love humanity, and\\ni can get pretty angry about all of the above. if i end up the\\nloudest guy in the room, i'm never so loud that i cant hear what\\nanyone else is saying.&lt;br /&gt;\\n&lt;br /&gt;\\nthough i am ...</td>\n",
       "      <td>i work with elderly people (psychotherapy and case management) and\\ni'm inching into public health (volunteer for now at a men's health\\nclinic). studying for my mft license exam. professionally, i have a\\npath for sure, and creatively i'm always working things out.\\nkeeping my sanity through excessive amounts of cardio. (muffin-top\\ngone!)</td>\n",
       "      <td>i'm a great bullshitter. i don't know what it is but people just\\nplain believe the craziest shit i tell them. i'm a good\\nconversationalist (pre-req for bullshitting) - i can talk to anyone\\nabout anything. i have a good memory for most things (except names)\\nand my brain is a trap for random information. i'm also pretty good\\nat ranting and then talking the pitchforks out of the assembling\\nmob's hands (because i'm a lover not a riot leader). give me a job\\nto do and i'll to it thoughtfull...</td>\n",
       "      <td>either that i am funny/sarcastic, or that i am totally insulting\\nfollowed by the realization that i am just a nice guy, who at times\\ndoesn't communicate in the most delicate ways.&lt;br /&gt;\\n&lt;br /&gt;\\nwhen i am in a reserved mood ... maybe it is my loud laugh? my big\\nnose? something i'm totally unaware of?</td>\n",
       "      <td>i just read the help by kathryn stockett, sooooooo gooooood! just\\nfinished, the time machine by h.g. wells - i think about this book\\na lot. currently reading a totally sad true love story, interesting\\nbook. some of my faves are the confederacy of dunces, lolita, devil\\nin the white city. i am just now becoming a regular reader and i\\nlove it!&lt;br /&gt;\\n&lt;br /&gt;\\nlove music too many to list ... more later.&lt;br /&gt;\\nlove movies, see everything i can - some favorites: dr.\\nstrangelove, eternal suns...</td>\n",
       "      <td>1. family &amp;amp; friends &amp;amp; other humans - interaction&lt;br /&gt;\\n2. music &amp;amp; movies &amp;amp; books - entertainment&lt;br /&gt;\\n3. computer &amp;amp; electronics&lt;br /&gt;\\n4. clean underwear&lt;br /&gt;\\n5. exercise (with a book)&lt;br /&gt;\\n6. caffeine</td>\n",
       "      <td>sex, myself, other people, how amazing everything is, how fucked up\\neverything is, that damn song stuck in my head, whats to eat, whats\\nto do, something inappropriate. why can't i stop thinking about\\nthings that aren't worth thinking about.</td>\n",
       "      <td>out at happy hour with my friends, running into other friends,\\nranting about something hardly worth the rant .. or at home.</td>\n",
       "      <td>i wish i could cry like holly hunter in broadcast news.</td>\n",
       "      <td>if you have a back-bone, an opinion, a sense of humor, want to meet\\nface-to-face.</td>\n",
       "      <td>white</td>\n",
       "      <td>68.0</td>\n",
       "      <td>-1</td>\n",
       "      <td>medicine / health</td>\n",
       "      <td>2012-06-29-00-42</td>\n",
       "      <td>san francisco, california</td>\n",
       "      <td>NaN</td>\n",
       "      <td>gay</td>\n",
       "      <td>likes dogs and likes cats</td>\n",
       "      <td>catholicism and laughing about it</td>\n",
       "      <td>m</td>\n",
       "      <td>gemini and it&amp;rsquo;s fun to think about</td>\n",
       "      <td>sometimes</td>\n",
       "      <td>english</td>\n",
       "      <td>single</td>\n",
       "    </tr>\n",
       "  </tbody>\n",
       "</table>\n",
       "<p>59946 rows × 31 columns</p>\n",
       "</div>"
      ],
      "text/plain": [
       "       age       body_type               diet      drinks      drugs  \\\n",
       "0       22  a little extra  strictly anything    socially      never   \n",
       "1       35         average       mostly other       often  sometimes   \n",
       "2       38            thin           anything    socially        NaN   \n",
       "3       23            thin         vegetarian    socially        NaN   \n",
       "4       29        athletic                NaN    socially      never   \n",
       "...    ...             ...                ...         ...        ...   \n",
       "59941   59             NaN                NaN    socially      never   \n",
       "59942   24             fit    mostly anything       often  sometimes   \n",
       "59943   42         average    mostly anything  not at all      never   \n",
       "59944   27        athletic    mostly anything    socially      often   \n",
       "59945   39         average                NaN    socially        NaN   \n",
       "\n",
       "                               education  \\\n",
       "0          working on college/university   \n",
       "1                  working on space camp   \n",
       "2         graduated from masters program   \n",
       "3          working on college/university   \n",
       "4      graduated from college/university   \n",
       "...                                  ...   \n",
       "59941  graduated from college/university   \n",
       "59942      working on college/university   \n",
       "59943     graduated from masters program   \n",
       "59944      working on college/university   \n",
       "59945     graduated from masters program   \n",
       "\n",
       "                                                                                                                                                                                                                                                                                                                                                                                                                                                                                                                    essay0  \\\n",
       "0      about me:<br />\\n<br />\\ni would love to think that i was some some kind of intellectual:\\neither the dumbest smart guy, or the smartest dumb guy. can't say i\\ncan tell the difference. i love to talk about ideas and concepts. i\\nforge odd metaphors instead of reciting cliches. like the\\nsimularities between a friend of mine's house and an underwater\\nsalt mine. my favorite word is salt by the way (weird choice i\\nknow). to me most things in life are better as metaphors. i seek to\\nmake mysel...   \n",
       "1      i am a chef: this is what that means.<br />\\n1. i am a workaholic.<br />\\n2. i love to cook regardless of whether i am at work.<br />\\n3. i love to drink and eat foods that are probably really bad for\\nme.<br />\\n4. i love being around people that resemble line 1-3.<br />\\ni love the outdoors and i am an avid skier. if its snowing i will\\nbe in tahoe at the very least. i am a very confident and friendly.\\ni'm not interested in acting or being a typical guy. i have no time\\nor patience for re...   \n",
       "2      i'm not ashamed of much, but writing public text on an online\\ndating site makes me pleasantly uncomfortable. i'll try to be as\\nearnest as possible in the noble endeavor of standing naked before\\nthe world.<br />\\n<br />\\ni've lived in san francisco for 15 years, and both love it and find\\nmyself frustrated with its deficits. lots of great friends and\\nacquaintances (which increases my apprehension to put anything on\\nthis site), but i'm feeling like meeting some new people that\\naren't jus...   \n",
       "3                                                                                                                                                                                                                                                                                                                                                                                                                                                                                i work in a library and go to school. . .   \n",
       "4                                                                                                                                                                                                                                                                                                    hey how's it going? currently vague on the profile i know, more to\\ncome soon. looking to meet new folks outside of my circle of\\nfriends. i'm pretty responsive on the reply tip, feel free to drop\\na line. cheers.   \n",
       "...                                                                                                                                                                                                                                                                                                                                                                                                                                                                                                                    ...   \n",
       "59941                                                                                                                                                                                                                       vibrant, expressive, caring optimist. i love being with people,\\ntraveling the world and sharing the excitement of discovery.<br />\\n<br />\\ni am a once traditional girl who challenged her world and am\\ngrateful that life threw enough curve balls that i have learned to\\ncatch the wind!   \n",
       "59942  i'm nick.<br />\\ni never know what to write about myself.<br />\\nand i'm not sure what to do with my hands.<br />\\nso i'm from southern california.<br />\\ni live in san francisco now.<br />\\ni have an aa in something or other and i'll have a ba in cinema\\nthis year.<br />\\ni also do graphic and web design.<br />\\ni'm almost never a jackass.<br />\\nitalian and spanish heritage. i'll argue your socks off.<br />\\nstones &gt; beatles, but they're both cool.<br />\\ndogs are cool. cats are sometim...   \n",
       "59943  hello! i enjoy traveling, watching movies, and hanging out with\\nfriends. my #1 rule for traveling is to go to places where where i\\ncan drink the tap water. =p i've been to japan, washington dc, new\\nyork, london, paris, china (an exception to rule #1) and many other\\nplaces. for the year, i haven't decided yet. maybe toronto and\\nmontreal. my taste in movies (and television) fall into three\\ngenres: comedies, action, and drama. it doesn't matter if the film\\nis in english or sub-titled (i ...   \n",
       "59944                                                                                                                                                                                                                                                                           \"all i have in this world are my balls and my integrity and no one\\ncan take either away from you\" -momma linda (her daughter and i\\nwent to the same nursery)<br />\\n<br />\\nweed and alcohol are my vices...oh, and the company of women   \n",
       "59945  is it odd that having a little \"enemy\" status with someone, makes\\nthem seem more interesting to me?<br />\\n<br />\\ni'm an extremely socially-graced outcast. my totally awkward\\nchildhood surprisingly yielded to something extroverted, thoughtful\\nand diplomatic. i'm a nice guy, i love people, i love humanity, and\\ni can get pretty angry about all of the above. if i end up the\\nloudest guy in the room, i'm never so loud that i cant hear what\\nanyone else is saying.<br />\\n<br />\\nthough i am ...   \n",
       "\n",
       "                                                                                                                                                                                                                                                                                                                                                                                                                                                                                                                    essay1  \\\n",
       "0                                                                                                                                                                                                                                                  currently working as an international agent for a freight\\nforwarding company. import, export, domestic you know the\\nworks.<br />\\nonline classes and trying to better myself in my free time. perhaps\\na hours worth of a good book or a video game on a lazy sunday.   \n",
       "1                                                                                                                                                                                                                                                                                                                                                                                                                                                                     dedicating everyday to being an unbelievable badass.   \n",
       "2      i make nerdy software for musicians, artists, and experimenters to\\nindulge in their own weirdness, but i like to spend time away from\\nthe computer when working on my artwork (which is typically more\\nconcerned with group dynamics and communication, than with visual\\nform, objects, or technology). i also record and deejay dance,\\nnoise, pop, and experimental music (most of which electronic or at\\nleast studio based). besides these relatively ego driven\\nactivities, i've been enjoying things...   \n",
       "3                                                                                                                                                                                                                                                                                                                                                                                                                                                                                reading things written by old dead people   \n",
       "4                                                                                                                                                                                                                                                                                                                                                                                                                                                                                               work work work work + play   \n",
       "...                                                                                                                                                                                                                                                                                                                                                                                                                                                                                                                    ...   \n",
       "59941                                                                                                                                                                    the happiest times have been when life came to me and i ran with\\nit-not at it or ahead of it. it sounds cliche but life happens when\\nyou don't realize it and it is the joy and appreciation that\\ndefines and prevails.<br />\\nat this stage of my life, i am trying to let life take its course,\\nstop overthinking and believe in surprises!   \n",
       "59942                                                                                                                                                                                                                                                                                                                                                                                                                                         currently finishing school for film production, emphasis in\\ncinematography.   \n",
       "59943                                                                                                                                                                                                                                                                                                                                                                                                                                         i'm a civil engineer, who enjoys helping the citizens of san san\\nfrancisco.   \n",
       "59944                                                                                                                                                                                                                                                                               following my dreams...<br />\\n\"you got a dream... you gotta protect it. people can't do somethin'\\nthemselves, they wanna tell you you can't do it. if you want\\nsomethin', go get it. period.\" -will smith in \"pursuit of\\nhappyness\"   \n",
       "59945                                                                                                                                                               i work with elderly people (psychotherapy and case management) and\\ni'm inching into public health (volunteer for now at a men's health\\nclinic). studying for my mft license exam. professionally, i have a\\npath for sure, and creatively i'm always working things out.\\nkeeping my sanity through excessive amounts of cardio. (muffin-top\\ngone!)   \n",
       "\n",
       "                                                                                                                                                                                                                                                                                                                                                                                                                                                                                                                    essay2  \\\n",
       "0                                                                                                                                                                                                                                                                                                                                                                                         making people laugh.<br />\\nranting about a good salting.<br />\\nfinding simplicity in complexity, and complexity in simplicity.   \n",
       "1                                                                                                                                                                                                                                                                                                                                                                                                                        being silly. having ridiculous amonts of fun wherever. being a\\nsmart ass. ohh and i can cook. ;)   \n",
       "2                                      improvising in different contexts. alternating between being\\npresent and decidedly outside of a moment, or trying to hold both\\nat once. rambling intellectual conversations that hold said\\nconversations in contempt while seeking to find something that\\ntranscends them. being critical while remaining generous. listening\\nto and using body language--often performed in caricature or large\\ngestures, if not outright interpretive dance. dry, dark, and\\nraunchy humor.   \n",
       "3                                                                                                                                                                                                                                                                                                                                                                                                                    playing synthesizers and organizing books according to the library\\nof congress classification system   \n",
       "4                                                                                                                                                                                                                                                                                                                                                                                                                  creating imagery to look at:<br />\\nhttp://bagsbrown.blogspot.com/<br />\\nhttp://stayruly.blogspot.com/   \n",
       "...                                                                                                                                                                                                                                                                                                                                                                                                                                                                                                                    ...   \n",
       "59941                                                                                                                                                                                                                                                                                                                                                                                                    i make an outstanding osso bucco. i am also very creative so i\\nthrive on the enjoyment of art, music and design.   \n",
       "59942                                                                                                           <a class=\"ilink\" href=\"/interests?i=filmmaking\">filmmaking</a>,\\n<a class=\"ilink\" href=\"/interests?i=photography\">photography</a>,\\n<a class=\"ilink\" href=\"/interests?i=graphic+design\">graphic\\ndesign</a>, <a class=\"ilink\" href=\"/interests?i=web%0adesign\">web\\ndesign</a>, <a class=\"ilink\" href=\\n\"/interests?i=writing\">writing</a>, <a class=\"ilink\" href=\\n\"/interests?i=eating\">eating</a>, etc.   \n",
       "59943                                                                                                                                                                                                                                                                                                                                                                                   - looking at things objectively<br />\\n- getting things done (but others may disagree) =p<br />\\n- remaining calm in any situation   \n",
       "59944                                                                                                                                                                                                                                                                                                                                                                                                                                                                                                            listening   \n",
       "59945  i'm a great bullshitter. i don't know what it is but people just\\nplain believe the craziest shit i tell them. i'm a good\\nconversationalist (pre-req for bullshitting) - i can talk to anyone\\nabout anything. i have a good memory for most things (except names)\\nand my brain is a trap for random information. i'm also pretty good\\nat ranting and then talking the pitchforks out of the assembling\\nmob's hands (because i'm a lover not a riot leader). give me a job\\nto do and i'll to it thoughtfull...   \n",
       "\n",
       "                                                                                                                                                                                                                                                                                                                 essay3  \\\n",
       "0                                                                                                                                                                                         the way i look. i am a six foot half asian, half caucasian mutt. it\\nmakes it tough not to notice me, and for me to blend in.   \n",
       "1                                                                                                                                                                                                                                                                                                                   NaN   \n",
       "2                                                my large jaw and large glasses are the physical things people\\ncomment on the most. when sufficiently stimulated, i have an\\nunmistakable cackle of a laugh. after that, it goes in more\\ndirections than i care to describe right now. maybe i'll come back\\nto this.   \n",
       "3                                                                                                                                                                                                                                                                                     socially awkward but i do my best   \n",
       "4                                                                                                                                                                                                                                                                               i smile a lot and my inquisitive nature   \n",
       "...                                                                                                                                                                                                                                                                                                                 ...   \n",
       "59941                                                                                                                                                                                                                                                  i am told that people notice my smile, eyes and the way i dress.   \n",
       "59942                                                                                                                                                                                                                                                                                               dude, i don't know.   \n",
       "59943                                                                                                                                                                                                                                          i'm quiet until i get used to the environment (but isn't that\\nnormal?).   \n",
       "59944                         it used to be the hair until i mowed it off but i would have to say\\nthe dimples ever since i could remember, its always been about\\nthose indents in my cheeks. i think its because i do smile more\\nthan the average person. not those fake smiles either. smiling is\\nall in the eyes.   \n",
       "59945  either that i am funny/sarcastic, or that i am totally insulting\\nfollowed by the realization that i am just a nice guy, who at times\\ndoesn't communicate in the most delicate ways.<br />\\n<br />\\nwhen i am in a reserved mood ... maybe it is my loud laugh? my big\\nnose? something i'm totally unaware of?   \n",
       "\n",
       "                                                                                                                                                                                                                                                                                                                                                                                                                                                                                                                    essay4  \\\n",
       "0                              books:<br />\\nabsurdistan, the republic, of mice and men (only book that made me\\nwant to cry), catcher in the rye, the prince.<br />\\n<br />\\nmovies:<br />\\ngladiator, operation valkyrie, the producers, down periscope.<br />\\n<br />\\nshows:<br />\\nthe borgia, arrested development, game of thrones, monty\\npython<br />\\n<br />\\nmusic:<br />\\naesop rock, hail mary mallon, george thorogood and the delaware\\ndestroyers, felt<br />\\n<br />\\nfood:<br />\\ni'm down for anything.   \n",
       "1                                                                                                                                                                                                                                                             i am die hard christopher moore fan. i don't really watch a lot of\\ntv unless there is humor involved. i am kind of stuck on 90's\\nalternative music. i am pretty much a fan of everything though... i\\ndo need to draw a line at most types of electronica.   \n",
       "2      okay this is where the cultural matrix gets so specific, it's like\\nbeing in the crosshairs.<br />\\n<br />\\nfor what it's worth, i find myself reading more non-fiction than\\nfiction. it's usually some kind of philosophy, art, or science text\\nby silly authors such as ranciere, de certeau, bataille,\\nbaudrillard, butler, stein, arendt, nietzche, zizek, etc. i'll\\noften throw in some weird new age or pop-psychology book in the mix\\nas well. as for fiction, i enjoy what little i've read of eco,...   \n",
       "3                                                                                                                                                                                                                                                                                                       bataille, celine, beckett. . .<br />\\nlynch, jarmusch, r.w. fassbender. . .<br />\\ntwin peaks &amp; fishing w/ john<br />\\njoy division, throbbing gristle, cabaret voltaire. . .<br />\\nvegetarian pho and coffee   \n",
       "4                                                                                                                                                            music: bands, rappers, musicians<br />\\nat the moment: thee oh sees.<br />\\nforever: wu-tang<br />\\nbooks: artbooks for days<br />\\naudiobooks: my collection, thick (thanks audible)<br />\\nshows: live ones<br />\\nfood: with stellar friends whenever<br />\\nmovies &gt; tv<br />\\npodcast: radiolab, this american life, the moth, joe rogan, the\\nchamps   \n",
       "...                                                                                                                                                                                                                                                                                                                                                                                                                                                                                                                    ...   \n",
       "59941  i am an avid movie watcher and follow the broadway season. movie\\nfavorites include: the graduate, room with a view, pride and\\nprejudice, an education, la dolce vita, the king's speech. very\\neclectic and multi generation music tastes-from opera to the\\nbeatles to van morrison to sinatra, dean martin, tony\\nbennett.<br />\\nhuge fan of diana krall, elvis costello and i do love to remember\\nthe 70's.<br />\\n<br />\\ni have been fortunate to have eaten at wonderful restaurants\\nthroughout the w...   \n",
       "59942  <strong>movies</strong>:<br />\\nhook (the greatest adventure ever!), gladiator, fight club (c'mon,\\nevery man loves it), 28 days later (gotta respect a good zombie\\nflick), the dark knight, drive, the assassination of jesse james by\\nthe coward robert ford, almost famous, the godfather trilogy (even\\npart iii), star wars (the good ones), and many many more...<br />\\n<br />\\n<strong>books</strong>:<br />\\nfor whom the bell tolls (hemingway), a moveable feast (hemingway),\\na farewell to arms (...   \n",
       "59943                                                                                                                                                                           last book: \"game change\".<br />\\nmovies: bourne series, action, smart comedies (in contrast to\\nslapstick), must have a decent plot<br />\\nshows: local sports, ncis, good wife, top chef, currently exploring\\njapanese dramas<br />\\nmusic: koit...<br />\\nfood: korean bbq, japanese, chinese, thai, italian, burgers, almost\\nanything   \n",
       "59944  where to begin musically: right now i listen to a lot of mgmt, mike\\nposner, above and beyond, drake, the roots, trey songz, usher, bay\\nmusic, local artist and anything that will get me to dance. i am\\nnot ashamed to admit i am a huge coldplay fan. the killers are\\nawesome live. i love hip hop with a message and relevant to my\\nlifestyle: guns money and drugs if only my life were that\\ninteresting. talib kweli, mos def, common, atmosphere (slug) fill\\nmy speakers/headphones mostly.<br />\\n<...   \n",
       "59945  i just read the help by kathryn stockett, sooooooo gooooood! just\\nfinished, the time machine by h.g. wells - i think about this book\\na lot. currently reading a totally sad true love story, interesting\\nbook. some of my faves are the confederacy of dunces, lolita, devil\\nin the white city. i am just now becoming a regular reader and i\\nlove it!<br />\\n<br />\\nlove music too many to list ... more later.<br />\\nlove movies, see everything i can - some favorites: dr.\\nstrangelove, eternal suns...   \n",
       "\n",
       "                                                                                                                                                                                                                                                                                                                         essay5  \\\n",
       "0                                                                                                                                                                                                                                                                        food.<br />\\nwater.<br />\\ncell phone.<br />\\nshelter.   \n",
       "1      delicious porkness in all of its glories.<br />\\nmy big ass doughboy's sinking into 15 new inches.<br />\\nmy overly resilient liver.<br />\\na good sharp knife.<br />\\nmy ps3... it plays blurays too. ;)<br />\\nmy over the top energy and my outlook on life... just give me a bag\\nof lemons and see what happens. ;)   \n",
       "2                                                                                                                                                                                                                                   movement<br />\\nconversation<br />\\ncreation<br />\\ncontemplation<br />\\ntouch<br />\\nhumor   \n",
       "3                                                                                                                                                                                                                                                                                                                           NaN   \n",
       "4                                                                                                                                                                                                                                                                                                                           NaN   \n",
       "...                                                                                                                                                                                                                                                                                                                         ...   \n",
       "59941                                                                                                                                                                                                                                                                                my family, my dog, italy, words and music!   \n",
       "59942                                                                                                                                                                                                                        iphone<br />\\ncontact lenses<br />\\nheadphones<br />\\ncamera<br />\\ntv remote<br />\\nbottle opener   \n",
       "59943                                                                                                                                                                                          - iphone<br />\\n- friends and family<br />\\n- internet<br />\\n- bay area sports<br />\\n- humor<br />\\n- point &amp; shoot camera   \n",
       "59944                                                                                                                                                                                                                                                             music, family, friends, a basketball, hoop, something to read   \n",
       "59945                                                                                      1. family &amp; friends &amp; other humans - interaction<br />\\n2. music &amp; movies &amp; books - entertainment<br />\\n3. computer &amp; electronics<br />\\n4. clean underwear<br />\\n5. exercise (with a book)<br />\\n6. caffeine   \n",
       "\n",
       "                                                                                                                                                                                                                                                                                                                                                                                                                                                             essay6  \\\n",
       "0                                                                                                                                                                                                                                                                                                                                                                                                                                       duality and humorous things   \n",
       "1                                                                                                                                                                                                                                                                                                                                                                                                                                                               NaN   \n",
       "2                                                                                                                                                                                                                                                                                                                                                                                                                                                               NaN   \n",
       "3                                                                                                                                                                                                                                                                                                                                                                                                                                        cats and german philosophy   \n",
       "4                                                                                                                                                                                                                                                                                                                                                                                                                                                               NaN   \n",
       "...                                                                                                                                                                                                                                                                                                                                                                                                                                                             ...   \n",
       "59941                                                                                                                                                                                                                                                                                                                                                                                                                                              writing my book.   \n",
       "59942  i do most of my thinking on the bus to/from work. usually about why\\nthe seat across from me smells like urine, or if the person sitting\\nnext to the emergency exit is really the right one for the job.\\nwhen i'm driving i usually daydream about putting petal to metal\\nand weaving in and out of traffic because i have to stop a major\\ndisaster from happening, or something die hard-ish like that. it\\nhasn't happened yet, but i'm still hopeful.   \n",
       "59943                                                                                                                                                                                                                                                                                                                                                                                                                      aside from work, how to improve my home.   \n",
       "59944                                                                                                                                                                                                                                                                                                                                                                                                                     what can i do to make someone chuckle....   \n",
       "59945                                                                                                                                                                                                           sex, myself, other people, how amazing everything is, how fucked up\\neverything is, that damn song stuck in my head, whats to eat, whats\\nto do, something inappropriate. why can't i stop thinking about\\nthings that aren't worth thinking about.   \n",
       "\n",
       "                                                                                                                             essay7  \\\n",
       "0                                                   trying to find someone to hang out with. i am down for anything\\nexcept a club.   \n",
       "1                                                                                                                               NaN   \n",
       "2                                                                       viewing. listening. dancing. talking. drinking. performing.   \n",
       "3                                                                                                                               NaN   \n",
       "4                                                                                                                               NaN   \n",
       "...                                                                                                                             ...   \n",
       "59941                                         running with my dog, finishing up the work week, looking forward to\\na great weekend.   \n",
       "59942                                                                                 bringin' home bacon, or drinking and shakin'!   \n",
       "59943                                                                               out enjoying friendly conversation over dinner.   \n",
       "59944                                                                       what i would do on any other day. everydays a friday ..   \n",
       "59945  out at happy hour with my friends, running into other friends,\\nranting about something hardly worth the rant .. or at home.   \n",
       "\n",
       "                                                                                                                               essay8  \\\n",
       "0                                                            i am new to california and looking for someone to wisper my secrets\\nto.   \n",
       "1                                                                                  i am very open and will share just about anything.   \n",
       "2                                                                          when i was five years old, i was known as \"the boogerman\".   \n",
       "3                                                                                                                                 NaN   \n",
       "4                                                                                                                                 NaN   \n",
       "...                                                                                                                               ...   \n",
       "59941           i have a dream to sing at the alconquin in nyc and to live in italy\\n-along the cinque terre, working in a gelateria.   \n",
       "59942                                                                     when i was 18 i got a tattoo of waldo somewhere on my body.   \n",
       "59943                                                                                            please let me think about this more.   \n",
       "59944  i like walking around in other people's house naked. seriously.\\nbodies are beautiful and it makes an awkward situation funny!   \n",
       "59945                                                                         i wish i could cry like holly hunter in broadcast news.   \n",
       "\n",
       "                                                                                                                                                                                                                                                                                  essay9  \\\n",
       "0                                                                                                                           you want to be swept off your feet!<br />\\nyou are tired of the norm.<br />\\nyou want to catch a coffee or a bite.<br />\\nor if you want to talk philosophy.   \n",
       "1                                                                                                                                                                                                                                                                                    NaN   \n",
       "2      you are bright, open, intense, silly, ironic, critical, caring,\\ngenerous, looking for an exploration, rather than finding \"a match\"\\nof some predetermined qualities.<br />\\n<br />\\ni'm currently in a fabulous and open relationship, so you should be\\ncomfortable with that.   \n",
       "3                                                                                                                                                                                                                                                                  you feel so inclined.   \n",
       "4                                                                                                                                                                                                                                                                                    NaN   \n",
       "...                                                                                                                                                                                                                                                                                  ...   \n",
       "59941                                                                                                                                                                                                                              you are seeking a long term connection of shared joy.   \n",
       "59942                                                                                                                                                                                                                                     meh if you made it this far you might as well.   \n",
       "59943                                                                                                                                                                                                                                                         we have similar interests.   \n",
       "59944                                                                                                                                                                                                                                              you are interested and interesting...   \n",
       "59945                                                                                                                                                                                                 if you have a back-bone, an opinion, a sense of humor, want to meet\\nface-to-face.   \n",
       "\n",
       "                 ethnicity  height  income                           job  \\\n",
       "0             asian, white    75.0      -1                transportation   \n",
       "1                    white    70.0   80000          hospitality / travel   \n",
       "2                      NaN    68.0      -1                           NaN   \n",
       "3                    white    71.0   20000                       student   \n",
       "4      asian, black, other    66.0      -1   artistic / musical / writer   \n",
       "...                    ...     ...     ...                           ...   \n",
       "59941                  NaN    62.0      -1   sales / marketing / biz dev   \n",
       "59942         white, other    72.0      -1         entertainment / media   \n",
       "59943                asian    71.0  100000  construction / craftsmanship   \n",
       "59944         asian, black    73.0      -1             medicine / health   \n",
       "59945                white    68.0      -1             medicine / health   \n",
       "\n",
       "            last_online                         location  \\\n",
       "0      2012-06-28-20-30  south san francisco, california   \n",
       "1      2012-06-29-21-41              oakland, california   \n",
       "2      2012-06-27-09-10        san francisco, california   \n",
       "3      2012-06-28-14-22             berkeley, california   \n",
       "4      2012-06-27-21-26        san francisco, california   \n",
       "...                 ...                              ...   \n",
       "59941  2012-06-12-21-47              oakland, california   \n",
       "59942  2012-06-29-11-01        san francisco, california   \n",
       "59943  2012-06-27-23-37  south san francisco, california   \n",
       "59944  2012-06-23-13-01        san francisco, california   \n",
       "59945  2012-06-29-00-42        san francisco, california   \n",
       "\n",
       "                                          offspring orientation  \\\n",
       "0      doesn&rsquo;t have kids, but might want them    straight   \n",
       "1      doesn&rsquo;t have kids, but might want them    straight   \n",
       "2                                               NaN    straight   \n",
       "3                           doesn&rsquo;t want kids    straight   \n",
       "4                                               NaN    straight   \n",
       "...                                             ...         ...   \n",
       "59941                                      has kids    straight   \n",
       "59942                       doesn&rsquo;t have kids    straight   \n",
       "59943                       doesn&rsquo;t have kids    straight   \n",
       "59944       doesn&rsquo;t have kids, but wants them    straight   \n",
       "59945                                           NaN         gay   \n",
       "\n",
       "                            pets                                   religion  \\\n",
       "0      likes dogs and likes cats      agnosticism and very serious about it   \n",
       "1      likes dogs and likes cats   agnosticism but not too serious about it   \n",
       "2                       has cats                                        NaN   \n",
       "3                     likes cats                                        NaN   \n",
       "4      likes dogs and likes cats                                        NaN   \n",
       "...                          ...                                        ...   \n",
       "59941                   has dogs   catholicism but not too serious about it   \n",
       "59942  likes dogs and likes cats                                agnosticism   \n",
       "59943                        NaN  christianity but not too serious about it   \n",
       "59944  likes dogs and likes cats   agnosticism but not too serious about it   \n",
       "59945  likes dogs and likes cats          catholicism and laughing about it   \n",
       "\n",
       "      sex                                      sign          smokes  \\\n",
       "0       m                                    gemini       sometimes   \n",
       "1       m                                    cancer              no   \n",
       "2       m        pisces but it doesn&rsquo;t matter              no   \n",
       "3       m                                    pisces              no   \n",
       "4       m                                  aquarius              no   \n",
       "...    ..                                       ...             ...   \n",
       "59941   f  cancer and it&rsquo;s fun to think about              no   \n",
       "59942   m           leo but it doesn&rsquo;t matter              no   \n",
       "59943   m   sagittarius but it doesn&rsquo;t matter              no   \n",
       "59944   m     leo and it&rsquo;s fun to think about  trying to quit   \n",
       "59945   m  gemini and it&rsquo;s fun to think about       sometimes   \n",
       "\n",
       "                                                                                           speaks  \\\n",
       "0                                                                                         english   \n",
       "1                                           english (fluently), spanish (poorly), french (poorly)   \n",
       "2                                                                            english, french, c++   \n",
       "3                                                                        english, german (poorly)   \n",
       "4                                                                                         english   \n",
       "...                                                                                           ...   \n",
       "59941                                                                                     english   \n",
       "59942                                                                          english (fluently)   \n",
       "59943                                                                          english (fluently)   \n",
       "59944  english (fluently), spanish (poorly), chinese (poorly), korean (poorly), japanese (poorly)   \n",
       "59945                                                                                     english   \n",
       "\n",
       "          status  \n",
       "0         single  \n",
       "1         single  \n",
       "2      available  \n",
       "3         single  \n",
       "4         single  \n",
       "...          ...  \n",
       "59941     single  \n",
       "59942     single  \n",
       "59943     single  \n",
       "59944     single  \n",
       "59945     single  \n",
       "\n",
       "[59946 rows x 31 columns]"
      ]
     },
     "execution_count": 386,
     "metadata": {},
     "output_type": "execute_result"
    }
   ],
   "source": [
    "profiles.copy()"
   ]
  },
  {
   "cell_type": "code",
   "execution_count": 387,
   "metadata": {},
   "outputs": [
    {
     "name": "stdout",
     "output_type": "stream",
     "text": [
      "There are 48890 in the dataframe\n"
     ]
    }
   ],
   "source": [
    "profiles_df = profiles.dropna(subset=[\"sign\"]).reset_index(drop = True)\n",
    "# profiles_df.reset_index(drop=True)\n",
    "print(f\"There are {len(profiles_df)} in the dataframe\")"
   ]
  },
  {
   "cell_type": "code",
   "execution_count": 388,
   "metadata": {},
   "outputs": [],
   "source": [
    "# profiles_df = profiles.dropna(subset=[\"sign\"]).copy()\n",
    "# profiles_df.reset_index(drop=True)\n",
    "# print(f\"There are {len(profiles_df)} in the dataframe\")"
   ]
  },
  {
   "cell_type": "markdown",
   "metadata": {},
   "source": [
    "**Inspect the labels in sign**"
   ]
  },
  {
   "cell_type": "code",
   "execution_count": 389,
   "metadata": {},
   "outputs": [
    {
     "data": {
      "text/plain": [
       "gemini and it&rsquo;s fun to think about         1782\n",
       "scorpio and it&rsquo;s fun to think about        1772\n",
       "leo and it&rsquo;s fun to think about            1692\n",
       "libra and it&rsquo;s fun to think about          1649\n",
       "taurus and it&rsquo;s fun to think about         1640\n",
       "cancer and it&rsquo;s fun to think about         1597\n",
       "pisces and it&rsquo;s fun to think about         1592\n",
       "sagittarius and it&rsquo;s fun to think about    1583\n",
       "virgo and it&rsquo;s fun to think about          1574\n",
       "aries and it&rsquo;s fun to think about          1573\n",
       "aquarius and it&rsquo;s fun to think about       1503\n",
       "virgo but it doesn&rsquo;t matter                1497\n",
       "leo but it doesn&rsquo;t matter                  1457\n",
       "cancer but it doesn&rsquo;t matter               1454\n",
       "gemini but it doesn&rsquo;t matter               1453\n",
       "taurus but it doesn&rsquo;t matter               1450\n",
       "aquarius but it doesn&rsquo;t matter             1408\n",
       "libra but it doesn&rsquo;t matter                1408\n",
       "capricorn and it&rsquo;s fun to think about      1376\n",
       "sagittarius but it doesn&rsquo;t matter          1375\n",
       "aries but it doesn&rsquo;t matter                1373\n",
       "capricorn but it doesn&rsquo;t matter            1319\n",
       "pisces but it doesn&rsquo;t matter               1300\n",
       "scorpio but it doesn&rsquo;t matter              1264\n",
       "leo                                              1159\n",
       "libra                                            1098\n",
       "cancer                                           1092\n",
       "virgo                                            1029\n",
       "scorpio                                          1020\n",
       "gemini                                           1013\n",
       "taurus                                           1001\n",
       "aries                                             996\n",
       "pisces                                            992\n",
       "aquarius                                          954\n",
       "sagittarius                                       937\n",
       "capricorn                                         833\n",
       "scorpio and it matters a lot                       78\n",
       "leo and it matters a lot                           66\n",
       "aquarius and it matters a lot                      63\n",
       "cancer and it matters a lot                        63\n",
       "pisces and it matters a lot                        62\n",
       "gemini and it matters a lot                        62\n",
       "libra and it matters a lot                         52\n",
       "taurus and it matters a lot                        49\n",
       "aries and it matters a lot                         47\n",
       "sagittarius and it matters a lot                   47\n",
       "capricorn and it matters a lot                     45\n",
       "virgo and it matters a lot                         41\n",
       "Name: sign, dtype: int64"
      ]
     },
     "execution_count": 389,
     "metadata": {},
     "output_type": "execute_result"
    }
   ],
   "source": [
    "profiles_df['sign'].value_counts()"
   ]
  },
  {
   "cell_type": "markdown",
   "metadata": {},
   "source": [
    "Upon inspection, it is evident that labels need to be separated from the rest of the text. Regex expressions would have been a preferred method to extract the labels but in this case, the labels are the first words in the rows(sentences) making it easier to employ list comprehension to slice the first element after the sentence is split using lambda function.\n",
    "A new column is created containing extracted labels."
   ]
  },
  {
   "cell_type": "markdown",
   "metadata": {},
   "source": [
    "Split each sentence into a list of words"
   ]
  },
  {
   "cell_type": "code",
   "execution_count": 390,
   "metadata": {},
   "outputs": [],
   "source": [
    "split_signs = profiles_df.apply(lambda label: label['sign'].split(), axis=1)"
   ]
  },
  {
   "cell_type": "markdown",
   "metadata": {},
   "source": [
    "Extract first element in each list and create new column"
   ]
  },
  {
   "cell_type": "code",
   "execution_count": 391,
   "metadata": {},
   "outputs": [],
   "source": [
    "profiles_df['labels'] = [x[0] for x in split_signs]"
   ]
  },
  {
   "cell_type": "markdown",
   "metadata": {},
   "source": [
    "Inspect values and distribution of labels"
   ]
  },
  {
   "cell_type": "code",
   "execution_count": 392,
   "metadata": {},
   "outputs": [
    {
     "data": {
      "text/plain": [
       "leo            4374\n",
       "gemini         4310\n",
       "libra          4207\n",
       "cancer         4206\n",
       "virgo          4141\n",
       "taurus         4140\n",
       "scorpio        4134\n",
       "aries          3989\n",
       "pisces         3946\n",
       "sagittarius    3942\n",
       "aquarius       3928\n",
       "capricorn      3573\n",
       "Name: labels, dtype: int64"
      ]
     },
     "execution_count": 392,
     "metadata": {},
     "output_type": "execute_result"
    }
   ],
   "source": [
    "profiles_df['labels'].value_counts()"
   ]
  },
  {
   "cell_type": "code",
   "execution_count": 393,
   "metadata": {},
   "outputs": [
    {
     "data": {
      "text/html": [
       "<div>\n",
       "<style scoped>\n",
       "    .dataframe tbody tr th:only-of-type {\n",
       "        vertical-align: middle;\n",
       "    }\n",
       "\n",
       "    .dataframe tbody tr th {\n",
       "        vertical-align: top;\n",
       "    }\n",
       "\n",
       "    .dataframe thead th {\n",
       "        text-align: right;\n",
       "    }\n",
       "</style>\n",
       "<table border=\"1\" class=\"dataframe\">\n",
       "  <thead>\n",
       "    <tr style=\"text-align: right;\">\n",
       "      <th></th>\n",
       "      <th>age</th>\n",
       "      <th>body_type</th>\n",
       "      <th>diet</th>\n",
       "      <th>drinks</th>\n",
       "      <th>drugs</th>\n",
       "      <th>education</th>\n",
       "      <th>essay0</th>\n",
       "      <th>essay1</th>\n",
       "      <th>essay2</th>\n",
       "      <th>essay3</th>\n",
       "      <th>essay4</th>\n",
       "      <th>essay5</th>\n",
       "      <th>essay6</th>\n",
       "      <th>essay7</th>\n",
       "      <th>essay8</th>\n",
       "      <th>essay9</th>\n",
       "      <th>ethnicity</th>\n",
       "      <th>height</th>\n",
       "      <th>income</th>\n",
       "      <th>job</th>\n",
       "      <th>last_online</th>\n",
       "      <th>location</th>\n",
       "      <th>offspring</th>\n",
       "      <th>orientation</th>\n",
       "      <th>pets</th>\n",
       "      <th>religion</th>\n",
       "      <th>sex</th>\n",
       "      <th>sign</th>\n",
       "      <th>smokes</th>\n",
       "      <th>speaks</th>\n",
       "      <th>status</th>\n",
       "      <th>labels</th>\n",
       "    </tr>\n",
       "  </thead>\n",
       "  <tbody>\n",
       "    <tr>\n",
       "      <th>0</th>\n",
       "      <td>22</td>\n",
       "      <td>a little extra</td>\n",
       "      <td>strictly anything</td>\n",
       "      <td>socially</td>\n",
       "      <td>never</td>\n",
       "      <td>working on college/university</td>\n",
       "      <td>about me:&lt;br /&gt;\\n&lt;br /&gt;\\ni would love to think that i was some some kind of intellectual:\\neither the dumbest smart guy, or the smartest dumb guy. can't say i\\ncan tell the difference. i love to talk about ideas and concepts. i\\nforge odd metaphors instead of reciting cliches. like the\\nsimularities between a friend of mine's house and an underwater\\nsalt mine. my favorite word is salt by the way (weird choice i\\nknow). to me most things in life are better as metaphors. i seek to\\nmake mysel...</td>\n",
       "      <td>currently working as an international agent for a freight\\nforwarding company. import, export, domestic you know the\\nworks.&lt;br /&gt;\\nonline classes and trying to better myself in my free time. perhaps\\na hours worth of a good book or a video game on a lazy sunday.</td>\n",
       "      <td>making people laugh.&lt;br /&gt;\\nranting about a good salting.&lt;br /&gt;\\nfinding simplicity in complexity, and complexity in simplicity.</td>\n",
       "      <td>the way i look. i am a six foot half asian, half caucasian mutt. it\\nmakes it tough not to notice me, and for me to blend in.</td>\n",
       "      <td>books:&lt;br /&gt;\\nabsurdistan, the republic, of mice and men (only book that made me\\nwant to cry), catcher in the rye, the prince.&lt;br /&gt;\\n&lt;br /&gt;\\nmovies:&lt;br /&gt;\\ngladiator, operation valkyrie, the producers, down periscope.&lt;br /&gt;\\n&lt;br /&gt;\\nshows:&lt;br /&gt;\\nthe borgia, arrested development, game of thrones, monty\\npython&lt;br /&gt;\\n&lt;br /&gt;\\nmusic:&lt;br /&gt;\\naesop rock, hail mary mallon, george thorogood and the delaware\\ndestroyers, felt&lt;br /&gt;\\n&lt;br /&gt;\\nfood:&lt;br /&gt;\\ni'm down for anything.</td>\n",
       "      <td>food.&lt;br /&gt;\\nwater.&lt;br /&gt;\\ncell phone.&lt;br /&gt;\\nshelter.</td>\n",
       "      <td>duality and humorous things</td>\n",
       "      <td>trying to find someone to hang out with. i am down for anything\\nexcept a club.</td>\n",
       "      <td>i am new to california and looking for someone to wisper my secrets\\nto.</td>\n",
       "      <td>you want to be swept off your feet!&lt;br /&gt;\\nyou are tired of the norm.&lt;br /&gt;\\nyou want to catch a coffee or a bite.&lt;br /&gt;\\nor if you want to talk philosophy.</td>\n",
       "      <td>asian, white</td>\n",
       "      <td>75.0</td>\n",
       "      <td>-1</td>\n",
       "      <td>transportation</td>\n",
       "      <td>2012-06-28-20-30</td>\n",
       "      <td>south san francisco, california</td>\n",
       "      <td>doesn&amp;rsquo;t have kids, but might want them</td>\n",
       "      <td>straight</td>\n",
       "      <td>likes dogs and likes cats</td>\n",
       "      <td>agnosticism and very serious about it</td>\n",
       "      <td>m</td>\n",
       "      <td>gemini</td>\n",
       "      <td>sometimes</td>\n",
       "      <td>english</td>\n",
       "      <td>single</td>\n",
       "      <td>gemini</td>\n",
       "    </tr>\n",
       "    <tr>\n",
       "      <th>1</th>\n",
       "      <td>35</td>\n",
       "      <td>average</td>\n",
       "      <td>mostly other</td>\n",
       "      <td>often</td>\n",
       "      <td>sometimes</td>\n",
       "      <td>working on space camp</td>\n",
       "      <td>i am a chef: this is what that means.&lt;br /&gt;\\n1. i am a workaholic.&lt;br /&gt;\\n2. i love to cook regardless of whether i am at work.&lt;br /&gt;\\n3. i love to drink and eat foods that are probably really bad for\\nme.&lt;br /&gt;\\n4. i love being around people that resemble line 1-3.&lt;br /&gt;\\ni love the outdoors and i am an avid skier. if its snowing i will\\nbe in tahoe at the very least. i am a very confident and friendly.\\ni'm not interested in acting or being a typical guy. i have no time\\nor patience for re...</td>\n",
       "      <td>dedicating everyday to being an unbelievable badass.</td>\n",
       "      <td>being silly. having ridiculous amonts of fun wherever. being a\\nsmart ass. ohh and i can cook. ;)</td>\n",
       "      <td>NaN</td>\n",
       "      <td>i am die hard christopher moore fan. i don't really watch a lot of\\ntv unless there is humor involved. i am kind of stuck on 90's\\nalternative music. i am pretty much a fan of everything though... i\\ndo need to draw a line at most types of electronica.</td>\n",
       "      <td>delicious porkness in all of its glories.&lt;br /&gt;\\nmy big ass doughboy's sinking into 15 new inches.&lt;br /&gt;\\nmy overly resilient liver.&lt;br /&gt;\\na good sharp knife.&lt;br /&gt;\\nmy ps3... it plays blurays too. ;)&lt;br /&gt;\\nmy over the top energy and my outlook on life... just give me a bag\\nof lemons and see what happens. ;)</td>\n",
       "      <td>NaN</td>\n",
       "      <td>NaN</td>\n",
       "      <td>i am very open and will share just about anything.</td>\n",
       "      <td>NaN</td>\n",
       "      <td>white</td>\n",
       "      <td>70.0</td>\n",
       "      <td>80000</td>\n",
       "      <td>hospitality / travel</td>\n",
       "      <td>2012-06-29-21-41</td>\n",
       "      <td>oakland, california</td>\n",
       "      <td>doesn&amp;rsquo;t have kids, but might want them</td>\n",
       "      <td>straight</td>\n",
       "      <td>likes dogs and likes cats</td>\n",
       "      <td>agnosticism but not too serious about it</td>\n",
       "      <td>m</td>\n",
       "      <td>cancer</td>\n",
       "      <td>no</td>\n",
       "      <td>english (fluently), spanish (poorly), french (poorly)</td>\n",
       "      <td>single</td>\n",
       "      <td>cancer</td>\n",
       "    </tr>\n",
       "    <tr>\n",
       "      <th>2</th>\n",
       "      <td>38</td>\n",
       "      <td>thin</td>\n",
       "      <td>anything</td>\n",
       "      <td>socially</td>\n",
       "      <td>NaN</td>\n",
       "      <td>graduated from masters program</td>\n",
       "      <td>i'm not ashamed of much, but writing public text on an online\\ndating site makes me pleasantly uncomfortable. i'll try to be as\\nearnest as possible in the noble endeavor of standing naked before\\nthe world.&lt;br /&gt;\\n&lt;br /&gt;\\ni've lived in san francisco for 15 years, and both love it and find\\nmyself frustrated with its deficits. lots of great friends and\\nacquaintances (which increases my apprehension to put anything on\\nthis site), but i'm feeling like meeting some new people that\\naren't jus...</td>\n",
       "      <td>i make nerdy software for musicians, artists, and experimenters to\\nindulge in their own weirdness, but i like to spend time away from\\nthe computer when working on my artwork (which is typically more\\nconcerned with group dynamics and communication, than with visual\\nform, objects, or technology). i also record and deejay dance,\\nnoise, pop, and experimental music (most of which electronic or at\\nleast studio based). besides these relatively ego driven\\nactivities, i've been enjoying things...</td>\n",
       "      <td>improvising in different contexts. alternating between being\\npresent and decidedly outside of a moment, or trying to hold both\\nat once. rambling intellectual conversations that hold said\\nconversations in contempt while seeking to find something that\\ntranscends them. being critical while remaining generous. listening\\nto and using body language--often performed in caricature or large\\ngestures, if not outright interpretive dance. dry, dark, and\\nraunchy humor.</td>\n",
       "      <td>my large jaw and large glasses are the physical things people\\ncomment on the most. when sufficiently stimulated, i have an\\nunmistakable cackle of a laugh. after that, it goes in more\\ndirections than i care to describe right now. maybe i'll come back\\nto this.</td>\n",
       "      <td>okay this is where the cultural matrix gets so specific, it's like\\nbeing in the crosshairs.&lt;br /&gt;\\n&lt;br /&gt;\\nfor what it's worth, i find myself reading more non-fiction than\\nfiction. it's usually some kind of philosophy, art, or science text\\nby silly authors such as ranciere, de certeau, bataille,\\nbaudrillard, butler, stein, arendt, nietzche, zizek, etc. i'll\\noften throw in some weird new age or pop-psychology book in the mix\\nas well. as for fiction, i enjoy what little i've read of eco,...</td>\n",
       "      <td>movement&lt;br /&gt;\\nconversation&lt;br /&gt;\\ncreation&lt;br /&gt;\\ncontemplation&lt;br /&gt;\\ntouch&lt;br /&gt;\\nhumor</td>\n",
       "      <td>NaN</td>\n",
       "      <td>viewing. listening. dancing. talking. drinking. performing.</td>\n",
       "      <td>when i was five years old, i was known as \"the boogerman\".</td>\n",
       "      <td>you are bright, open, intense, silly, ironic, critical, caring,\\ngenerous, looking for an exploration, rather than finding \"a match\"\\nof some predetermined qualities.&lt;br /&gt;\\n&lt;br /&gt;\\ni'm currently in a fabulous and open relationship, so you should be\\ncomfortable with that.</td>\n",
       "      <td>NaN</td>\n",
       "      <td>68.0</td>\n",
       "      <td>-1</td>\n",
       "      <td>NaN</td>\n",
       "      <td>2012-06-27-09-10</td>\n",
       "      <td>san francisco, california</td>\n",
       "      <td>NaN</td>\n",
       "      <td>straight</td>\n",
       "      <td>has cats</td>\n",
       "      <td>NaN</td>\n",
       "      <td>m</td>\n",
       "      <td>pisces but it doesn&amp;rsquo;t matter</td>\n",
       "      <td>no</td>\n",
       "      <td>english, french, c++</td>\n",
       "      <td>available</td>\n",
       "      <td>pisces</td>\n",
       "    </tr>\n",
       "    <tr>\n",
       "      <th>3</th>\n",
       "      <td>23</td>\n",
       "      <td>thin</td>\n",
       "      <td>vegetarian</td>\n",
       "      <td>socially</td>\n",
       "      <td>NaN</td>\n",
       "      <td>working on college/university</td>\n",
       "      <td>i work in a library and go to school. . .</td>\n",
       "      <td>reading things written by old dead people</td>\n",
       "      <td>playing synthesizers and organizing books according to the library\\nof congress classification system</td>\n",
       "      <td>socially awkward but i do my best</td>\n",
       "      <td>bataille, celine, beckett. . .&lt;br /&gt;\\nlynch, jarmusch, r.w. fassbender. . .&lt;br /&gt;\\ntwin peaks &amp;amp; fishing w/ john&lt;br /&gt;\\njoy division, throbbing gristle, cabaret voltaire. . .&lt;br /&gt;\\nvegetarian pho and coffee</td>\n",
       "      <td>NaN</td>\n",
       "      <td>cats and german philosophy</td>\n",
       "      <td>NaN</td>\n",
       "      <td>NaN</td>\n",
       "      <td>you feel so inclined.</td>\n",
       "      <td>white</td>\n",
       "      <td>71.0</td>\n",
       "      <td>20000</td>\n",
       "      <td>student</td>\n",
       "      <td>2012-06-28-14-22</td>\n",
       "      <td>berkeley, california</td>\n",
       "      <td>doesn&amp;rsquo;t want kids</td>\n",
       "      <td>straight</td>\n",
       "      <td>likes cats</td>\n",
       "      <td>NaN</td>\n",
       "      <td>m</td>\n",
       "      <td>pisces</td>\n",
       "      <td>no</td>\n",
       "      <td>english, german (poorly)</td>\n",
       "      <td>single</td>\n",
       "      <td>pisces</td>\n",
       "    </tr>\n",
       "    <tr>\n",
       "      <th>4</th>\n",
       "      <td>29</td>\n",
       "      <td>athletic</td>\n",
       "      <td>NaN</td>\n",
       "      <td>socially</td>\n",
       "      <td>never</td>\n",
       "      <td>graduated from college/university</td>\n",
       "      <td>hey how's it going? currently vague on the profile i know, more to\\ncome soon. looking to meet new folks outside of my circle of\\nfriends. i'm pretty responsive on the reply tip, feel free to drop\\na line. cheers.</td>\n",
       "      <td>work work work work + play</td>\n",
       "      <td>creating imagery to look at:&lt;br /&gt;\\nhttp://bagsbrown.blogspot.com/&lt;br /&gt;\\nhttp://stayruly.blogspot.com/</td>\n",
       "      <td>i smile a lot and my inquisitive nature</td>\n",
       "      <td>music: bands, rappers, musicians&lt;br /&gt;\\nat the moment: thee oh sees.&lt;br /&gt;\\nforever: wu-tang&lt;br /&gt;\\nbooks: artbooks for days&lt;br /&gt;\\naudiobooks: my collection, thick (thanks audible)&lt;br /&gt;\\nshows: live ones&lt;br /&gt;\\nfood: with stellar friends whenever&lt;br /&gt;\\nmovies &amp;gt; tv&lt;br /&gt;\\npodcast: radiolab, this american life, the moth, joe rogan, the\\nchamps</td>\n",
       "      <td>NaN</td>\n",
       "      <td>NaN</td>\n",
       "      <td>NaN</td>\n",
       "      <td>NaN</td>\n",
       "      <td>NaN</td>\n",
       "      <td>asian, black, other</td>\n",
       "      <td>66.0</td>\n",
       "      <td>-1</td>\n",
       "      <td>artistic / musical / writer</td>\n",
       "      <td>2012-06-27-21-26</td>\n",
       "      <td>san francisco, california</td>\n",
       "      <td>NaN</td>\n",
       "      <td>straight</td>\n",
       "      <td>likes dogs and likes cats</td>\n",
       "      <td>NaN</td>\n",
       "      <td>m</td>\n",
       "      <td>aquarius</td>\n",
       "      <td>no</td>\n",
       "      <td>english</td>\n",
       "      <td>single</td>\n",
       "      <td>aquarius</td>\n",
       "    </tr>\n",
       "  </tbody>\n",
       "</table>\n",
       "</div>"
      ],
      "text/plain": [
       "   age       body_type               diet    drinks      drugs  \\\n",
       "0   22  a little extra  strictly anything  socially      never   \n",
       "1   35         average       mostly other     often  sometimes   \n",
       "2   38            thin           anything  socially        NaN   \n",
       "3   23            thin         vegetarian  socially        NaN   \n",
       "4   29        athletic                NaN  socially      never   \n",
       "\n",
       "                           education  \\\n",
       "0      working on college/university   \n",
       "1              working on space camp   \n",
       "2     graduated from masters program   \n",
       "3      working on college/university   \n",
       "4  graduated from college/university   \n",
       "\n",
       "                                                                                                                                                                                                                                                                                                                                                                                                                                                                                                                essay0  \\\n",
       "0  about me:<br />\\n<br />\\ni would love to think that i was some some kind of intellectual:\\neither the dumbest smart guy, or the smartest dumb guy. can't say i\\ncan tell the difference. i love to talk about ideas and concepts. i\\nforge odd metaphors instead of reciting cliches. like the\\nsimularities between a friend of mine's house and an underwater\\nsalt mine. my favorite word is salt by the way (weird choice i\\nknow). to me most things in life are better as metaphors. i seek to\\nmake mysel...   \n",
       "1  i am a chef: this is what that means.<br />\\n1. i am a workaholic.<br />\\n2. i love to cook regardless of whether i am at work.<br />\\n3. i love to drink and eat foods that are probably really bad for\\nme.<br />\\n4. i love being around people that resemble line 1-3.<br />\\ni love the outdoors and i am an avid skier. if its snowing i will\\nbe in tahoe at the very least. i am a very confident and friendly.\\ni'm not interested in acting or being a typical guy. i have no time\\nor patience for re...   \n",
       "2  i'm not ashamed of much, but writing public text on an online\\ndating site makes me pleasantly uncomfortable. i'll try to be as\\nearnest as possible in the noble endeavor of standing naked before\\nthe world.<br />\\n<br />\\ni've lived in san francisco for 15 years, and both love it and find\\nmyself frustrated with its deficits. lots of great friends and\\nacquaintances (which increases my apprehension to put anything on\\nthis site), but i'm feeling like meeting some new people that\\naren't jus...   \n",
       "3                                                                                                                                                                                                                                                                                                                                                                                                                                                                            i work in a library and go to school. . .   \n",
       "4                                                                                                                                                                                                                                                                                                hey how's it going? currently vague on the profile i know, more to\\ncome soon. looking to meet new folks outside of my circle of\\nfriends. i'm pretty responsive on the reply tip, feel free to drop\\na line. cheers.   \n",
       "\n",
       "                                                                                                                                                                                                                                                                                                                                                                                                                                                                                                                essay1  \\\n",
       "0                                                                                                                                                                                                                                              currently working as an international agent for a freight\\nforwarding company. import, export, domestic you know the\\nworks.<br />\\nonline classes and trying to better myself in my free time. perhaps\\na hours worth of a good book or a video game on a lazy sunday.   \n",
       "1                                                                                                                                                                                                                                                                                                                                                                                                                                                                 dedicating everyday to being an unbelievable badass.   \n",
       "2  i make nerdy software for musicians, artists, and experimenters to\\nindulge in their own weirdness, but i like to spend time away from\\nthe computer when working on my artwork (which is typically more\\nconcerned with group dynamics and communication, than with visual\\nform, objects, or technology). i also record and deejay dance,\\nnoise, pop, and experimental music (most of which electronic or at\\nleast studio based). besides these relatively ego driven\\nactivities, i've been enjoying things...   \n",
       "3                                                                                                                                                                                                                                                                                                                                                                                                                                                                            reading things written by old dead people   \n",
       "4                                                                                                                                                                                                                                                                                                                                                                                                                                                                                           work work work work + play   \n",
       "\n",
       "                                                                                                                                                                                                                                                                                                                                                                                                                                                                                essay2  \\\n",
       "0                                                                                                                                                                                                                                                                                                                                                     making people laugh.<br />\\nranting about a good salting.<br />\\nfinding simplicity in complexity, and complexity in simplicity.   \n",
       "1                                                                                                                                                                                                                                                                                                                                                                                    being silly. having ridiculous amonts of fun wherever. being a\\nsmart ass. ohh and i can cook. ;)   \n",
       "2  improvising in different contexts. alternating between being\\npresent and decidedly outside of a moment, or trying to hold both\\nat once. rambling intellectual conversations that hold said\\nconversations in contempt while seeking to find something that\\ntranscends them. being critical while remaining generous. listening\\nto and using body language--often performed in caricature or large\\ngestures, if not outright interpretive dance. dry, dark, and\\nraunchy humor.   \n",
       "3                                                                                                                                                                                                                                                                                                                                                                                playing synthesizers and organizing books according to the library\\nof congress classification system   \n",
       "4                                                                                                                                                                                                                                                                                                                                                                              creating imagery to look at:<br />\\nhttp://bagsbrown.blogspot.com/<br />\\nhttp://stayruly.blogspot.com/   \n",
       "\n",
       "                                                                                                                                                                                                                                                                   essay3  \\\n",
       "0                                                                                                                                           the way i look. i am a six foot half asian, half caucasian mutt. it\\nmakes it tough not to notice me, and for me to blend in.   \n",
       "1                                                                                                                                                                                                                                                                     NaN   \n",
       "2  my large jaw and large glasses are the physical things people\\ncomment on the most. when sufficiently stimulated, i have an\\nunmistakable cackle of a laugh. after that, it goes in more\\ndirections than i care to describe right now. maybe i'll come back\\nto this.   \n",
       "3                                                                                                                                                                                                                                       socially awkward but i do my best   \n",
       "4                                                                                                                                                                                                                                 i smile a lot and my inquisitive nature   \n",
       "\n",
       "                                                                                                                                                                                                                                                                                                                                                                                                                                                                                                                essay4  \\\n",
       "0                          books:<br />\\nabsurdistan, the republic, of mice and men (only book that made me\\nwant to cry), catcher in the rye, the prince.<br />\\n<br />\\nmovies:<br />\\ngladiator, operation valkyrie, the producers, down periscope.<br />\\n<br />\\nshows:<br />\\nthe borgia, arrested development, game of thrones, monty\\npython<br />\\n<br />\\nmusic:<br />\\naesop rock, hail mary mallon, george thorogood and the delaware\\ndestroyers, felt<br />\\n<br />\\nfood:<br />\\ni'm down for anything.   \n",
       "1                                                                                                                                                                                                                                                         i am die hard christopher moore fan. i don't really watch a lot of\\ntv unless there is humor involved. i am kind of stuck on 90's\\nalternative music. i am pretty much a fan of everything though... i\\ndo need to draw a line at most types of electronica.   \n",
       "2  okay this is where the cultural matrix gets so specific, it's like\\nbeing in the crosshairs.<br />\\n<br />\\nfor what it's worth, i find myself reading more non-fiction than\\nfiction. it's usually some kind of philosophy, art, or science text\\nby silly authors such as ranciere, de certeau, bataille,\\nbaudrillard, butler, stein, arendt, nietzche, zizek, etc. i'll\\noften throw in some weird new age or pop-psychology book in the mix\\nas well. as for fiction, i enjoy what little i've read of eco,...   \n",
       "3                                                                                                                                                                                                                                                                                                   bataille, celine, beckett. . .<br />\\nlynch, jarmusch, r.w. fassbender. . .<br />\\ntwin peaks &amp; fishing w/ john<br />\\njoy division, throbbing gristle, cabaret voltaire. . .<br />\\nvegetarian pho and coffee   \n",
       "4                                                                                                                                                        music: bands, rappers, musicians<br />\\nat the moment: thee oh sees.<br />\\nforever: wu-tang<br />\\nbooks: artbooks for days<br />\\naudiobooks: my collection, thick (thanks audible)<br />\\nshows: live ones<br />\\nfood: with stellar friends whenever<br />\\nmovies &gt; tv<br />\\npodcast: radiolab, this american life, the moth, joe rogan, the\\nchamps   \n",
       "\n",
       "                                                                                                                                                                                                                                                                                                                     essay5  \\\n",
       "0                                                                                                                                                                                                                                                                    food.<br />\\nwater.<br />\\ncell phone.<br />\\nshelter.   \n",
       "1  delicious porkness in all of its glories.<br />\\nmy big ass doughboy's sinking into 15 new inches.<br />\\nmy overly resilient liver.<br />\\na good sharp knife.<br />\\nmy ps3... it plays blurays too. ;)<br />\\nmy over the top energy and my outlook on life... just give me a bag\\nof lemons and see what happens. ;)   \n",
       "2                                                                                                                                                                                                                               movement<br />\\nconversation<br />\\ncreation<br />\\ncontemplation<br />\\ntouch<br />\\nhumor   \n",
       "3                                                                                                                                                                                                                                                                                                                       NaN   \n",
       "4                                                                                                                                                                                                                                                                                                                       NaN   \n",
       "\n",
       "                        essay6  \\\n",
       "0  duality and humorous things   \n",
       "1                          NaN   \n",
       "2                          NaN   \n",
       "3   cats and german philosophy   \n",
       "4                          NaN   \n",
       "\n",
       "                                                                            essay7  \\\n",
       "0  trying to find someone to hang out with. i am down for anything\\nexcept a club.   \n",
       "1                                                                              NaN   \n",
       "2                      viewing. listening. dancing. talking. drinking. performing.   \n",
       "3                                                                              NaN   \n",
       "4                                                                              NaN   \n",
       "\n",
       "                                                                     essay8  \\\n",
       "0  i am new to california and looking for someone to wisper my secrets\\nto.   \n",
       "1                        i am very open and will share just about anything.   \n",
       "2                when i was five years old, i was known as \"the boogerman\".   \n",
       "3                                                                       NaN   \n",
       "4                                                                       NaN   \n",
       "\n",
       "                                                                                                                                                                                                                                                                              essay9  \\\n",
       "0                                                                                                                       you want to be swept off your feet!<br />\\nyou are tired of the norm.<br />\\nyou want to catch a coffee or a bite.<br />\\nor if you want to talk philosophy.   \n",
       "1                                                                                                                                                                                                                                                                                NaN   \n",
       "2  you are bright, open, intense, silly, ironic, critical, caring,\\ngenerous, looking for an exploration, rather than finding \"a match\"\\nof some predetermined qualities.<br />\\n<br />\\ni'm currently in a fabulous and open relationship, so you should be\\ncomfortable with that.   \n",
       "3                                                                                                                                                                                                                                                              you feel so inclined.   \n",
       "4                                                                                                                                                                                                                                                                                NaN   \n",
       "\n",
       "             ethnicity  height  income                          job  \\\n",
       "0         asian, white    75.0      -1               transportation   \n",
       "1                white    70.0   80000         hospitality / travel   \n",
       "2                  NaN    68.0      -1                          NaN   \n",
       "3                white    71.0   20000                      student   \n",
       "4  asian, black, other    66.0      -1  artistic / musical / writer   \n",
       "\n",
       "        last_online                         location  \\\n",
       "0  2012-06-28-20-30  south san francisco, california   \n",
       "1  2012-06-29-21-41              oakland, california   \n",
       "2  2012-06-27-09-10        san francisco, california   \n",
       "3  2012-06-28-14-22             berkeley, california   \n",
       "4  2012-06-27-21-26        san francisco, california   \n",
       "\n",
       "                                      offspring orientation  \\\n",
       "0  doesn&rsquo;t have kids, but might want them    straight   \n",
       "1  doesn&rsquo;t have kids, but might want them    straight   \n",
       "2                                           NaN    straight   \n",
       "3                       doesn&rsquo;t want kids    straight   \n",
       "4                                           NaN    straight   \n",
       "\n",
       "                        pets                                  religion sex  \\\n",
       "0  likes dogs and likes cats     agnosticism and very serious about it   m   \n",
       "1  likes dogs and likes cats  agnosticism but not too serious about it   m   \n",
       "2                   has cats                                       NaN   m   \n",
       "3                 likes cats                                       NaN   m   \n",
       "4  likes dogs and likes cats                                       NaN   m   \n",
       "\n",
       "                                 sign     smokes  \\\n",
       "0                              gemini  sometimes   \n",
       "1                              cancer         no   \n",
       "2  pisces but it doesn&rsquo;t matter         no   \n",
       "3                              pisces         no   \n",
       "4                            aquarius         no   \n",
       "\n",
       "                                                  speaks     status    labels  \n",
       "0                                                english     single    gemini  \n",
       "1  english (fluently), spanish (poorly), french (poorly)     single    cancer  \n",
       "2                                   english, french, c++  available    pisces  \n",
       "3                               english, german (poorly)     single    pisces  \n",
       "4                                                english     single  aquarius  "
      ]
     },
     "execution_count": 393,
     "metadata": {},
     "output_type": "execute_result"
    }
   ],
   "source": [
    "profiles_df.head()"
   ]
  },
  {
   "cell_type": "markdown",
   "metadata": {},
   "source": [
    "We now have the target variables for the analysis. \n",
    "\n",
    "Plot of label distribution will indicate if the classes (labels) are unbalanced."
   ]
  },
  {
   "cell_type": "code",
   "execution_count": 394,
   "metadata": {},
   "outputs": [],
   "source": [
    "import seaborn as sns\n",
    "sns.set_style(\"darkgrid\")"
   ]
  },
  {
   "cell_type": "code",
   "execution_count": 395,
   "metadata": {},
   "outputs": [
    {
     "data": {
      "image/png": "[encoded data removed]",
      "text/plain": [
       "<Figure size 1080x576 with 1 Axes>"
      ]
     },
     "metadata": {},
     "output_type": "display_data"
    }
   ],
   "source": [
    "fig, ax = plt.subplots()\n",
    "# the size of A4 paper lanscape\n",
    "fig.set_size_inches(15, 8)\n",
    "sns.set_context(\"poster\", font_scale = .6, rc={\"grid.linewidth\": 0.6})\n",
    "sns.countplot(y = profiles_df['labels'], order=profiles_df['labels'].value_counts(ascending=False).index, ax=ax)\n",
    "plt.setp(ax.get_xticklabels(), rotation=45)\n",
    "plt.title('Count of Zodiac Signs')\n",
    "plt.savefig('zod_labels.png')\n",
    "plt.show()"
   ]
  },
  {
   "cell_type": "markdown",
   "metadata": {},
   "source": [
    "The plot indicates that the classes are balanced.\n",
    "\n",
    "Having cleaned and formatted the target variable, we now focus on cleaning and formatting the features (independent variables). The columns to be used as features include: body type, diet, drinks, drugs, education, the essay columns, job, offspring, pets and religion.\n",
    "\n",
    "Combine all essays into one column essay"
   ]
  },
  {
   "cell_type": "markdown",
   "metadata": {},
   "source": [
    "**essay**\n",
    "\n",
    "First, fill all null valuesd with an empty string. The columns are then combined into **essay**."
   ]
  },
  {
   "cell_type": "code",
   "execution_count": 396,
   "metadata": {},
   "outputs": [],
   "source": [
    "profiles_df.fillna({'essay0':'',\n",
    "           'essay1':'',\n",
    "           'essay2':'',\n",
    "          'essay3':'',\n",
    "          'essay4':'',\n",
    "          'essay5':'',\n",
    "          'essay6':'',\n",
    "          'essay7':'',\n",
    "        'essay8':'',\n",
    "        'essay9':''},\n",
    "          inplace=True)"
   ]
  },
  {
   "cell_type": "code",
   "execution_count": 397,
   "metadata": {},
   "outputs": [],
   "source": [
    "profiles_df['essay'] = profiles_df['essay0'] + profiles_df['essay1'] + profiles_df['essay2'] + profiles_df['essay3'] + profiles_df['essay4']+\\\n",
    "profiles_df['essay5'] + profiles_df['essay6'] + profiles_df['essay7'] + profiles_df['essay8'] + profiles_df['essay9'] "
   ]
  },
  {
   "cell_type": "code",
   "execution_count": 398,
   "metadata": {},
   "outputs": [
    {
     "data": {
      "text/html": [
       "<div>\n",
       "<style scoped>\n",
       "    .dataframe tbody tr th:only-of-type {\n",
       "        vertical-align: middle;\n",
       "    }\n",
       "\n",
       "    .dataframe tbody tr th {\n",
       "        vertical-align: top;\n",
       "    }\n",
       "\n",
       "    .dataframe thead th {\n",
       "        text-align: right;\n",
       "    }\n",
       "</style>\n",
       "<table border=\"1\" class=\"dataframe\">\n",
       "  <thead>\n",
       "    <tr style=\"text-align: right;\">\n",
       "      <th></th>\n",
       "      <th>age</th>\n",
       "      <th>body_type</th>\n",
       "      <th>diet</th>\n",
       "      <th>drinks</th>\n",
       "      <th>drugs</th>\n",
       "      <th>education</th>\n",
       "      <th>essay0</th>\n",
       "      <th>essay1</th>\n",
       "      <th>essay2</th>\n",
       "      <th>essay3</th>\n",
       "      <th>essay4</th>\n",
       "      <th>essay5</th>\n",
       "      <th>essay6</th>\n",
       "      <th>essay7</th>\n",
       "      <th>essay8</th>\n",
       "      <th>essay9</th>\n",
       "      <th>ethnicity</th>\n",
       "      <th>height</th>\n",
       "      <th>income</th>\n",
       "      <th>job</th>\n",
       "      <th>last_online</th>\n",
       "      <th>location</th>\n",
       "      <th>offspring</th>\n",
       "      <th>orientation</th>\n",
       "      <th>pets</th>\n",
       "      <th>religion</th>\n",
       "      <th>sex</th>\n",
       "      <th>sign</th>\n",
       "      <th>smokes</th>\n",
       "      <th>speaks</th>\n",
       "      <th>status</th>\n",
       "      <th>labels</th>\n",
       "      <th>essay</th>\n",
       "    </tr>\n",
       "  </thead>\n",
       "  <tbody>\n",
       "    <tr>\n",
       "      <th>48885</th>\n",
       "      <td>59</td>\n",
       "      <td>NaN</td>\n",
       "      <td>NaN</td>\n",
       "      <td>socially</td>\n",
       "      <td>never</td>\n",
       "      <td>graduated from college/university</td>\n",
       "      <td>vibrant, expressive, caring optimist. i love being with people,\\ntraveling the world and sharing the excitement of discovery.&lt;br /&gt;\\n&lt;br /&gt;\\ni am a once traditional girl who challenged her world and am\\ngrateful that life threw enough curve balls that i have learned to\\ncatch the wind!</td>\n",
       "      <td>the happiest times have been when life came to me and i ran with\\nit-not at it or ahead of it. it sounds cliche but life happens when\\nyou don't realize it and it is the joy and appreciation that\\ndefines and prevails.&lt;br /&gt;\\nat this stage of my life, i am trying to let life take its course,\\nstop overthinking and believe in surprises!</td>\n",
       "      <td>i make an outstanding osso bucco. i am also very creative so i\\nthrive on the enjoyment of art, music and design.</td>\n",
       "      <td>i am told that people notice my smile, eyes and the way i dress.</td>\n",
       "      <td>i am an avid movie watcher and follow the broadway season. movie\\nfavorites include: the graduate, room with a view, pride and\\nprejudice, an education, la dolce vita, the king's speech. very\\neclectic and multi generation music tastes-from opera to the\\nbeatles to van morrison to sinatra, dean martin, tony\\nbennett.&lt;br /&gt;\\nhuge fan of diana krall, elvis costello and i do love to remember\\nthe 70's.&lt;br /&gt;\\n&lt;br /&gt;\\ni have been fortunate to have eaten at wonderful restaurants\\nthroughout the w...</td>\n",
       "      <td>my family, my dog, italy, words and music!</td>\n",
       "      <td>writing my book.</td>\n",
       "      <td>running with my dog, finishing up the work week, looking forward to\\na great weekend.</td>\n",
       "      <td>i have a dream to sing at the alconquin in nyc and to live in italy\\n-along the cinque terre, working in a gelateria.</td>\n",
       "      <td>you are seeking a long term connection of shared joy.</td>\n",
       "      <td>NaN</td>\n",
       "      <td>62.0</td>\n",
       "      <td>-1</td>\n",
       "      <td>sales / marketing / biz dev</td>\n",
       "      <td>2012-06-12-21-47</td>\n",
       "      <td>oakland, california</td>\n",
       "      <td>has kids</td>\n",
       "      <td>straight</td>\n",
       "      <td>has dogs</td>\n",
       "      <td>catholicism but not too serious about it</td>\n",
       "      <td>f</td>\n",
       "      <td>cancer and it&amp;rsquo;s fun to think about</td>\n",
       "      <td>no</td>\n",
       "      <td>english</td>\n",
       "      <td>single</td>\n",
       "      <td>cancer</td>\n",
       "      <td>vibrant, expressive, caring optimist. i love being with people,\\ntraveling the world and sharing the excitement of discovery.&lt;br /&gt;\\n&lt;br /&gt;\\ni am a once traditional girl who challenged her world and am\\ngrateful that life threw enough curve balls that i have learned to\\ncatch the wind!the happiest times have been when life came to me and i ran with\\nit-not at it or ahead of it. it sounds cliche but life happens when\\nyou don't realize it and it is the joy and appreciation that\\ndefines and p...</td>\n",
       "    </tr>\n",
       "    <tr>\n",
       "      <th>48886</th>\n",
       "      <td>24</td>\n",
       "      <td>fit</td>\n",
       "      <td>mostly anything</td>\n",
       "      <td>often</td>\n",
       "      <td>sometimes</td>\n",
       "      <td>working on college/university</td>\n",
       "      <td>i'm nick.&lt;br /&gt;\\ni never know what to write about myself.&lt;br /&gt;\\nand i'm not sure what to do with my hands.&lt;br /&gt;\\nso i'm from southern california.&lt;br /&gt;\\ni live in san francisco now.&lt;br /&gt;\\ni have an aa in something or other and i'll have a ba in cinema\\nthis year.&lt;br /&gt;\\ni also do graphic and web design.&lt;br /&gt;\\ni'm almost never a jackass.&lt;br /&gt;\\nitalian and spanish heritage. i'll argue your socks off.&lt;br /&gt;\\nstones &amp;gt; beatles, but they're both cool.&lt;br /&gt;\\ndogs are cool. cats are sometim...</td>\n",
       "      <td>currently finishing school for film production, emphasis in\\ncinematography.</td>\n",
       "      <td>&lt;a class=\"ilink\" href=\"/interests?i=filmmaking\"&gt;filmmaking&lt;/a&gt;,\\n&lt;a class=\"ilink\" href=\"/interests?i=photography\"&gt;photography&lt;/a&gt;,\\n&lt;a class=\"ilink\" href=\"/interests?i=graphic+design\"&gt;graphic\\ndesign&lt;/a&gt;, &lt;a class=\"ilink\" href=\"/interests?i=web%0adesign\"&gt;web\\ndesign&lt;/a&gt;, &lt;a class=\"ilink\" href=\\n\"/interests?i=writing\"&gt;writing&lt;/a&gt;, &lt;a class=\"ilink\" href=\\n\"/interests?i=eating\"&gt;eating&lt;/a&gt;, etc.</td>\n",
       "      <td>dude, i don't know.</td>\n",
       "      <td>&lt;strong&gt;movies&lt;/strong&gt;:&lt;br /&gt;\\nhook (the greatest adventure ever!), gladiator, fight club (c'mon,\\nevery man loves it), 28 days later (gotta respect a good zombie\\nflick), the dark knight, drive, the assassination of jesse james by\\nthe coward robert ford, almost famous, the godfather trilogy (even\\npart iii), star wars (the good ones), and many many more...&lt;br /&gt;\\n&lt;br /&gt;\\n&lt;strong&gt;books&lt;/strong&gt;:&lt;br /&gt;\\nfor whom the bell tolls (hemingway), a moveable feast (hemingway),\\na farewell to arms (...</td>\n",
       "      <td>iphone&lt;br /&gt;\\ncontact lenses&lt;br /&gt;\\nheadphones&lt;br /&gt;\\ncamera&lt;br /&gt;\\ntv remote&lt;br /&gt;\\nbottle opener</td>\n",
       "      <td>i do most of my thinking on the bus to/from work. usually about why\\nthe seat across from me smells like urine, or if the person sitting\\nnext to the emergency exit is really the right one for the job.\\nwhen i'm driving i usually daydream about putting petal to metal\\nand weaving in and out of traffic because i have to stop a major\\ndisaster from happening, or something die hard-ish like that. it\\nhasn't happened yet, but i'm still hopeful.</td>\n",
       "      <td>bringin' home bacon, or drinking and shakin'!</td>\n",
       "      <td>when i was 18 i got a tattoo of waldo somewhere on my body.</td>\n",
       "      <td>meh if you made it this far you might as well.</td>\n",
       "      <td>white, other</td>\n",
       "      <td>72.0</td>\n",
       "      <td>-1</td>\n",
       "      <td>entertainment / media</td>\n",
       "      <td>2012-06-29-11-01</td>\n",
       "      <td>san francisco, california</td>\n",
       "      <td>doesn&amp;rsquo;t have kids</td>\n",
       "      <td>straight</td>\n",
       "      <td>likes dogs and likes cats</td>\n",
       "      <td>agnosticism</td>\n",
       "      <td>m</td>\n",
       "      <td>leo but it doesn&amp;rsquo;t matter</td>\n",
       "      <td>no</td>\n",
       "      <td>english (fluently)</td>\n",
       "      <td>single</td>\n",
       "      <td>leo</td>\n",
       "      <td>i'm nick.&lt;br /&gt;\\ni never know what to write about myself.&lt;br /&gt;\\nand i'm not sure what to do with my hands.&lt;br /&gt;\\nso i'm from southern california.&lt;br /&gt;\\ni live in san francisco now.&lt;br /&gt;\\ni have an aa in something or other and i'll have a ba in cinema\\nthis year.&lt;br /&gt;\\ni also do graphic and web design.&lt;br /&gt;\\ni'm almost never a jackass.&lt;br /&gt;\\nitalian and spanish heritage. i'll argue your socks off.&lt;br /&gt;\\nstones &amp;gt; beatles, but they're both cool.&lt;br /&gt;\\ndogs are cool. cats are sometim...</td>\n",
       "    </tr>\n",
       "    <tr>\n",
       "      <th>48887</th>\n",
       "      <td>42</td>\n",
       "      <td>average</td>\n",
       "      <td>mostly anything</td>\n",
       "      <td>not at all</td>\n",
       "      <td>never</td>\n",
       "      <td>graduated from masters program</td>\n",
       "      <td>hello! i enjoy traveling, watching movies, and hanging out with\\nfriends. my #1 rule for traveling is to go to places where where i\\ncan drink the tap water. =p i've been to japan, washington dc, new\\nyork, london, paris, china (an exception to rule #1) and many other\\nplaces. for the year, i haven't decided yet. maybe toronto and\\nmontreal. my taste in movies (and television) fall into three\\ngenres: comedies, action, and drama. it doesn't matter if the film\\nis in english or sub-titled (i ...</td>\n",
       "      <td>i'm a civil engineer, who enjoys helping the citizens of san san\\nfrancisco.</td>\n",
       "      <td>- looking at things objectively&lt;br /&gt;\\n- getting things done (but others may disagree) =p&lt;br /&gt;\\n- remaining calm in any situation</td>\n",
       "      <td>i'm quiet until i get used to the environment (but isn't that\\nnormal?).</td>\n",
       "      <td>last book: \"game change\".&lt;br /&gt;\\nmovies: bourne series, action, smart comedies (in contrast to\\nslapstick), must have a decent plot&lt;br /&gt;\\nshows: local sports, ncis, good wife, top chef, currently exploring\\njapanese dramas&lt;br /&gt;\\nmusic: koit...&lt;br /&gt;\\nfood: korean bbq, japanese, chinese, thai, italian, burgers, almost\\nanything</td>\n",
       "      <td>- iphone&lt;br /&gt;\\n- friends and family&lt;br /&gt;\\n- internet&lt;br /&gt;\\n- bay area sports&lt;br /&gt;\\n- humor&lt;br /&gt;\\n- point &amp;amp; shoot camera</td>\n",
       "      <td>aside from work, how to improve my home.</td>\n",
       "      <td>out enjoying friendly conversation over dinner.</td>\n",
       "      <td>please let me think about this more.</td>\n",
       "      <td>we have similar interests.</td>\n",
       "      <td>asian</td>\n",
       "      <td>71.0</td>\n",
       "      <td>100000</td>\n",
       "      <td>construction / craftsmanship</td>\n",
       "      <td>2012-06-27-23-37</td>\n",
       "      <td>south san francisco, california</td>\n",
       "      <td>doesn&amp;rsquo;t have kids</td>\n",
       "      <td>straight</td>\n",
       "      <td>NaN</td>\n",
       "      <td>christianity but not too serious about it</td>\n",
       "      <td>m</td>\n",
       "      <td>sagittarius but it doesn&amp;rsquo;t matter</td>\n",
       "      <td>no</td>\n",
       "      <td>english (fluently)</td>\n",
       "      <td>single</td>\n",
       "      <td>sagittarius</td>\n",
       "      <td>hello! i enjoy traveling, watching movies, and hanging out with\\nfriends. my #1 rule for traveling is to go to places where where i\\ncan drink the tap water. =p i've been to japan, washington dc, new\\nyork, london, paris, china (an exception to rule #1) and many other\\nplaces. for the year, i haven't decided yet. maybe toronto and\\nmontreal. my taste in movies (and television) fall into three\\ngenres: comedies, action, and drama. it doesn't matter if the film\\nis in english or sub-titled (i ...</td>\n",
       "    </tr>\n",
       "    <tr>\n",
       "      <th>48888</th>\n",
       "      <td>27</td>\n",
       "      <td>athletic</td>\n",
       "      <td>mostly anything</td>\n",
       "      <td>socially</td>\n",
       "      <td>often</td>\n",
       "      <td>working on college/university</td>\n",
       "      <td>\"all i have in this world are my balls and my integrity and no one\\ncan take either away from you\" -momma linda (her daughter and i\\nwent to the same nursery)&lt;br /&gt;\\n&lt;br /&gt;\\nweed and alcohol are my vices...oh, and the company of women</td>\n",
       "      <td>following my dreams...&lt;br /&gt;\\n\"you got a dream... you gotta protect it. people can't do somethin'\\nthemselves, they wanna tell you you can't do it. if you want\\nsomethin', go get it. period.\" -will smith in \"pursuit of\\nhappyness\"</td>\n",
       "      <td>listening</td>\n",
       "      <td>it used to be the hair until i mowed it off but i would have to say\\nthe dimples ever since i could remember, its always been about\\nthose indents in my cheeks. i think its because i do smile more\\nthan the average person. not those fake smiles either. smiling is\\nall in the eyes.</td>\n",
       "      <td>where to begin musically: right now i listen to a lot of mgmt, mike\\nposner, above and beyond, drake, the roots, trey songz, usher, bay\\nmusic, local artist and anything that will get me to dance. i am\\nnot ashamed to admit i am a huge coldplay fan. the killers are\\nawesome live. i love hip hop with a message and relevant to my\\nlifestyle: guns money and drugs if only my life were that\\ninteresting. talib kweli, mos def, common, atmosphere (slug) fill\\nmy speakers/headphones mostly.&lt;br /&gt;\\n&lt;...</td>\n",
       "      <td>music, family, friends, a basketball, hoop, something to read</td>\n",
       "      <td>what can i do to make someone chuckle....</td>\n",
       "      <td>what i would do on any other day. everydays a friday ..</td>\n",
       "      <td>i like walking around in other people's house naked. seriously.\\nbodies are beautiful and it makes an awkward situation funny!</td>\n",
       "      <td>you are interested and interesting...</td>\n",
       "      <td>asian, black</td>\n",
       "      <td>73.0</td>\n",
       "      <td>-1</td>\n",
       "      <td>medicine / health</td>\n",
       "      <td>2012-06-23-13-01</td>\n",
       "      <td>san francisco, california</td>\n",
       "      <td>doesn&amp;rsquo;t have kids, but wants them</td>\n",
       "      <td>straight</td>\n",
       "      <td>likes dogs and likes cats</td>\n",
       "      <td>agnosticism but not too serious about it</td>\n",
       "      <td>m</td>\n",
       "      <td>leo and it&amp;rsquo;s fun to think about</td>\n",
       "      <td>trying to quit</td>\n",
       "      <td>english (fluently), spanish (poorly), chinese (poorly), korean (poorly), japanese (poorly)</td>\n",
       "      <td>single</td>\n",
       "      <td>leo</td>\n",
       "      <td>\"all i have in this world are my balls and my integrity and no one\\ncan take either away from you\" -momma linda (her daughter and i\\nwent to the same nursery)&lt;br /&gt;\\n&lt;br /&gt;\\nweed and alcohol are my vices...oh, and the company of womenfollowing my dreams...&lt;br /&gt;\\n\"you got a dream... you gotta protect it. people can't do somethin'\\nthemselves, they wanna tell you you can't do it. if you want\\nsomethin', go get it. period.\" -will smith in \"pursuit of\\nhappyness\"listeningit used to be the hair ...</td>\n",
       "    </tr>\n",
       "    <tr>\n",
       "      <th>48889</th>\n",
       "      <td>39</td>\n",
       "      <td>average</td>\n",
       "      <td>NaN</td>\n",
       "      <td>socially</td>\n",
       "      <td>NaN</td>\n",
       "      <td>graduated from masters program</td>\n",
       "      <td>is it odd that having a little \"enemy\" status with someone, makes\\nthem seem more interesting to me?&lt;br /&gt;\\n&lt;br /&gt;\\ni'm an extremely socially-graced outcast. my totally awkward\\nchildhood surprisingly yielded to something extroverted, thoughtful\\nand diplomatic. i'm a nice guy, i love people, i love humanity, and\\ni can get pretty angry about all of the above. if i end up the\\nloudest guy in the room, i'm never so loud that i cant hear what\\nanyone else is saying.&lt;br /&gt;\\n&lt;br /&gt;\\nthough i am ...</td>\n",
       "      <td>i work with elderly people (psychotherapy and case management) and\\ni'm inching into public health (volunteer for now at a men's health\\nclinic). studying for my mft license exam. professionally, i have a\\npath for sure, and creatively i'm always working things out.\\nkeeping my sanity through excessive amounts of cardio. (muffin-top\\ngone!)</td>\n",
       "      <td>i'm a great bullshitter. i don't know what it is but people just\\nplain believe the craziest shit i tell them. i'm a good\\nconversationalist (pre-req for bullshitting) - i can talk to anyone\\nabout anything. i have a good memory for most things (except names)\\nand my brain is a trap for random information. i'm also pretty good\\nat ranting and then talking the pitchforks out of the assembling\\nmob's hands (because i'm a lover not a riot leader). give me a job\\nto do and i'll to it thoughtfull...</td>\n",
       "      <td>either that i am funny/sarcastic, or that i am totally insulting\\nfollowed by the realization that i am just a nice guy, who at times\\ndoesn't communicate in the most delicate ways.&lt;br /&gt;\\n&lt;br /&gt;\\nwhen i am in a reserved mood ... maybe it is my loud laugh? my big\\nnose? something i'm totally unaware of?</td>\n",
       "      <td>i just read the help by kathryn stockett, sooooooo gooooood! just\\nfinished, the time machine by h.g. wells - i think about this book\\na lot. currently reading a totally sad true love story, interesting\\nbook. some of my faves are the confederacy of dunces, lolita, devil\\nin the white city. i am just now becoming a regular reader and i\\nlove it!&lt;br /&gt;\\n&lt;br /&gt;\\nlove music too many to list ... more later.&lt;br /&gt;\\nlove movies, see everything i can - some favorites: dr.\\nstrangelove, eternal suns...</td>\n",
       "      <td>1. family &amp;amp; friends &amp;amp; other humans - interaction&lt;br /&gt;\\n2. music &amp;amp; movies &amp;amp; books - entertainment&lt;br /&gt;\\n3. computer &amp;amp; electronics&lt;br /&gt;\\n4. clean underwear&lt;br /&gt;\\n5. exercise (with a book)&lt;br /&gt;\\n6. caffeine</td>\n",
       "      <td>sex, myself, other people, how amazing everything is, how fucked up\\neverything is, that damn song stuck in my head, whats to eat, whats\\nto do, something inappropriate. why can't i stop thinking about\\nthings that aren't worth thinking about.</td>\n",
       "      <td>out at happy hour with my friends, running into other friends,\\nranting about something hardly worth the rant .. or at home.</td>\n",
       "      <td>i wish i could cry like holly hunter in broadcast news.</td>\n",
       "      <td>if you have a back-bone, an opinion, a sense of humor, want to meet\\nface-to-face.</td>\n",
       "      <td>white</td>\n",
       "      <td>68.0</td>\n",
       "      <td>-1</td>\n",
       "      <td>medicine / health</td>\n",
       "      <td>2012-06-29-00-42</td>\n",
       "      <td>san francisco, california</td>\n",
       "      <td>NaN</td>\n",
       "      <td>gay</td>\n",
       "      <td>likes dogs and likes cats</td>\n",
       "      <td>catholicism and laughing about it</td>\n",
       "      <td>m</td>\n",
       "      <td>gemini and it&amp;rsquo;s fun to think about</td>\n",
       "      <td>sometimes</td>\n",
       "      <td>english</td>\n",
       "      <td>single</td>\n",
       "      <td>gemini</td>\n",
       "      <td>is it odd that having a little \"enemy\" status with someone, makes\\nthem seem more interesting to me?&lt;br /&gt;\\n&lt;br /&gt;\\ni'm an extremely socially-graced outcast. my totally awkward\\nchildhood surprisingly yielded to something extroverted, thoughtful\\nand diplomatic. i'm a nice guy, i love people, i love humanity, and\\ni can get pretty angry about all of the above. if i end up the\\nloudest guy in the room, i'm never so loud that i cant hear what\\nanyone else is saying.&lt;br /&gt;\\n&lt;br /&gt;\\nthough i am ...</td>\n",
       "    </tr>\n",
       "  </tbody>\n",
       "</table>\n",
       "</div>"
      ],
      "text/plain": [
       "       age body_type             diet      drinks      drugs  \\\n",
       "48885   59       NaN              NaN    socially      never   \n",
       "48886   24       fit  mostly anything       often  sometimes   \n",
       "48887   42   average  mostly anything  not at all      never   \n",
       "48888   27  athletic  mostly anything    socially      often   \n",
       "48889   39   average              NaN    socially        NaN   \n",
       "\n",
       "                               education  \\\n",
       "48885  graduated from college/university   \n",
       "48886      working on college/university   \n",
       "48887     graduated from masters program   \n",
       "48888      working on college/university   \n",
       "48889     graduated from masters program   \n",
       "\n",
       "                                                                                                                                                                                                                                                                                                                                                                                                                                                                                                                    essay0  \\\n",
       "48885                                                                                                                                                                                                                       vibrant, expressive, caring optimist. i love being with people,\\ntraveling the world and sharing the excitement of discovery.<br />\\n<br />\\ni am a once traditional girl who challenged her world and am\\ngrateful that life threw enough curve balls that i have learned to\\ncatch the wind!   \n",
       "48886  i'm nick.<br />\\ni never know what to write about myself.<br />\\nand i'm not sure what to do with my hands.<br />\\nso i'm from southern california.<br />\\ni live in san francisco now.<br />\\ni have an aa in something or other and i'll have a ba in cinema\\nthis year.<br />\\ni also do graphic and web design.<br />\\ni'm almost never a jackass.<br />\\nitalian and spanish heritage. i'll argue your socks off.<br />\\nstones &gt; beatles, but they're both cool.<br />\\ndogs are cool. cats are sometim...   \n",
       "48887  hello! i enjoy traveling, watching movies, and hanging out with\\nfriends. my #1 rule for traveling is to go to places where where i\\ncan drink the tap water. =p i've been to japan, washington dc, new\\nyork, london, paris, china (an exception to rule #1) and many other\\nplaces. for the year, i haven't decided yet. maybe toronto and\\nmontreal. my taste in movies (and television) fall into three\\ngenres: comedies, action, and drama. it doesn't matter if the film\\nis in english or sub-titled (i ...   \n",
       "48888                                                                                                                                                                                                                                                                           \"all i have in this world are my balls and my integrity and no one\\ncan take either away from you\" -momma linda (her daughter and i\\nwent to the same nursery)<br />\\n<br />\\nweed and alcohol are my vices...oh, and the company of women   \n",
       "48889  is it odd that having a little \"enemy\" status with someone, makes\\nthem seem more interesting to me?<br />\\n<br />\\ni'm an extremely socially-graced outcast. my totally awkward\\nchildhood surprisingly yielded to something extroverted, thoughtful\\nand diplomatic. i'm a nice guy, i love people, i love humanity, and\\ni can get pretty angry about all of the above. if i end up the\\nloudest guy in the room, i'm never so loud that i cant hear what\\nanyone else is saying.<br />\\n<br />\\nthough i am ...   \n",
       "\n",
       "                                                                                                                                                                                                                                                                                                                                                       essay1  \\\n",
       "48885       the happiest times have been when life came to me and i ran with\\nit-not at it or ahead of it. it sounds cliche but life happens when\\nyou don't realize it and it is the joy and appreciation that\\ndefines and prevails.<br />\\nat this stage of my life, i am trying to let life take its course,\\nstop overthinking and believe in surprises!   \n",
       "48886                                                                                                                                                                                                                                                                            currently finishing school for film production, emphasis in\\ncinematography.   \n",
       "48887                                                                                                                                                                                                                                                                            i'm a civil engineer, who enjoys helping the citizens of san san\\nfrancisco.   \n",
       "48888                                                                                                                  following my dreams...<br />\\n\"you got a dream... you gotta protect it. people can't do somethin'\\nthemselves, they wanna tell you you can't do it. if you want\\nsomethin', go get it. period.\" -will smith in \"pursuit of\\nhappyness\"   \n",
       "48889  i work with elderly people (psychotherapy and case management) and\\ni'm inching into public health (volunteer for now at a men's health\\nclinic). studying for my mft license exam. professionally, i have a\\npath for sure, and creatively i'm always working things out.\\nkeeping my sanity through excessive amounts of cardio. (muffin-top\\ngone!)   \n",
       "\n",
       "                                                                                                                                                                                                                                                                                                                                                                                                                                                                                                                    essay2  \\\n",
       "48885                                                                                                                                                                                                                                                                                                                                                                                                    i make an outstanding osso bucco. i am also very creative so i\\nthrive on the enjoyment of art, music and design.   \n",
       "48886                                                                                                           <a class=\"ilink\" href=\"/interests?i=filmmaking\">filmmaking</a>,\\n<a class=\"ilink\" href=\"/interests?i=photography\">photography</a>,\\n<a class=\"ilink\" href=\"/interests?i=graphic+design\">graphic\\ndesign</a>, <a class=\"ilink\" href=\"/interests?i=web%0adesign\">web\\ndesign</a>, <a class=\"ilink\" href=\\n\"/interests?i=writing\">writing</a>, <a class=\"ilink\" href=\\n\"/interests?i=eating\">eating</a>, etc.   \n",
       "48887                                                                                                                                                                                                                                                                                                                                                                                   - looking at things objectively<br />\\n- getting things done (but others may disagree) =p<br />\\n- remaining calm in any situation   \n",
       "48888                                                                                                                                                                                                                                                                                                                                                                                                                                                                                                            listening   \n",
       "48889  i'm a great bullshitter. i don't know what it is but people just\\nplain believe the craziest shit i tell them. i'm a good\\nconversationalist (pre-req for bullshitting) - i can talk to anyone\\nabout anything. i have a good memory for most things (except names)\\nand my brain is a trap for random information. i'm also pretty good\\nat ranting and then talking the pitchforks out of the assembling\\nmob's hands (because i'm a lover not a riot leader). give me a job\\nto do and i'll to it thoughtfull...   \n",
       "\n",
       "                                                                                                                                                                                                                                                                                                                 essay3  \\\n",
       "48885                                                                                                                                                                                                                                                  i am told that people notice my smile, eyes and the way i dress.   \n",
       "48886                                                                                                                                                                                                                                                                                               dude, i don't know.   \n",
       "48887                                                                                                                                                                                                                                          i'm quiet until i get used to the environment (but isn't that\\nnormal?).   \n",
       "48888                         it used to be the hair until i mowed it off but i would have to say\\nthe dimples ever since i could remember, its always been about\\nthose indents in my cheeks. i think its because i do smile more\\nthan the average person. not those fake smiles either. smiling is\\nall in the eyes.   \n",
       "48889  either that i am funny/sarcastic, or that i am totally insulting\\nfollowed by the realization that i am just a nice guy, who at times\\ndoesn't communicate in the most delicate ways.<br />\\n<br />\\nwhen i am in a reserved mood ... maybe it is my loud laugh? my big\\nnose? something i'm totally unaware of?   \n",
       "\n",
       "                                                                                                                                                                                                                                                                                                                                                                                                                                                                                                                    essay4  \\\n",
       "48885  i am an avid movie watcher and follow the broadway season. movie\\nfavorites include: the graduate, room with a view, pride and\\nprejudice, an education, la dolce vita, the king's speech. very\\neclectic and multi generation music tastes-from opera to the\\nbeatles to van morrison to sinatra, dean martin, tony\\nbennett.<br />\\nhuge fan of diana krall, elvis costello and i do love to remember\\nthe 70's.<br />\\n<br />\\ni have been fortunate to have eaten at wonderful restaurants\\nthroughout the w...   \n",
       "48886  <strong>movies</strong>:<br />\\nhook (the greatest adventure ever!), gladiator, fight club (c'mon,\\nevery man loves it), 28 days later (gotta respect a good zombie\\nflick), the dark knight, drive, the assassination of jesse james by\\nthe coward robert ford, almost famous, the godfather trilogy (even\\npart iii), star wars (the good ones), and many many more...<br />\\n<br />\\n<strong>books</strong>:<br />\\nfor whom the bell tolls (hemingway), a moveable feast (hemingway),\\na farewell to arms (...   \n",
       "48887                                                                                                                                                                           last book: \"game change\".<br />\\nmovies: bourne series, action, smart comedies (in contrast to\\nslapstick), must have a decent plot<br />\\nshows: local sports, ncis, good wife, top chef, currently exploring\\njapanese dramas<br />\\nmusic: koit...<br />\\nfood: korean bbq, japanese, chinese, thai, italian, burgers, almost\\nanything   \n",
       "48888  where to begin musically: right now i listen to a lot of mgmt, mike\\nposner, above and beyond, drake, the roots, trey songz, usher, bay\\nmusic, local artist and anything that will get me to dance. i am\\nnot ashamed to admit i am a huge coldplay fan. the killers are\\nawesome live. i love hip hop with a message and relevant to my\\nlifestyle: guns money and drugs if only my life were that\\ninteresting. talib kweli, mos def, common, atmosphere (slug) fill\\nmy speakers/headphones mostly.<br />\\n<...   \n",
       "48889  i just read the help by kathryn stockett, sooooooo gooooood! just\\nfinished, the time machine by h.g. wells - i think about this book\\na lot. currently reading a totally sad true love story, interesting\\nbook. some of my faves are the confederacy of dunces, lolita, devil\\nin the white city. i am just now becoming a regular reader and i\\nlove it!<br />\\n<br />\\nlove music too many to list ... more later.<br />\\nlove movies, see everything i can - some favorites: dr.\\nstrangelove, eternal suns...   \n",
       "\n",
       "                                                                                                                                                                                                                                     essay5  \\\n",
       "48885                                                                                                                                                                                            my family, my dog, italy, words and music!   \n",
       "48886                                                                                                                                    iphone<br />\\ncontact lenses<br />\\nheadphones<br />\\ncamera<br />\\ntv remote<br />\\nbottle opener   \n",
       "48887                                                                                                      - iphone<br />\\n- friends and family<br />\\n- internet<br />\\n- bay area sports<br />\\n- humor<br />\\n- point &amp; shoot camera   \n",
       "48888                                                                                                                                                                         music, family, friends, a basketball, hoop, something to read   \n",
       "48889  1. family &amp; friends &amp; other humans - interaction<br />\\n2. music &amp; movies &amp; books - entertainment<br />\\n3. computer &amp; electronics<br />\\n4. clean underwear<br />\\n5. exercise (with a book)<br />\\n6. caffeine   \n",
       "\n",
       "                                                                                                                                                                                                                                                                                                                                                                                                                                                             essay6  \\\n",
       "48885                                                                                                                                                                                                                                                                                                                                                                                                                                              writing my book.   \n",
       "48886  i do most of my thinking on the bus to/from work. usually about why\\nthe seat across from me smells like urine, or if the person sitting\\nnext to the emergency exit is really the right one for the job.\\nwhen i'm driving i usually daydream about putting petal to metal\\nand weaving in and out of traffic because i have to stop a major\\ndisaster from happening, or something die hard-ish like that. it\\nhasn't happened yet, but i'm still hopeful.   \n",
       "48887                                                                                                                                                                                                                                                                                                                                                                                                                      aside from work, how to improve my home.   \n",
       "48888                                                                                                                                                                                                                                                                                                                                                                                                                     what can i do to make someone chuckle....   \n",
       "48889                                                                                                                                                                                                           sex, myself, other people, how amazing everything is, how fucked up\\neverything is, that damn song stuck in my head, whats to eat, whats\\nto do, something inappropriate. why can't i stop thinking about\\nthings that aren't worth thinking about.   \n",
       "\n",
       "                                                                                                                             essay7  \\\n",
       "48885                                         running with my dog, finishing up the work week, looking forward to\\na great weekend.   \n",
       "48886                                                                                 bringin' home bacon, or drinking and shakin'!   \n",
       "48887                                                                               out enjoying friendly conversation over dinner.   \n",
       "48888                                                                       what i would do on any other day. everydays a friday ..   \n",
       "48889  out at happy hour with my friends, running into other friends,\\nranting about something hardly worth the rant .. or at home.   \n",
       "\n",
       "                                                                                                                               essay8  \\\n",
       "48885           i have a dream to sing at the alconquin in nyc and to live in italy\\n-along the cinque terre, working in a gelateria.   \n",
       "48886                                                                     when i was 18 i got a tattoo of waldo somewhere on my body.   \n",
       "48887                                                                                            please let me think about this more.   \n",
       "48888  i like walking around in other people's house naked. seriously.\\nbodies are beautiful and it makes an awkward situation funny!   \n",
       "48889                                                                         i wish i could cry like holly hunter in broadcast news.   \n",
       "\n",
       "                                                                                   essay9  \\\n",
       "48885                               you are seeking a long term connection of shared joy.   \n",
       "48886                                      meh if you made it this far you might as well.   \n",
       "48887                                                          we have similar interests.   \n",
       "48888                                               you are interested and interesting...   \n",
       "48889  if you have a back-bone, an opinion, a sense of humor, want to meet\\nface-to-face.   \n",
       "\n",
       "          ethnicity  height  income                           job  \\\n",
       "48885           NaN    62.0      -1   sales / marketing / biz dev   \n",
       "48886  white, other    72.0      -1         entertainment / media   \n",
       "48887         asian    71.0  100000  construction / craftsmanship   \n",
       "48888  asian, black    73.0      -1             medicine / health   \n",
       "48889         white    68.0      -1             medicine / health   \n",
       "\n",
       "            last_online                         location  \\\n",
       "48885  2012-06-12-21-47              oakland, california   \n",
       "48886  2012-06-29-11-01        san francisco, california   \n",
       "48887  2012-06-27-23-37  south san francisco, california   \n",
       "48888  2012-06-23-13-01        san francisco, california   \n",
       "48889  2012-06-29-00-42        san francisco, california   \n",
       "\n",
       "                                     offspring orientation  \\\n",
       "48885                                 has kids    straight   \n",
       "48886                  doesn&rsquo;t have kids    straight   \n",
       "48887                  doesn&rsquo;t have kids    straight   \n",
       "48888  doesn&rsquo;t have kids, but wants them    straight   \n",
       "48889                                      NaN         gay   \n",
       "\n",
       "                            pets                                   religion  \\\n",
       "48885                   has dogs   catholicism but not too serious about it   \n",
       "48886  likes dogs and likes cats                                agnosticism   \n",
       "48887                        NaN  christianity but not too serious about it   \n",
       "48888  likes dogs and likes cats   agnosticism but not too serious about it   \n",
       "48889  likes dogs and likes cats          catholicism and laughing about it   \n",
       "\n",
       "      sex                                      sign          smokes  \\\n",
       "48885   f  cancer and it&rsquo;s fun to think about              no   \n",
       "48886   m           leo but it doesn&rsquo;t matter              no   \n",
       "48887   m   sagittarius but it doesn&rsquo;t matter              no   \n",
       "48888   m     leo and it&rsquo;s fun to think about  trying to quit   \n",
       "48889   m  gemini and it&rsquo;s fun to think about       sometimes   \n",
       "\n",
       "                                                                                           speaks  \\\n",
       "48885                                                                                     english   \n",
       "48886                                                                          english (fluently)   \n",
       "48887                                                                          english (fluently)   \n",
       "48888  english (fluently), spanish (poorly), chinese (poorly), korean (poorly), japanese (poorly)   \n",
       "48889                                                                                     english   \n",
       "\n",
       "       status       labels  \\\n",
       "48885  single       cancer   \n",
       "48886  single          leo   \n",
       "48887  single  sagittarius   \n",
       "48888  single          leo   \n",
       "48889  single       gemini   \n",
       "\n",
       "                                                                                                                                                                                                                                                                                                                                                                                                                                                                                                                     essay  \n",
       "48885  vibrant, expressive, caring optimist. i love being with people,\\ntraveling the world and sharing the excitement of discovery.<br />\\n<br />\\ni am a once traditional girl who challenged her world and am\\ngrateful that life threw enough curve balls that i have learned to\\ncatch the wind!the happiest times have been when life came to me and i ran with\\nit-not at it or ahead of it. it sounds cliche but life happens when\\nyou don't realize it and it is the joy and appreciation that\\ndefines and p...  \n",
       "48886  i'm nick.<br />\\ni never know what to write about myself.<br />\\nand i'm not sure what to do with my hands.<br />\\nso i'm from southern california.<br />\\ni live in san francisco now.<br />\\ni have an aa in something or other and i'll have a ba in cinema\\nthis year.<br />\\ni also do graphic and web design.<br />\\ni'm almost never a jackass.<br />\\nitalian and spanish heritage. i'll argue your socks off.<br />\\nstones &gt; beatles, but they're both cool.<br />\\ndogs are cool. cats are sometim...  \n",
       "48887  hello! i enjoy traveling, watching movies, and hanging out with\\nfriends. my #1 rule for traveling is to go to places where where i\\ncan drink the tap water. =p i've been to japan, washington dc, new\\nyork, london, paris, china (an exception to rule #1) and many other\\nplaces. for the year, i haven't decided yet. maybe toronto and\\nmontreal. my taste in movies (and television) fall into three\\ngenres: comedies, action, and drama. it doesn't matter if the film\\nis in english or sub-titled (i ...  \n",
       "48888  \"all i have in this world are my balls and my integrity and no one\\ncan take either away from you\" -momma linda (her daughter and i\\nwent to the same nursery)<br />\\n<br />\\nweed and alcohol are my vices...oh, and the company of womenfollowing my dreams...<br />\\n\"you got a dream... you gotta protect it. people can't do somethin'\\nthemselves, they wanna tell you you can't do it. if you want\\nsomethin', go get it. period.\" -will smith in \"pursuit of\\nhappyness\"listeningit used to be the hair ...  \n",
       "48889  is it odd that having a little \"enemy\" status with someone, makes\\nthem seem more interesting to me?<br />\\n<br />\\ni'm an extremely socially-graced outcast. my totally awkward\\nchildhood surprisingly yielded to something extroverted, thoughtful\\nand diplomatic. i'm a nice guy, i love people, i love humanity, and\\ni can get pretty angry about all of the above. if i end up the\\nloudest guy in the room, i'm never so loud that i cant hear what\\nanyone else is saying.<br />\\n<br />\\nthough i am ...  "
      ]
     },
     "execution_count": 398,
     "metadata": {},
     "output_type": "execute_result"
    }
   ],
   "source": [
    "profiles_df.tail()"
   ]
  },
  {
   "cell_type": "markdown",
   "metadata": {},
   "source": [
    "Next column to inspect is body type. There are fewer missing values in this column."
   ]
  },
  {
   "cell_type": "markdown",
   "metadata": {},
   "source": [
    "**body_type**"
   ]
  },
  {
   "cell_type": "markdown",
   "metadata": {},
   "source": [
    "Fill missing values with other."
   ]
  },
  {
   "cell_type": "code",
   "execution_count": 399,
   "metadata": {},
   "outputs": [],
   "source": [
    "profiles_df.fillna({'body_type':'other'},\n",
    "          inplace=True)"
   ]
  },
  {
   "cell_type": "markdown",
   "metadata": {},
   "source": [
    "Check the count and create plot of the various body type."
   ]
  },
  {
   "cell_type": "code",
   "execution_count": 400,
   "metadata": {},
   "outputs": [
    {
     "data": {
      "text/plain": [
       "average           12362\n",
       "fit               10137\n",
       "athletic           9197\n",
       "other              3938\n",
       "thin               3754\n",
       "curvy              3603\n",
       "a little extra     2362\n",
       "skinny             1430\n",
       "full figured        940\n",
       "overweight          382\n",
       "jacked              347\n",
       "used up             288\n",
       "rather not say      150\n",
       "Name: body_type, dtype: int64"
      ]
     },
     "execution_count": 400,
     "metadata": {},
     "output_type": "execute_result"
    }
   ],
   "source": [
    "profiles_df['body_type'].value_counts()"
   ]
  },
  {
   "cell_type": "code",
   "execution_count": 401,
   "metadata": {},
   "outputs": [
    {
     "data": {
      "image/png": "[encoded data removed]",
      "text/plain": [
       "<Figure size 1008x1080 with 1 Axes>"
      ]
     },
     "metadata": {},
     "output_type": "display_data"
    }
   ],
   "source": [
    "fig, ax = plt.subplots()\n",
    "# the size of A4 paper lanscape\n",
    "fig.set_size_inches(14, 15)\n",
    "sns.set_context(\"poster\", font_scale = .6, rc={\"grid.linewidth\": 0.6})\n",
    "sns.countplot(y = profiles_df['body_type'], order=profiles_df['body_type'].value_counts(ascending=False).index, ax=ax)\n",
    "plt.setp(ax.get_xticklabels(), rotation=45)\n",
    "plt.title('Count of Body Type')\n",
    "plt.savefig('body_type.png')\n",
    "plt.show()"
   ]
  },
  {
   "cell_type": "markdown",
   "metadata": {},
   "source": [
    "**diet**"
   ]
  },
  {
   "cell_type": "code",
   "execution_count": 402,
   "metadata": {},
   "outputs": [
    {
     "name": "stdout",
     "output_type": "stream",
     "text": [
      "mostly anything        14261\n",
      "anything                5032\n",
      "strictly anything       4270\n",
      "mostly vegetarian       2930\n",
      "mostly other             909\n",
      "strictly vegetarian      733\n",
      "vegetarian               539\n",
      "strictly other           404\n",
      "mostly vegan             293\n",
      "other                    286\n",
      "strictly vegan           196\n",
      "vegan                    111\n",
      "mostly kosher             70\n",
      "mostly halal              40\n",
      "strictly kosher           14\n",
      "strictly halal            14\n",
      "halal                     10\n",
      "kosher                     8\n",
      "Name: diet, dtype: int64\n",
      "18\n"
     ]
    }
   ],
   "source": [
    "print(profiles_df['diet'].value_counts())\n",
    "print(profiles_df['diet'].nunique())"
   ]
  },
  {
   "cell_type": "markdown",
   "metadata": {},
   "source": [
    "There are 18 sub categories of diet. For the purpose of this exercise, the categories will be collapsed into their parent categories namely, anything, vegetarian, vegan, halal, kosher and other. The null values will be filled with **other**."
   ]
  },
  {
   "cell_type": "code",
   "execution_count": 403,
   "metadata": {},
   "outputs": [],
   "source": [
    "profiles_df['diet'].fillna('other', inplace = True)"
   ]
  },
  {
   "cell_type": "code",
   "execution_count": 404,
   "metadata": {},
   "outputs": [],
   "source": [
    "profiles_df['diet'].replace({'mostly anything': 'anything',\n",
    "                             'strictly anything': 'anything',\n",
    "                             'mostly vegetarian': 'vegetarian',\n",
    "                             'strictly vegetarian': 'vegetarian',\n",
    "                             'mostly other': 'other',\n",
    "                             'strictly other': 'other',\n",
    "                             'mostly vegan': 'vegan',\n",
    "                             'strictly vegan': 'vegan',\n",
    "                             'mostly halal': 'halal',\n",
    "                             'strictly halal': 'halal',\n",
    "                             'mostly kosher': 'kosher',\n",
    "                             'strictly kosher': 'kosher'   \n",
    "                                }, inplace = True)"
   ]
  },
  {
   "cell_type": "code",
   "execution_count": 405,
   "metadata": {},
   "outputs": [
    {
     "name": "stdout",
     "output_type": "stream",
     "text": [
      "anything      23563\n",
      "other         20369\n",
      "vegetarian     4202\n",
      "vegan           600\n",
      "kosher           92\n",
      "halal            64\n",
      "Name: diet, dtype: int64\n",
      "6\n"
     ]
    }
   ],
   "source": [
    "print(profiles_df['diet'].value_counts())\n",
    "print(profiles_df['diet'].nunique())"
   ]
  },
  {
   "cell_type": "code",
   "execution_count": 406,
   "metadata": {},
   "outputs": [
    {
     "data": {
      "image/png": "[encoded data removed]",
      "text/plain": [
       "<Figure size 1080x576 with 1 Axes>"
      ]
     },
     "metadata": {},
     "output_type": "display_data"
    }
   ],
   "source": [
    "fig, ax = plt.subplots()\n",
    "# the size of A4 paper lanscape\n",
    "fig.set_size_inches(15, 8)\n",
    "sns.set_context(\"poster\", font_scale = .6, rc={\"grid.linewidth\": 0.6})\n",
    "sns.countplot(y = profiles_df['diet'], order=profiles_df['diet'].value_counts(ascending=False).index, ax=ax)\n",
    "plt.setp(ax.get_xticklabels(), rotation=45)\n",
    "plt.title('Count of diet')\n",
    "plt.savefig('diet.png')\n",
    "plt.show()"
   ]
  },
  {
   "cell_type": "code",
   "execution_count": 407,
   "metadata": {},
   "outputs": [],
   "source": [
    "# profiles_df.info()"
   ]
  },
  {
   "cell_type": "markdown",
   "metadata": {},
   "source": [
    "**drinks**"
   ]
  },
  {
   "cell_type": "code",
   "execution_count": 408,
   "metadata": {},
   "outputs": [
    {
     "name": "stdout",
     "output_type": "stream",
     "text": [
      "socially       34647\n",
      "rarely          5034\n",
      "often           4289\n",
      "not at all      2770\n",
      "very often       381\n",
      "desperately      243\n",
      "Name: drinks, dtype: int64\n",
      "There are 6 distinct drinks categories:\n",
      ".........................................................................\n",
      "['socially' 'often' 'not at all' 'rarely' nan 'very often' 'desperately']\n"
     ]
    }
   ],
   "source": [
    "print(profiles_df['drinks'].value_counts())\n",
    "print(f\"There are {profiles_df['drinks'].nunique()} distinct drinks categories:\")\n",
    "print(f\".........................................................................\")\n",
    "print(profiles_df['drinks'].unique())"
   ]
  },
  {
   "cell_type": "markdown",
   "metadata": {},
   "source": [
    "Replace nulls with **other**"
   ]
  },
  {
   "cell_type": "code",
   "execution_count": 409,
   "metadata": {},
   "outputs": [],
   "source": [
    "profiles_df['drinks'].fillna('other', inplace = True)"
   ]
  },
  {
   "cell_type": "code",
   "execution_count": 410,
   "metadata": {},
   "outputs": [
    {
     "data": {
      "image/png": "[encoded data removed]",
      "text/plain": [
       "<Figure size 1080x576 with 1 Axes>"
      ]
     },
     "metadata": {},
     "output_type": "display_data"
    }
   ],
   "source": [
    "fig, ax = plt.subplots()\n",
    "# the size of A4 paper lanscape\n",
    "fig.set_size_inches(15, 8)\n",
    "sns.set_context(\"poster\", font_scale = .6, rc={\"grid.linewidth\": 0.6})\n",
    "sns.countplot(y = profiles_df['drinks'], order=profiles_df['drinks'].value_counts(ascending=False).index, ax=ax)\n",
    "plt.setp(ax.get_xticklabels(), rotation=45)\n",
    "plt.title('Count of drinks')\n",
    "plt.savefig('drinks.png')\n",
    "plt.show()"
   ]
  },
  {
   "cell_type": "markdown",
   "metadata": {},
   "source": [
    "From the plot, we can tell that social drinkers make up most of the users on the dating platform."
   ]
  },
  {
   "cell_type": "markdown",
   "metadata": {},
   "source": [
    "**drugs**"
   ]
  },
  {
   "cell_type": "code",
   "execution_count": 411,
   "metadata": {},
   "outputs": [
    {
     "name": "stdout",
     "output_type": "stream",
     "text": [
      "never        0.809889\n",
      "sometimes    0.180978\n",
      "often        0.009133\n",
      "Name: drugs, dtype: float64\n",
      "There are 3 distinct drugs categories:\n"
     ]
    }
   ],
   "source": [
    "print(profiles_df['drugs'].value_counts(normalize  =True))\n",
    "print(f\"There are {profiles_df['drugs'].nunique()} distinct drugs categories:\")"
   ]
  },
  {
   "cell_type": "code",
   "execution_count": 412,
   "metadata": {},
   "outputs": [],
   "source": [
    "profiles_df['drugs'].fillna('other', inplace = True)"
   ]
  },
  {
   "cell_type": "code",
   "execution_count": 413,
   "metadata": {},
   "outputs": [
    {
     "data": {
      "image/png": "[encoded data removed]",
      "text/plain": [
       "<Figure size 1080x576 with 1 Axes>"
      ]
     },
     "metadata": {},
     "output_type": "display_data"
    }
   ],
   "source": [
    "fig, ax = plt.subplots()\n",
    "# the size of A4 paper lanscape\n",
    "fig.set_size_inches(15, 8)\n",
    "sns.set_context(\"poster\", font_scale = .6, rc={\"grid.linewidth\": 0.6})\n",
    "sns.countplot(y = profiles_df['drugs'], order=profiles_df['drugs'].value_counts(ascending=False).index, ax=ax)\n",
    "plt.setp(ax.get_xticklabels(), rotation=45)\n",
    "plt.title('Count of drugs')\n",
    "plt.savefig('drugs.png')\n",
    "plt.show()"
   ]
  },
  {
   "cell_type": "markdown",
   "metadata": {},
   "source": [
    "Over 60% of users claim they have never used drugs while less than 1% use often."
   ]
  },
  {
   "cell_type": "markdown",
   "metadata": {},
   "source": [
    "**education**"
   ]
  },
  {
   "cell_type": "code",
   "execution_count": 414,
   "metadata": {},
   "outputs": [
    {
     "name": "stdout",
     "output_type": "stream",
     "text": [
      "graduated from college/university    0.447205\n",
      "graduated from masters program       0.159985\n",
      "working on college/university        0.114924\n",
      "graduated from two-year college      0.032369\n",
      "working on masters program           0.031943\n",
      "graduated from high school           0.030264\n",
      "working on two-year college          0.022586\n",
      "dropped out of college/university    0.020348\n",
      "graduated from law school            0.019945\n",
      "graduated from ph.d program          0.019676\n",
      "working on ph.d program              0.014953\n",
      "college/university                   0.014035\n",
      "graduated from space camp            0.013162\n",
      "dropped out of space camp            0.010364\n",
      "working on space camp                0.009111\n",
      "graduated from med school            0.007477\n",
      "working on law school                0.004813\n",
      "two-year college                     0.004522\n",
      "dropped out of two-year college      0.004052\n",
      "working on med school                0.003761\n",
      "dropped out of masters program       0.002552\n",
      "dropped out of ph.d program          0.002037\n",
      "dropped out of high school           0.001992\n",
      "working on high school               0.001880\n",
      "high school                          0.001858\n",
      "masters program                      0.001679\n",
      "space camp                           0.001119\n",
      "ph.d program                         0.000381\n",
      "dropped out of law school            0.000358\n",
      "law school                           0.000313\n",
      "dropped out of med school            0.000201\n",
      "med school                           0.000134\n",
      "Name: education, dtype: float64\n",
      "There are 32 distinct education categories:\n"
     ]
    }
   ],
   "source": [
    "print(profiles_df['education'].value_counts(normalize  =True))\n",
    "print(f\"There are {profiles_df['education'].nunique()} distinct education categories:\")"
   ]
  },
  {
   "cell_type": "markdown",
   "metadata": {},
   "source": [
    "**education** contains 32 distinct values including graduated, working on, and dropped out. These labels are cut across various levels of education: high school, two year college, college/university, masters, ph.D, med school, law school and space camp. To make the analysis easier, the education column will be split into two, with set of values for education status and the other for education level.\n",
    "In order to split and extract desired values, the labels should be uniformly labeled to either contain graduated, working on or dropped out. Stand alone labels are transformed by adding 'graduated from' prefix to them."
   ]
  },
  {
   "cell_type": "code",
   "execution_count": 415,
   "metadata": {},
   "outputs": [],
   "source": [
    "profiles_df['education'].fillna('other', inplace = True)"
   ]
  },
  {
   "cell_type": "code",
   "execution_count": 416,
   "metadata": {},
   "outputs": [],
   "source": [
    "profiles_df['education'].replace({'college/university': 'graduated from college/university',\n",
    "                                  'high school': 'graduated from high school',\n",
    "                                  'two-year college': 'graduated from two-year college',\n",
    "                                  'masters program': 'graduated from masters program',\n",
    "                                  'space camp': 'graduated from space camp',\n",
    "                                  'ph.d program': 'graduated from ph.d program',\n",
    "                                  'law school': 'graduated from law school',\n",
    "                                  'med school': 'graduated from med school'\n",
    "                                 }, inplace = True)"
   ]
  },
  {
   "cell_type": "code",
   "execution_count": 417,
   "metadata": {},
   "outputs": [],
   "source": [
    "#print(profiles_df['education'].value_counts(normalize  =True))"
   ]
  },
  {
   "cell_type": "markdown",
   "metadata": {},
   "source": [
    "Extract values for education status and education level."
   ]
  },
  {
   "cell_type": "code",
   "execution_count": 418,
   "metadata": {},
   "outputs": [],
   "source": [
    "edu_vals = profiles_df.apply(lambda label: label['education'].split(), axis=1) "
   ]
  },
  {
   "cell_type": "code",
   "execution_count": 419,
   "metadata": {},
   "outputs": [
    {
     "data": {
      "text/plain": [
       "48890"
      ]
     },
     "execution_count": 419,
     "metadata": {},
     "output_type": "execute_result"
    }
   ],
   "source": [
    "len(edu_vals)"
   ]
  },
  {
   "cell_type": "code",
   "execution_count": 420,
   "metadata": {},
   "outputs": [],
   "source": [
    "status_vals = []\n",
    "for x in edu_vals:\n",
    "    if 'graduated' in x:\n",
    "        status_vals.append('graduated')\n",
    "    elif 'other' in x:\n",
    "        status_vals.append('other')\n",
    "    elif 'working' and 'on' in x:\n",
    "        status_vals.append('working on')\n",
    "    elif 'dropped' and 'out' in x:\n",
    "        status_vals.append('dropped out')    "
   ]
  },
  {
   "cell_type": "code",
   "execution_count": 421,
   "metadata": {},
   "outputs": [
    {
     "data": {
      "text/plain": [
       "48890"
      ]
     },
     "execution_count": 421,
     "metadata": {},
     "output_type": "execute_result"
    }
   ],
   "source": [
    "len(status_vals)"
   ]
  },
  {
   "cell_type": "code",
   "execution_count": 422,
   "metadata": {},
   "outputs": [],
   "source": [
    "level_vals = []\n",
    "for x in edu_vals:\n",
    "    if 'college/university' in x:\n",
    "        level_vals.append('college/university')\n",
    "    elif 'other' in x:\n",
    "        level_vals.append('other')\n",
    "    elif 'high' and 'school' in x:\n",
    "        level_vals.append('high school')\n",
    "    elif 'two-year' and 'college' in x:\n",
    "        level_vals.append('two-year college')\n",
    "    elif 'masters' and 'program' in x:\n",
    "        level_vals.append('masters program')\n",
    "    elif 'ph.d' and 'program' in x:\n",
    "        level_vals.append('ph.d program')\n",
    "    elif 'law' and 'school' in x:\n",
    "        level_vals.append('law school')\n",
    "    elif 'med' and 'school' in x:\n",
    "        level_vals.append('med school')\n",
    "    elif 'space' and 'camp' in x:\n",
    "        level_vals.append('space camp')"
   ]
  },
  {
   "cell_type": "code",
   "execution_count": 423,
   "metadata": {},
   "outputs": [
    {
     "data": {
      "text/plain": [
       "48890"
      ]
     },
     "execution_count": 423,
     "metadata": {},
     "output_type": "execute_result"
    }
   ],
   "source": [
    "len(level_vals)"
   ]
  },
  {
   "cell_type": "code",
   "execution_count": 424,
   "metadata": {},
   "outputs": [],
   "source": [
    "profiles_df['edu_status'] = [x for x in status_vals]\n",
    "profiles_df['edu_level'] = [x for x in level_vals]"
   ]
  },
  {
   "cell_type": "code",
   "execution_count": 425,
   "metadata": {},
   "outputs": [
    {
     "data": {
      "image/png": "[encoded data removed]",
      "text/plain": [
       "<Figure size 1080x576 with 1 Axes>"
      ]
     },
     "metadata": {},
     "output_type": "display_data"
    }
   ],
   "source": [
    "fig, ax = plt.subplots()\n",
    "# the size of A4 paper lanscape\n",
    "fig.set_size_inches(15, 8)\n",
    "sns.set_context(\"poster\", font_scale = .6, rc={\"grid.linewidth\": 0.6})\n",
    "sns.countplot(y = profiles_df['edu_status'], order=profiles_df['edu_status'].value_counts(ascending=False).index, ax=ax)\n",
    "plt.setp(ax.get_xticklabels(), rotation=45)\n",
    "plt.title('Count of Education Status')\n",
    "plt.savefig('edu_status.png')\n",
    "plt.show()"
   ]
  },
  {
   "cell_type": "code",
   "execution_count": 426,
   "metadata": {},
   "outputs": [
    {
     "data": {
      "text/plain": [
       "graduated      0.689078\n",
       "working on     0.186378\n",
       "other          0.086255\n",
       "dropped out    0.038290\n",
       "Name: edu_status, dtype: float64"
      ]
     },
     "execution_count": 426,
     "metadata": {},
     "output_type": "execute_result"
    }
   ],
   "source": [
    "profiles_df['edu_status'].value_counts(normalize = True)"
   ]
  },
  {
   "cell_type": "markdown",
   "metadata": {},
   "source": [
    "The plot indicates that more than half of users are graduates from atleast one of the levels of education."
   ]
  },
  {
   "cell_type": "code",
   "execution_count": 427,
   "metadata": {},
   "outputs": [
    {
     "data": {
      "image/png": "[encoded data removed]",
      "text/plain": [
       "<Figure size 1080x576 with 1 Axes>"
      ]
     },
     "metadata": {},
     "output_type": "display_data"
    }
   ],
   "source": [
    "fig, ax = plt.subplots()\n",
    "# the size of A4 paper lanscape\n",
    "fig.set_size_inches(15, 8)\n",
    "sns.set_context(\"poster\", font_scale = .6, rc={\"grid.linewidth\": 0.6})\n",
    "sns.countplot(y = profiles_df['edu_level'], order=profiles_df['edu_level'].value_counts(ascending=False).index, ax=ax)\n",
    "plt.setp(ax.get_xticklabels(), rotation=45)\n",
    "plt.title('Count of Education Level')\n",
    "plt.savefig('edu_level.png')\n",
    "plt.show()"
   ]
  },
  {
   "cell_type": "code",
   "execution_count": 428,
   "metadata": {},
   "outputs": [
    {
     "data": {
      "text/plain": [
       "college/university    0.545060\n",
       "masters program       0.213091\n",
       "other                 0.086255\n",
       "high school           0.066701\n",
       "two-year college      0.058049\n",
       "space camp            0.030845\n",
       "Name: edu_level, dtype: float64"
      ]
     },
     "execution_count": 428,
     "metadata": {},
     "output_type": "execute_result"
    }
   ],
   "source": [
    "profiles_df['edu_level'].value_counts(normalize = True)"
   ]
  },
  {
   "cell_type": "markdown",
   "metadata": {},
   "source": [
    "The plot indicates that more than half of users are either working on or obtained a college/university degree or dropped out at this level."
   ]
  },
  {
   "cell_type": "code",
   "execution_count": 429,
   "metadata": {},
   "outputs": [
    {
     "data": {
      "image/png": "[encoded data removed]",
      "text/plain": [
       "<Figure size 1080x576 with 1 Axes>"
      ]
     },
     "metadata": {},
     "output_type": "display_data"
    }
   ],
   "source": [
    "fig, ax = plt.subplots()\n",
    "# the size of A4 paper lanscape\n",
    "fig.set_size_inches(15, 8)\n",
    "sns.set_context(\"poster\", font_scale = .6, rc={\"grid.linewidth\": 0.6})\n",
    "sns.countplot(x='edu_level', hue='edu_status', data=profiles_df, ax=ax)\n",
    "plt.setp(ax.get_xticklabels(), rotation=45)\n",
    "plt.title('Count of Education Level vs Status')\n",
    "plt.savefig('edu_level_v_status.png')\n",
    "plt.show()\n",
    "\n",
    "# sns.countplot(x='edu_level', hue='edu_status', data=profiles_df)\n",
    "# plt.show()"
   ]
  },
  {
   "cell_type": "markdown",
   "metadata": {},
   "source": [
    "**ethnicity**"
   ]
  },
  {
   "cell_type": "code",
   "execution_count": 430,
   "metadata": {},
   "outputs": [
    {
     "name": "stdout",
     "output_type": "stream",
     "text": [
      "There are 209 categories of ethnicity.\n"
     ]
    }
   ],
   "source": [
    "profiles_df['ethnicity'].unique()\n",
    "print(f\"There are {profiles_df['ethnicity'].nunique()} categories of ethnicity.\")"
   ]
  },
  {
   "cell_type": "markdown",
   "metadata": {},
   "source": [
    "The ethnicities can be categorized based on the distict labels in the ethinicity column:\n",
    "- white\n",
    "- black\n",
    "- asian\n",
    "- native american\n",
    "- hispanic/latin\n",
    "- pacific islander\n",
    "- indian\n",
    "- middle eastern\n",
    "- other \n",
    "- mixed (if identifies with more than one ethnicity)"
   ]
  },
  {
   "cell_type": "code",
   "execution_count": 431,
   "metadata": {},
   "outputs": [],
   "source": [
    "# fill null values with other\n",
    "profiles_df['ethnicity'].fillna('other', inplace = True)"
   ]
  },
  {
   "cell_type": "code",
   "execution_count": 432,
   "metadata": {},
   "outputs": [
    {
     "name": "stdout",
     "output_type": "stream",
     "text": [
      "48890\n"
     ]
    }
   ],
   "source": [
    "ethnic_vals = profiles_df.apply(lambda label: label['ethnicity'].split(','), axis=1) \n",
    "print(len(ethnic_vals))"
   ]
  },
  {
   "cell_type": "code",
   "execution_count": 433,
   "metadata": {},
   "outputs": [],
   "source": [
    "#create empty list to hold extracted ethnicities\n",
    "ethnic_vals_unique = []\n",
    "for x in ethnic_vals:\n",
    "    if len(x) == 1 and 'white' in x:\n",
    "        ethnic_vals_unique.append('white')\n",
    "    elif len(x) == 1 and 'black' in x:\n",
    "        ethnic_vals_unique.append('black')\n",
    "    elif len(x) == 1 and 'asian' in x:\n",
    "        ethnic_vals_unique.append('asian')\n",
    "    elif len(x) == 1 and 'native american' in x:\n",
    "        ethnic_vals_unique.append('native american')\n",
    "    elif len(x) == 1 and 'hispanic/latin' in x:\n",
    "        ethnic_vals_unique.append('hispanic/latin')\n",
    "    elif len(x) == 1 and 'pacific islander' in x:\n",
    "        ethnic_vals_unique.append('pacific islander')\n",
    "    elif len(x) == 1 and 'indian' in x:\n",
    "        ethnic_vals_unique.append('indian')\n",
    "    elif len(x) == 1 and 'middle eastern' in x:\n",
    "        ethnic_vals_unique.append('middle eastern')\n",
    "    elif len(x) == 1 and 'other' in x:\n",
    "        ethnic_vals_unique.append('other')\n",
    "    elif len(x) >= 1:\n",
    "        ethnic_vals_unique.append('mixed')"
   ]
  },
  {
   "cell_type": "code",
   "execution_count": 434,
   "metadata": {},
   "outputs": [],
   "source": [
    "# len(ethnic_vals_unique)\n",
    "# ethnic_vals_unique"
   ]
  },
  {
   "cell_type": "markdown",
   "metadata": {},
   "source": [
    "create a new column to hold disticnt ethnic categories."
   ]
  },
  {
   "cell_type": "code",
   "execution_count": 435,
   "metadata": {},
   "outputs": [],
   "source": [
    "profiles_df['ethnic_id'] = [x for x in ethnic_vals_unique]"
   ]
  },
  {
   "cell_type": "code",
   "execution_count": 436,
   "metadata": {},
   "outputs": [
    {
     "data": {
      "text/plain": [
       "white               0.550174\n",
       "mixed               0.174187\n",
       "other               0.109695\n",
       "asian               0.097648\n",
       "black               0.036858\n",
       "indian              0.017079\n",
       "pacific islander    0.007670\n",
       "middle eastern      0.005645\n",
       "native american     0.001043\n",
       "Name: ethnic_id, dtype: float64"
      ]
     },
     "execution_count": 436,
     "metadata": {},
     "output_type": "execute_result"
    }
   ],
   "source": [
    "profiles_df['ethnic_id'].value_counts(normalize = True)"
   ]
  },
  {
   "cell_type": "code",
   "execution_count": 437,
   "metadata": {},
   "outputs": [
    {
     "data": {
      "image/png": "[encoded data removed]",
      "text/plain": [
       "<Figure size 1080x576 with 1 Axes>"
      ]
     },
     "metadata": {},
     "output_type": "display_data"
    }
   ],
   "source": [
    "fig, ax = plt.subplots()\n",
    "# the size of A4 paper lanscape\n",
    "fig.set_size_inches(15, 8)\n",
    "sns.set_context(\"poster\", font_scale = .6, rc={\"grid.linewidth\": 0.6})\n",
    "sns.countplot(y = profiles_df['ethnic_id'], order=profiles_df['ethnic_id'].value_counts(ascending=False).index, ax=ax)\n",
    "plt.setp(ax.get_xticklabels(), rotation=45)\n",
    "plt.title('Count of Ethnic ID')\n",
    "plt.savefig('ethnic_id.png')\n",
    "plt.show()"
   ]
  },
  {
   "cell_type": "code",
   "execution_count": 438,
   "metadata": {},
   "outputs": [
    {
     "data": {
      "image/png": "[encoded data removed]",
      "text/plain": [
       "<Figure size 1080x576 with 1 Axes>"
      ]
     },
     "metadata": {},
     "output_type": "display_data"
    }
   ],
   "source": [
    "fig, ax = plt.subplots()\n",
    "# the size of A4 paper lanscape\n",
    "fig.set_size_inches(15, 8)\n",
    "sns.set_context(\"poster\", font_scale = .6, rc={\"grid.linewidth\": 0.6})\n",
    "sns.countplot(x = 'ethnic_id', hue = 'sex', data = profiles_df)\n",
    "plt.setp(ax.get_xticklabels(), rotation=45)\n",
    "plt.title('Ethnicity vs Sex')\n",
    "plt.savefig('ethnic_sex.png')\n",
    "plt.show()\n",
    "\n",
    "# sns.countplot(x='edu_level', hue='edu_status', data=profiles_df)\n",
    "# plt.show()"
   ]
  },
  {
   "cell_type": "markdown",
   "metadata": {},
   "source": [
    "More than 50% of users identify as white with males being the largest sex in all ethnic groups. The least ethnic group are pacific islander, native american and middle eastern. They make up about 1% of users."
   ]
  },
  {
   "cell_type": "code",
   "execution_count": 439,
   "metadata": {},
   "outputs": [
    {
     "name": "stdout",
     "output_type": "stream",
     "text": [
      "<class 'pandas.core.frame.DataFrame'>\n",
      "RangeIndex: 48890 entries, 0 to 48889\n",
      "Data columns (total 36 columns):\n",
      " #   Column       Non-Null Count  Dtype  \n",
      "---  ------       --------------  -----  \n",
      " 0   age          48890 non-null  int64  \n",
      " 1   body_type    48890 non-null  object \n",
      " 2   diet         48890 non-null  object \n",
      " 3   drinks       48890 non-null  object \n",
      " 4   drugs        48890 non-null  object \n",
      " 5   education    48890 non-null  object \n",
      " 6   essay0       48890 non-null  object \n",
      " 7   essay1       48890 non-null  object \n",
      " 8   essay2       48890 non-null  object \n",
      " 9   essay3       48890 non-null  object \n",
      " 10  essay4       48890 non-null  object \n",
      " 11  essay5       48890 non-null  object \n",
      " 12  essay6       48890 non-null  object \n",
      " 13  essay7       48890 non-null  object \n",
      " 14  essay8       48890 non-null  object \n",
      " 15  essay9       48890 non-null  object \n",
      " 16  ethnicity    48890 non-null  object \n",
      " 17  height       48889 non-null  float64\n",
      " 18  income       48890 non-null  int64  \n",
      " 19  job          43929 non-null  object \n",
      " 20  last_online  48890 non-null  object \n",
      " 21  location     48890 non-null  object \n",
      " 22  offspring    21038 non-null  object \n",
      " 23  orientation  48890 non-null  object \n",
      " 24  pets         35172 non-null  object \n",
      " 25  religion     34760 non-null  object \n",
      " 26  sex          48890 non-null  object \n",
      " 27  sign         48890 non-null  object \n",
      " 28  smokes       45286 non-null  object \n",
      " 29  speaks       48860 non-null  object \n",
      " 30  status       48890 non-null  object \n",
      " 31  labels       48890 non-null  object \n",
      " 32  essay        48890 non-null  object \n",
      " 33  edu_status   48890 non-null  object \n",
      " 34  edu_level    48890 non-null  object \n",
      " 35  ethnic_id    48890 non-null  object \n",
      "dtypes: float64(1), int64(2), object(33)\n",
      "memory usage: 13.4+ MB\n"
     ]
    }
   ],
   "source": [
    "profiles_df.info()"
   ]
  },
  {
   "cell_type": "markdown",
   "metadata": {},
   "source": [
    "**height**"
   ]
  },
  {
   "cell_type": "code",
   "execution_count": 440,
   "metadata": {},
   "outputs": [
    {
     "data": {
      "text/plain": [
       "array([75., 70., 68., 71., 66., 67., 65., 72., 62., 64., 69., 73., 60.,\n",
       "       63., 76., 61., 74., 78., 79., 80., 83., 59., 77., 58., 56., 95.,\n",
       "       57., 87., 81., 43., 52., 55., 53., 93.,  8., 82., 36.,  3., 86.,\n",
       "       84., 94., 50., 47., 49., 48., 54., 90., 88., 37.,  9., 51., 91.,\n",
       "        1., 92., 26., 85., nan, 89.,  4.])"
      ]
     },
     "execution_count": 440,
     "metadata": {},
     "output_type": "execute_result"
    }
   ],
   "source": [
    "profiles_df['height'].unique()"
   ]
  },
  {
   "cell_type": "markdown",
   "metadata": {},
   "source": [
    "Fill the one null value with the mean of the height."
   ]
  },
  {
   "cell_type": "code",
   "execution_count": 441,
   "metadata": {},
   "outputs": [],
   "source": [
    "import numpy as np\n",
    "profiles_df['height'].fillna(value = profiles_df['height'].mean(), inplace = True)"
   ]
  },
  {
   "cell_type": "code",
   "execution_count": 442,
   "metadata": {},
   "outputs": [],
   "source": [
    "# profiles_df['height'].unique()"
   ]
  },
  {
   "cell_type": "code",
   "execution_count": 443,
   "metadata": {},
   "outputs": [
    {
     "data": {
      "image/png": "[encoded data removed]",
      "text/plain": [
       "<Figure size 1080x576 with 1 Axes>"
      ]
     },
     "metadata": {},
     "output_type": "display_data"
    }
   ],
   "source": [
    "fig, ax = plt.subplots()\n",
    "# the size of A4 paper lanscape\n",
    "fig.set_size_inches(15, 8)\n",
    "sns.set_context(\"poster\", font_scale = .6, rc={\"grid.linewidth\": 0.6})\n",
    "sns.histplot(profiles_df['height'], bins=50, kde=True, ax=ax)\n",
    "plt.setp(ax.get_xticklabels(), rotation=45)\n",
    "plt.title('Distribution of Height')\n",
    "plt.savefig('height.png')\n",
    "plt.show()"
   ]
  },
  {
   "cell_type": "code",
   "execution_count": 444,
   "metadata": {},
   "outputs": [
    {
     "data": {
      "image/png": "[encoded data removed]",
      "text/plain": [
       "<Figure size 1080x576 with 1 Axes>"
      ]
     },
     "metadata": {},
     "output_type": "display_data"
    }
   ],
   "source": [
    "fig, ax = plt.subplots()\n",
    "fig.set_size_inches(15, 8)\n",
    "sns.kdeplot(profiles_df[profiles_df['sex']=='m'][\"height\"], shade=True, color=\"blue\", label=\"male\", ax=ax)\n",
    "sns.kdeplot(profiles_df[profiles_df['sex']=='f'][\"height\"], shade=True, color=\"orange\", label=\"female\", ax=ax)\n",
    "\n",
    "ax.set_xlabel(\"Height\")\n",
    "ax.set_ylabel(\"Density\")\n",
    "\n",
    "fig.suptitle(\"Height vs. Sex\")\n",
    "plt.savefig('heightvSex.png')\n",
    "plt.show();"
   ]
  },
  {
   "cell_type": "markdown",
   "metadata": {},
   "source": [
    "**income**\n",
    "\n",
    "Income column contains zero nulls.\n",
    "\n",
    "A plot of the distribution of income is seen in the following:"
   ]
  },
  {
   "cell_type": "code",
   "execution_count": null,
   "metadata": {},
   "outputs": [],
   "source": []
  },
  {
   "cell_type": "code",
   "execution_count": 445,
   "metadata": {},
   "outputs": [],
   "source": [
    "# profiles_df['income'].unique()"
   ]
  },
  {
   "cell_type": "markdown",
   "metadata": {},
   "source": [
    "Replace -1 values with 0."
   ]
  },
  {
   "cell_type": "code",
   "execution_count": 446,
   "metadata": {},
   "outputs": [],
   "source": [
    "profiles_df['income'].replace({-1: 0}, inplace=True)"
   ]
  },
  {
   "cell_type": "code",
   "execution_count": 447,
   "metadata": {},
   "outputs": [
    {
     "data": {
      "text/plain": [
       "array([      0,   80000,   20000,   40000,   50000,   60000,  150000,\n",
       "       1000000,  100000,  500000,   70000,  250000,   30000], dtype=int64)"
      ]
     },
     "execution_count": 447,
     "metadata": {},
     "output_type": "execute_result"
    }
   ],
   "source": [
    "profiles_df['income'].unique()"
   ]
  },
  {
   "cell_type": "code",
   "execution_count": 448,
   "metadata": {},
   "outputs": [
    {
     "data": {
      "image/png": "[encoded data removed]",
      "text/plain": [
       "<Figure size 1080x576 with 1 Axes>"
      ]
     },
     "metadata": {},
     "output_type": "display_data"
    }
   ],
   "source": [
    "fig, ax = plt.subplots()\n",
    "# the size of A4 paper lanscape\n",
    "fig.set_size_inches(15, 8)\n",
    "sns.set_context(\"poster\", font_scale = .6, rc={\"grid.linewidth\": 0.6})\n",
    "sns.histplot(profiles_df['income'], bins=50, kde=False, ax=ax)\n",
    "plt.setp(ax.get_xticklabels(), rotation=45)\n",
    "plt.title('Distribution of Income')\n",
    "plt.savefig('income.png')\n",
    "plt.show()"
   ]
  },
  {
   "cell_type": "code",
   "execution_count": 449,
   "metadata": {},
   "outputs": [
    {
     "data": {
      "text/plain": [
       "0          38754\n",
       "20000       2740\n",
       "100000      1332\n",
       "30000        963\n",
       "80000        946\n",
       "40000        918\n",
       "50000        886\n",
       "60000        667\n",
       "70000        614\n",
       "150000       490\n",
       "1000000      438\n",
       "250000       105\n",
       "500000        37\n",
       "Name: income, dtype: int64"
      ]
     },
     "execution_count": 449,
     "metadata": {},
     "output_type": "execute_result"
    }
   ],
   "source": [
    "profiles_df['income'].value_counts()"
   ]
  },
  {
   "cell_type": "code",
   "execution_count": 450,
   "metadata": {},
   "outputs": [
    {
     "data": {
      "image/png": "[encoded data removed]",
      "text/plain": [
       "<Figure size 1080x576 with 1 Axes>"
      ]
     },
     "metadata": {},
     "output_type": "display_data"
    }
   ],
   "source": [
    "fig, ax = plt.subplots()\n",
    "fig.set_size_inches(15, 8)\n",
    "sns.kdeplot(profiles_df[profiles_df['sex']=='m'][\"income\"], shade=True, color=\"blue\", label=\"male\", ax=ax)\n",
    "sns.kdeplot(profiles_df[profiles_df['sex']=='f'][\"income\"], shade=True, color=\"orange\", label=\"female\", ax=ax)\n",
    "\n",
    "ax.set_xlabel(\"Income\")\n",
    "ax.set_ylabel(\"Density\")\n",
    "\n",
    "fig.suptitle(\"Income vs. Sex\")\n",
    "plt.savefig('incomeVsex.png')\n",
    "plt.show();"
   ]
  },
  {
   "cell_type": "code",
   "execution_count": 451,
   "metadata": {},
   "outputs": [
    {
     "data": {
      "image/png": "[encoded data removed]",
      "text/plain": [
       "<Figure size 1080x576 with 1 Axes>"
      ]
     },
     "metadata": {},
     "output_type": "display_data"
    }
   ],
   "source": [
    "fig, ax = plt.subplots()\n",
    "fig.set_size_inches(15, 8)\n",
    "sns.kdeplot(profiles_df[profiles_df['edu_status']=='graduated'][\"income\"], shade=True, color=\"blue\", label=\"graduated\", ax=ax)\n",
    "sns.kdeplot(profiles_df[profiles_df['edu_status']=='working on'][\"income\"], shade=True, color=\"orange\", label=\"working on\", ax=ax)\n",
    "sns.kdeplot(profiles_df[profiles_df['edu_status']=='dropped out'][\"income\"], shade=True, color=\"red\", label=\"dropped out\", ax=ax)\n",
    "sns.kdeplot(profiles_df[profiles_df['edu_status']=='other'][\"income\"], shade=True, color=\"green\", label=\"other\", ax=ax)\n",
    "\n",
    "ax.set_xlabel(\"Income\")\n",
    "ax.set_ylabel(\"Density\")\n",
    "\n",
    "fig.suptitle(\"Income vs. Education Status\")\n",
    "plt.savefig('incomeVedu_status.png')\n",
    "plt.show();"
   ]
  },
  {
   "cell_type": "markdown",
   "metadata": {},
   "source": [
    "**job**"
   ]
  },
  {
   "cell_type": "code",
   "execution_count": 452,
   "metadata": {},
   "outputs": [
    {
     "data": {
      "text/plain": [
       "21"
      ]
     },
     "execution_count": 452,
     "metadata": {},
     "output_type": "execute_result"
    }
   ],
   "source": [
    "profiles_df['job'].nunique()"
   ]
  },
  {
   "cell_type": "markdown",
   "metadata": {},
   "source": [
    "Fill null values with other"
   ]
  },
  {
   "cell_type": "code",
   "execution_count": 453,
   "metadata": {},
   "outputs": [],
   "source": [
    "profiles_df['job'].fillna('other', inplace=True)"
   ]
  },
  {
   "cell_type": "code",
   "execution_count": 454,
   "metadata": {},
   "outputs": [
    {
     "name": "stdout",
     "output_type": "stream",
     "text": [
      "There are 21 job categories in the dataset.\n",
      "['transportation' 'hospitality / travel' 'other' 'student'\n",
      " 'artistic / musical / writer' 'computer / hardware / software'\n",
      " 'banking / financial / real estate' 'entertainment / media'\n",
      " 'medicine / health' 'science / tech / engineering'\n",
      " 'sales / marketing / biz dev' 'executive / management'\n",
      " 'education / academia' 'clerical / administrative'\n",
      " 'construction / craftsmanship' 'rather not say' 'political / government'\n",
      " 'law / legal services' 'unemployed' 'retired' 'military']\n"
     ]
    }
   ],
   "source": [
    "print(f\"There are {profiles_df['job'].nunique()} job categories in the dataset.\")\n",
    "print(profiles_df['job'].unique())"
   ]
  },
  {
   "cell_type": "code",
   "execution_count": 455,
   "metadata": {},
   "outputs": [
    {
     "data": {
      "text/plain": [
       "other                                0.238801\n",
       "student                              0.086541\n",
       "artistic / musical / writer          0.080323\n",
       "sales / marketing / biz dev          0.077439\n",
       "computer / hardware / software       0.077255\n",
       "science / tech / engineering         0.074964\n",
       "medicine / health                    0.063674\n",
       "education / academia                 0.061219\n",
       "executive / management               0.040172\n",
       "entertainment / media                0.040008\n",
       "banking / financial / real estate    0.036920\n",
       "hospitality / travel                 0.025649\n",
       "law / legal services                 0.023011\n",
       "construction / craftsmanship         0.018920\n",
       "clerical / administrative            0.015156\n",
       "political / government               0.012334\n",
       "rather not say                       0.007813\n",
       "transportation                       0.006750\n",
       "unemployed                           0.005195\n",
       "retired                              0.004173\n",
       "military                             0.003682\n",
       "Name: job, dtype: float64"
      ]
     },
     "execution_count": 455,
     "metadata": {},
     "output_type": "execute_result"
    }
   ],
   "source": [
    "profiles_df['job'].value_counts(normalize=True)"
   ]
  },
  {
   "cell_type": "code",
   "execution_count": 456,
   "metadata": {},
   "outputs": [
    {
     "data": {
      "image/png": "[encoded data removed]",
      "text/plain": [
       "<Figure size 1080x576 with 1 Axes>"
      ]
     },
     "metadata": {},
     "output_type": "display_data"
    }
   ],
   "source": [
    "fig, ax = plt.subplots()\n",
    "# the size of A4 paper lanscape\n",
    "fig.set_size_inches(15, 8)\n",
    "sns.set_context(\"poster\", font_scale = .6, rc={\"grid.linewidth\": 0.6})\n",
    "sns.countplot(y = profiles_df['job'], order=profiles_df['job'].value_counts(ascending=False).index, ax=ax)\n",
    "plt.setp(ax.get_xticklabels(), rotation=45)\n",
    "plt.title('Count of Job')\n",
    "plt.savefig('job.png')\n",
    "plt.show()"
   ]
  },
  {
   "cell_type": "markdown",
   "metadata": {},
   "source": [
    "Students and professionals in STEM careers are the majority (about 50%) while government workers, transportation, unemployed, retired and military personnel are the least represented (about 1%)."
   ]
  },
  {
   "cell_type": "markdown",
   "metadata": {},
   "source": [
    "**last online**"
   ]
  },
  {
   "cell_type": "code",
   "execution_count": 586,
   "metadata": {},
   "outputs": [],
   "source": [
    "import datetime as dt"
   ]
  },
  {
   "cell_type": "code",
   "execution_count": 659,
   "metadata": {},
   "outputs": [
    {
     "data": {
      "text/plain": [
       "0        2012-06-28-20-30\n",
       "1        2012-06-29-21-41\n",
       "2        2012-06-27-09-10\n",
       "3        2012-06-28-14-22\n",
       "4        2012-06-27-21-26\n",
       "               ...       \n",
       "48885    2012-06-12-21-47\n",
       "48886    2012-06-29-11-01\n",
       "48887    2012-06-27-23-37\n",
       "48888    2012-06-23-13-01\n",
       "48889    2012-06-29-00-42\n",
       "Name: last_online, Length: 48890, dtype: object"
      ]
     },
     "execution_count": 659,
     "metadata": {},
     "output_type": "execute_result"
    }
   ],
   "source": [
    "profiles_df['last_online']"
   ]
  },
  {
   "cell_type": "markdown",
   "metadata": {},
   "source": [
    "**last_online** is a timestamp of the last time user was online using the app. The column will be converted to a datetime column"
   ]
  },
  {
   "cell_type": "code",
   "execution_count": 660,
   "metadata": {},
   "outputs": [],
   "source": [
    "profiles_df['date'] = profiles_df['last_online'].str[:9].str.strip()"
   ]
  },
  {
   "cell_type": "markdown",
   "metadata": {},
   "source": [
    "Replace \"-\" with \":\" to indicate time value."
   ]
  },
  {
   "cell_type": "code",
   "execution_count": 661,
   "metadata": {},
   "outputs": [
    {
     "data": {
      "text/plain": [
       "0        20:30\n",
       "1        21:41\n",
       "2        09:10\n",
       "3        14:22\n",
       "4        21:26\n",
       "         ...  \n",
       "48885    21:47\n",
       "48886    11:01\n",
       "48887    23:37\n",
       "48888    13:01\n",
       "48889    00:42\n",
       "Name: time, Length: 48890, dtype: object"
      ]
     },
     "execution_count": 661,
     "metadata": {},
     "output_type": "execute_result"
    }
   ],
   "source": [
    "profiles_df['time'] = profiles_df['last_online'].str[-5:].str.replace('-',':')\n",
    "profiles_df['time']"
   ]
  },
  {
   "cell_type": "code",
   "execution_count": 662,
   "metadata": {},
   "outputs": [],
   "source": [
    "profiles_df['new_last_online'] = profiles_df['date'] + ' ' + profiles_df['time']"
   ]
  },
  {
   "cell_type": "code",
   "execution_count": 663,
   "metadata": {},
   "outputs": [],
   "source": [
    "profiles_df['new_last_online'] = pd.to_datetime(profiles_df['new_last_online'], format = '%Y-%m-%d %H:%M', errors = 'coerce')"
   ]
  },
  {
   "cell_type": "markdown",
   "metadata": {},
   "source": [
    "Convert date and time to date and time format respectively. "
   ]
  },
  {
   "cell_type": "code",
   "execution_count": 664,
   "metadata": {},
   "outputs": [],
   "source": [
    "# profiles_df['date'] = profiles_df['new_last_online'].dt.date\n",
    "# profiles_df['time'] = profiles_df['new_last_online'].dt.time"
   ]
  },
  {
   "cell_type": "code",
   "execution_count": 665,
   "metadata": {},
   "outputs": [
    {
     "name": "stdout",
     "output_type": "stream",
     "text": [
      "<class 'pandas.core.frame.DataFrame'>\n",
      "RangeIndex: 48890 entries, 0 to 48889\n",
      "Data columns (total 40 columns):\n",
      " #   Column           Non-Null Count  Dtype         \n",
      "---  ------           --------------  -----         \n",
      " 0   age              48890 non-null  int64         \n",
      " 1   body_type        48890 non-null  object        \n",
      " 2   diet             48890 non-null  object        \n",
      " 3   drinks           48890 non-null  object        \n",
      " 4   drugs            48890 non-null  object        \n",
      " 5   education        48890 non-null  object        \n",
      " 6   essay0           48890 non-null  object        \n",
      " 7   essay1           48890 non-null  object        \n",
      " 8   essay2           48890 non-null  object        \n",
      " 9   essay3           48890 non-null  object        \n",
      " 10  essay4           48890 non-null  object        \n",
      " 11  essay5           48890 non-null  object        \n",
      " 12  essay6           48890 non-null  object        \n",
      " 13  essay7           48890 non-null  object        \n",
      " 14  essay8           48890 non-null  object        \n",
      " 15  essay9           48890 non-null  object        \n",
      " 16  ethnicity        48890 non-null  object        \n",
      " 17  height           48890 non-null  float64       \n",
      " 18  income           48890 non-null  int64         \n",
      " 19  job              48890 non-null  object        \n",
      " 20  last_online      48890 non-null  object        \n",
      " 21  location         48890 non-null  object        \n",
      " 22  offspring        21038 non-null  object        \n",
      " 23  orientation      48890 non-null  object        \n",
      " 24  pets             35172 non-null  object        \n",
      " 25  religion         34760 non-null  object        \n",
      " 26  sex              48890 non-null  object        \n",
      " 27  sign             48890 non-null  object        \n",
      " 28  smokes           45286 non-null  object        \n",
      " 29  speaks           48860 non-null  object        \n",
      " 30  status           48890 non-null  object        \n",
      " 31  labels           48890 non-null  object        \n",
      " 32  essay            48890 non-null  object        \n",
      " 33  edu_status       48890 non-null  object        \n",
      " 34  edu_level        48890 non-null  object        \n",
      " 35  ethnic_id        48890 non-null  object        \n",
      " 36  time_online      48890 non-null  object        \n",
      " 37  date             42510 non-null  object        \n",
      " 38  time             42510 non-null  object        \n",
      " 39  new_last_online  42510 non-null  datetime64[ns]\n",
      "dtypes: datetime64[ns](1), float64(1), int64(2), object(36)\n",
      "memory usage: 14.9+ MB\n"
     ]
    }
   ],
   "source": [
    "profiles_df.info()"
   ]
  },
  {
   "cell_type": "code",
   "execution_count": 670,
   "metadata": {},
   "outputs": [],
   "source": [
    "# profiles_df[profiles_df['new_last_online'].isna()]"
   ]
  },
  {
   "cell_type": "markdown",
   "metadata": {},
   "source": [
    "**location**"
   ]
  },
  {
   "cell_type": "markdown",
   "metadata": {},
   "source": [
    "Inspect location data"
   ]
  },
  {
   "cell_type": "code",
   "execution_count": 677,
   "metadata": {},
   "outputs": [],
   "source": [
    "# profiles_df['location'].unique()"
   ]
  },
  {
   "cell_type": "markdown",
   "metadata": {},
   "source": [
    "Location contains city and state information. The city and state will be spli into separate columns. "
   ]
  },
  {
   "cell_type": "code",
   "execution_count": 683,
   "metadata": {},
   "outputs": [],
   "source": [
    "city_state =  profiles_df.apply(lambda label: label['location'].split(','), axis = 1)\n",
    "profiles_df['city'] = [x[0] for x in city_state]\n",
    "profiles_df['state_or_country'] = [x[1] for x in city_state]"
   ]
  },
  {
   "cell_type": "code",
   "execution_count": 686,
   "metadata": {},
   "outputs": [],
   "source": [
    "# profiles_df['city'].value_counts()"
   ]
  },
  {
   "cell_type": "code",
   "execution_count": 687,
   "metadata": {},
   "outputs": [],
   "source": [
    "# profiles_df['state_or_country'].value_counts()"
   ]
  },
  {
   "cell_type": "markdown",
   "metadata": {},
   "source": [
    "**offspring**"
   ]
  },
  {
   "cell_type": "code",
   "execution_count": 689,
   "metadata": {},
   "outputs": [
    {
     "data": {
      "text/plain": [
       "27852"
      ]
     },
     "execution_count": 689,
     "metadata": {},
     "output_type": "execute_result"
    }
   ],
   "source": [
    "profiles_df['offspring'].isna().sum()"
   ]
  },
  {
   "cell_type": "markdown",
   "metadata": {},
   "source": [
    "This column will be left out of any future analysis. It contains more than 50% of null values."
   ]
  },
  {
   "cell_type": "markdown",
   "metadata": {},
   "source": [
    "**orientation**"
   ]
  },
  {
   "cell_type": "code",
   "execution_count": 694,
   "metadata": {},
   "outputs": [
    {
     "data": {
      "text/plain": [
       "straight    0.849867\n",
       "gay         0.101718\n",
       "bisexual    0.048415\n",
       "Name: orientation, dtype: float64"
      ]
     },
     "execution_count": 694,
     "metadata": {},
     "output_type": "execute_result"
    }
   ],
   "source": [
    "profiles_df['orientation'].value_counts(normalize = True)"
   ]
  },
  {
   "cell_type": "markdown",
   "metadata": {},
   "source": [
    "Orientation column is complete. It contains three disticnt labels: straight, gay and bisexual. Users who identify as straight make up about 85% while gay and bisexual occupy the remaining 15%."
   ]
  },
  {
   "cell_type": "markdown",
   "metadata": {},
   "source": [
    "**pets**"
   ]
  },
  {
   "cell_type": "code",
   "execution_count": 696,
   "metadata": {},
   "outputs": [
    {
     "data": {
      "text/plain": [
       "13718"
      ]
     },
     "execution_count": 696,
     "metadata": {},
     "output_type": "execute_result"
    }
   ],
   "source": [
    "profiles_df['pets'].isna().sum()"
   ]
  },
  {
   "cell_type": "markdown",
   "metadata": {},
   "source": [
    "Pets data contain over 13700 missing values. The missing values will be filled with other."
   ]
  },
  {
   "cell_type": "code",
   "execution_count": 697,
   "metadata": {},
   "outputs": [],
   "source": [
    "profiles_df['pets'].fillna('other', inplace = True)"
   ]
  },
  {
   "cell_type": "code",
   "execution_count": 699,
   "metadata": {},
   "outputs": [
    {
     "data": {
      "text/plain": [
       "other                              13718\n",
       "likes dogs and likes cats          13156\n",
       "likes dogs                          6039\n",
       "likes dogs and has cats             3925\n",
       "has dogs                            3563\n",
       "has dogs and likes cats             2128\n",
       "likes dogs and dislikes cats        1819\n",
       "has dogs and has cats               1357\n",
       "has cats                            1194\n",
       "likes cats                           885\n",
       "has dogs and dislikes cats           508\n",
       "dislikes dogs and likes cats         220\n",
       "dislikes dogs and dislikes cats      171\n",
       "dislikes cats                        100\n",
       "dislikes dogs and has cats            73\n",
       "dislikes dogs                         34\n",
       "Name: pets, dtype: int64"
      ]
     },
     "execution_count": 699,
     "metadata": {},
     "output_type": "execute_result"
    }
   ],
   "source": [
    "profiles_df['pets'].value_counts()"
   ]
  },
  {
   "cell_type": "markdown",
   "metadata": {},
   "source": [
    "The labels will be transformed into **likes** and **dislikes** wherein likes will represent users that like and/or own a dog and/or a cat while dislikes will be for dislike of one or both animals."
   ]
  },
  {
   "cell_type": "code",
   "execution_count": 701,
   "metadata": {},
   "outputs": [],
   "source": [
    "pets_labels = []\n",
    "for x in profiles_df['pets']:\n",
    "    if \"other\" in x:\n",
    "        pets_labels.append(\"other\")\n",
    "    elif \"dislikes\" in x:\n",
    "        pets_labels.append(\"dislikes\")\n",
    "    else:\n",
    "        pets_labels.append(\"likes\")"
   ]
  },
  {
   "cell_type": "code",
   "execution_count": 704,
   "metadata": {},
   "outputs": [],
   "source": [
    "profiles_df['pet_lover'] = [x for x in pets_labels]"
   ]
  },
  {
   "cell_type": "code",
   "execution_count": 705,
   "metadata": {},
   "outputs": [
    {
     "data": {
      "text/plain": [
       "likes       0.659583\n",
       "other       0.280589\n",
       "dislikes    0.059828\n",
       "Name: pet_lover, dtype: float64"
      ]
     },
     "execution_count": 705,
     "metadata": {},
     "output_type": "execute_result"
    }
   ],
   "source": [
    "profiles_df['pet_lover'].value_counts(normalize = True)"
   ]
  },
  {
   "cell_type": "markdown",
   "metadata": {},
   "source": [
    "About 66% of users like and/or own either or both of the two pets while 6% dislike owning one or both pets. The remaining 28% might like another kind of pet other than a cat or dog."
   ]
  },
  {
   "cell_type": "markdown",
   "metadata": {},
   "source": [
    "**religion**"
   ]
  },
  {
   "cell_type": "code",
   "execution_count": 706,
   "metadata": {},
   "outputs": [
    {
     "data": {
      "text/plain": [
       "array(['agnosticism and very serious about it',\n",
       "       'agnosticism but not too serious about it', nan, 'atheism',\n",
       "       'christianity', 'christianity but not too serious about it',\n",
       "       'atheism and laughing about it',\n",
       "       'christianity and very serious about it', 'other', 'catholicism',\n",
       "       'catholicism but not too serious about it',\n",
       "       'catholicism and somewhat serious about it',\n",
       "       'agnosticism and somewhat serious about it',\n",
       "       'catholicism and laughing about it',\n",
       "       'agnosticism and laughing about it', 'agnosticism',\n",
       "       'atheism and somewhat serious about it',\n",
       "       'buddhism but not too serious about it',\n",
       "       'other but not too serious about it',\n",
       "       'other and laughing about it', 'buddhism and laughing about it',\n",
       "       'other and somewhat serious about it',\n",
       "       'other and very serious about it',\n",
       "       'hinduism but not too serious about it',\n",
       "       'atheism but not too serious about it', 'judaism',\n",
       "       'christianity and somewhat serious about it', 'buddhism',\n",
       "       'judaism but not too serious about it',\n",
       "       'hinduism and very serious about it',\n",
       "       'judaism and laughing about it',\n",
       "       'christianity and laughing about it',\n",
       "       'hinduism and laughing about it',\n",
       "       'buddhism and somewhat serious about it',\n",
       "       'atheism and very serious about it',\n",
       "       'islam and very serious about it', 'hinduism',\n",
       "       'judaism and somewhat serious about it',\n",
       "       'catholicism and very serious about it',\n",
       "       'judaism and very serious about it', 'islam',\n",
       "       'hinduism and somewhat serious about it',\n",
       "       'islam but not too serious about it',\n",
       "       'buddhism and very serious about it',\n",
       "       'islam and laughing about it',\n",
       "       'islam and somewhat serious about it'], dtype=object)"
      ]
     },
     "execution_count": 706,
     "metadata": {},
     "output_type": "execute_result"
    }
   ],
   "source": [
    "profiles_df['religion'].unique()"
   ]
  },
  {
   "cell_type": "markdown",
   "metadata": {},
   "source": [
    "After inspecting religion, it is observed that users identify into one of 8 distinct categories: agnosticism, christianity, atheism, budhism, hinduism, judaism, islam and other. The null values will be filled with **other** and a new column with these distinct values will be created."
   ]
  },
  {
   "cell_type": "code",
   "execution_count": 707,
   "metadata": {},
   "outputs": [],
   "source": [
    "profiles_df['religion'].fillna('other', inplace = True)"
   ]
  },
  {
   "cell_type": "code",
   "execution_count": 708,
   "metadata": {},
   "outputs": [],
   "source": [
    "religion_labels = profiles_df.apply(lambda label: label['religion'].split(), axis=1) \n",
    "profiles_df['religion_label'] = [x[0] for x in religion_labels]"
   ]
  },
  {
   "cell_type": "code",
   "execution_count": 710,
   "metadata": {},
   "outputs": [
    {
     "data": {
      "text/plain": [
       "other           0.436020\n",
       "agnosticism     0.157496\n",
       "atheism         0.112538\n",
       "christianity    0.103027\n",
       "catholicism     0.090162\n",
       "judaism         0.053856\n",
       "buddhism        0.036204\n",
       "hinduism        0.008182\n",
       "islam           0.002516\n",
       "Name: religion_label, dtype: float64"
      ]
     },
     "execution_count": 710,
     "metadata": {},
     "output_type": "execute_result"
    }
   ],
   "source": [
    "profiles_df['religion_label'].value_counts(normalize = True)"
   ]
  },
  {
   "cell_type": "markdown",
   "metadata": {},
   "source": [
    "Over 50% of users identify as agnostic or did not state their religion. Atheism, christianity and catholicism make up about 30% while judaism, budhism, hiduism and islam are about 10% with islam being the least religion interms of users."
   ]
  },
  {
   "cell_type": "code",
   "execution_count": null,
   "metadata": {},
   "outputs": [],
   "source": []
  }
 ],
 "metadata": {
  "kernelspec": {
   "display_name": "Python 3",
   "language": "python",
   "name": "python3"
  },
  "language_info": {
   "codemirror_mode": {
    "name": "ipython",
    "version": 3
   },
   "file_extension": ".py",
   "mimetype": "text/x-python",
   "name": "python",
   "nbconvert_exporter": "python",
   "pygments_lexer": "ipython3",
   "version": "3.6.12"
  }
 },
 "nbformat": 4,
 "nbformat_minor": 4
}
